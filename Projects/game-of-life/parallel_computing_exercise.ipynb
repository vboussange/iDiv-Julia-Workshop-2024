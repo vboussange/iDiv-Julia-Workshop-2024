{
 "cells": [
  {
   "attachments": {},
   "cell_type": "markdown",
   "metadata": {},
   "source": [
    "# Exercise: parallelizing the Game of Life\n",
    "\n",
    "Last Friday, you have succesfully coded the Game of Life in Julia.\n",
    "\n",
    "Let's try to make this nice piece of code that you have written faster with multithreading!\n"
   ]
  },
  {
   "attachments": {},
   "cell_type": "markdown",
   "metadata": {},
   "source": [
    "So that you do not have to rewrite things, we provide you with the functions `count_neighbors` and `update_plot` in the `utils.jl` file located in this folder. Load those functions.\n"
   ]
  },
  {
   "cell_type": "code",
   "execution_count": 1,
   "metadata": {},
   "outputs": [],
   "source": []
  },
  {
   "attachments": {},
   "cell_type": "markdown",
   "metadata": {},
   "source": [
    "Remember, here is what the function `update_grid!` looks like:\n"
   ]
  },
  {
   "cell_type": "code",
   "execution_count": 36,
   "metadata": {},
   "outputs": [
    {
     "data": {
      "text/plain": [
       "update_grid (generic function with 1 method)"
      ]
     },
     "metadata": {},
     "output_type": "display_data"
    }
   ],
   "source": [
    "function update_grid(grid)\n",
    "    new_grid = similar(grid)\n",
    "    for idx in CartesianIndices(grid)\n",
    "        neighbors = count_neighbors(grid, idx)\n",
    "        if grid[idx] == 1 && (neighbors < 2 || neighbors > 3)\n",
    "            new_grid[idx] = 0\n",
    "        elseif grid[idx] == 0 && neighbors == 3\n",
    "            new_grid[idx] = 1\n",
    "        else\n",
    "            new_grid[idx] = grid[idx]\n",
    "        end\n",
    "    end\n",
    "    return new_grid\n",
    "end"
   ]
  },
  {
   "attachments": {},
   "cell_type": "markdown",
   "metadata": {},
   "source": [
    "Write a `update_grid_multithreading` function that runs the code in parallel, using the `Threads.@threads` utilty"
   ]
  },
  {
   "cell_type": "code",
   "execution_count": 2,
   "metadata": {},
   "outputs": [],
   "source": []
  },
  {
   "cell_type": "markdown",
   "metadata": {},
   "source": [
    "Benchmark the function `update_grid_multithreading` against the `update_grid`. Use `BenchmarkTools` to do so. You may use the function `run_simul` provided below."
   ]
  },
  {
   "cell_type": "code",
   "execution_count": 41,
   "metadata": {},
   "outputs": [
    {
     "name": "stdout",
     "output_type": "stream",
     "text": [
      "Testing `update_grid_multithreading`\n"
     ]
    },
    {
     "name": "stdout",
     "output_type": "stream",
     "text": [
      "  2.187 ms (1694 allocations: 4.03 MiB)\n",
      "Testing `update_grid`\n"
     ]
    },
    {
     "name": "stdout",
     "output_type": "stream",
     "text": [
      "  4.184 ms (103 allocations: 3.89 MiB)\n"
     ]
    }
   ],
   "source": [
    "width = 100\n",
    "height = 100\n",
    "function run_simul(update_fn)\n",
    "    # ...\n",
    "end\n",
    "\n",
    "using BenchmarkTools\n",
    "\n",
    "println(\"Testing `update_grid_multithreading`\")\n",
    "@btime #...\n",
    "\n",
    "println(\"Testing `update_grid`\")\n",
    "@btime #...\n"
   ]
  }
 ],
 "metadata": {
  "kernelspec": {
   "display_name": "Julia 1.8.5",
   "language": "julia",
   "name": "julia-1.8"
  },
  "language_info": {
   "file_extension": ".jl",
   "mimetype": "application/julia",
   "name": "julia",
   "version": "1.8.5"
  },
  "orig_nbformat": 4
 },
 "nbformat": 4,
 "nbformat_minor": 2
}
