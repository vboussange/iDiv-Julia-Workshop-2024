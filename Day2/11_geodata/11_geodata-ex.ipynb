{
 "cells": [
  {
   "cell_type": "markdown",
   "source": [
    "### Get the packages"
   ],
   "metadata": {
    "name": "A slide ",
    "slideshow": {
     "slide_type": "slide"
    }
   }
  },
  {
   "outputs": [],
   "cell_type": "code",
   "source": [
    "using Pkg; Pkg.instantiate()"
   ],
   "metadata": {},
   "execution_count": null
  },
  {
   "cell_type": "markdown",
   "source": [
    "# Geodata in Julia\n",
    "\n",
    "The geodata ecosystem in Julia has matured a lot, but is not in a fully stable state yet."
   ],
   "metadata": {
    "name": "A slide ",
    "slideshow": {
     "slide_type": "slide"
    }
   }
  },
  {
   "cell_type": "markdown",
   "source": [
    "A brief overview of a problematic situation:\n",
    "- [YAXArrays.jl](https://github.com/JuliaDataCubes/YAXArrays.jl) named multidimensional arrays\n",
    "- [Raster.jl](https://github.com/rafaqz/Rasters.jl) for raster data (geotiff, Netcdf, ascii-grid, etc)\n",
    "- [DimensionalData.jl](https://github.com/rafaqz/DimensionalData.jl) shared backend for Rasters.jl and YAXArrays.jl\n",
    "- [Shapefile.jl](https://github.com/JuliaGeo/Shapefile.jl) for, you guessed, shapefiles\n",
    "- [ArchGDAL.jl](https://github.com/yeesian/ArchGDAL.jl) for interactions with the GDAL lib\n",
    "- [Proj4.jl](https://github.com/JuliaGeo/Proj.jl) for map projections"
   ],
   "metadata": {
    "name": "A slide ",
    "slideshow": {
     "slide_type": "fragment"
    }
   }
  },
  {
   "cell_type": "markdown",
   "source": [
    "\n",
    "- https://juliageo.org/ -- biggest geo-group\n",
    "- https://github.com/JuliaEarth -- for geostatistics\n",
    "- https://ecojulia.org/ -- (spatial)ecology\n",
    "- https://github.com/GenericMappingTools/GMT.jl (for Huw)"
   ],
   "metadata": {
    "name": "A slide ",
    "slideshow": {
     "slide_type": "slide"
    }
   }
  },
  {
   "cell_type": "markdown",
   "source": [
    "## Named multidimensional data\n",
    "\n",
    "This tutorial has been adapted from various sources such as:\n",
    "- YAXArrays docs\n",
    "- https://github.com/JuliaDataCubes/datacubes_in_julia_workshop\n",
    "\n",
    "Let's start to get aquainted with YAXArrays:"
   ],
   "metadata": {
    "name": "A slide ",
    "slideshow": {
     "slide_type": "slide"
    }
   }
  },
  {
   "outputs": [],
   "cell_type": "code",
   "source": [
    "using YAXArrays\n",
    "\n",
    "yaxa_rand = YAXArray(rand(5, 10))"
   ],
   "metadata": {},
   "execution_count": null
  },
  {
   "cell_type": "markdown",
   "source": [
    "So far nothing magical has happened, why do we need a whole new package?\n",
    "If we want to create a `YAXArray` with named dimension we need the following:\n",
    "- axes or dimensions with names and tick values"
   ],
   "metadata": {
    "name": "A slide ",
    "slideshow": {
     "slide_type": "slide"
    }
   }
  },
  {
   "outputs": [],
   "cell_type": "code",
   "source": [
    "using DimensionalData\n",
    "\n",
    "axlist = (\n",
    "    Dim{:time}(range(1, 20, length=20)),\n",
    "    X(range(1, 10, length=10)),\n",
    "    Y(range(1, 5, length=15)),\n",
    "    Dim{:variable}([\"temperature\", \"precipitation\"])\n",
    ")"
   ],
   "metadata": {},
   "execution_count": null
  },
  {
   "cell_type": "markdown",
   "source": [
    "- the data to feed to the `YAXArray` matching the dimensions defined in the axlist:"
   ],
   "metadata": {
    "name": "A slide ",
    "slideshow": {
     "slide_type": "slide"
    }
   }
  },
  {
   "outputs": [],
   "cell_type": "code",
   "source": [
    "data = rand(20, 10, 15, 2)"
   ],
   "metadata": {},
   "execution_count": null
  },
  {
   "cell_type": "markdown",
   "source": [
    "- and additionally some metadata:"
   ],
   "metadata": {
    "name": "A slide ",
    "slideshow": {
     "slide_type": "slide"
    }
   }
  },
  {
   "outputs": [],
   "cell_type": "code",
   "source": [
    "props = Dict(\n",
    "    \"origin\" => \"YAXArrays.jl example\",\n",
    "    \"x\" => \"longitude\",\n",
    "    \"y\" => \"latitude\",\n",
    ");\n",
    "\n",
    "a2 = YAXArray(axlist, data, props)"
   ],
   "metadata": {},
   "execution_count": null
  },
  {
   "cell_type": "markdown",
   "source": [
    "We can now access our `YAXArray` at any variable or time point we want:"
   ],
   "metadata": {
    "name": "A slide ",
    "slideshow": {
     "slide_type": "slide"
    }
   }
  },
  {
   "outputs": [],
   "cell_type": "code",
   "source": [
    "a2[variable=At(\"temperature\"), time=1].data"
   ],
   "metadata": {},
   "execution_count": null
  },
  {
   "cell_type": "markdown",
   "source": [
    "### Reading data\n",
    "\n",
    "In order to read specific data types (Zarr, NetCDF, etc...) we need to load the necessary backend first:"
   ],
   "metadata": {
    "name": "A slide ",
    "slideshow": {
     "slide_type": "slide"
    }
   }
  },
  {
   "outputs": [],
   "cell_type": "code",
   "source": [
    "using Zarr\n",
    "\n",
    "bucket = \"esdl-esdc-v3.0.2\"\n",
    "store = \"esdc-16d-2.5deg-46x72x1440-3.0.2.zarr\"\n",
    "path = \"https://s3.bgc-jena.mpg.de:9000/\" * bucket * \"/\" * store\n",
    "c = Cube(open_dataset(zopen(path,consolidated=true,fill_as_missing=true)))"
   ],
   "metadata": {},
   "execution_count": null
  },
  {
   "cell_type": "markdown",
   "source": [
    "### Operations on data\n",
    "\n",
    "Like normal arrays you can modify the data performing simple arithmetics. Additional operations can be performed in different levels of complexity:\n",
    "- using `map`: applies functions to each element of an array\n",
    "- using `mapslices`: reduce dimensions\n",
    "- using `mapCube`: applies functions to an array that may change dimensions"
   ],
   "metadata": {
    "name": "A slide ",
    "slideshow": {
     "slide_type": "slide"
    }
   }
  },
  {
   "outputs": [],
   "cell_type": "code",
   "source": [
    "yaxa_rand.data"
   ],
   "metadata": {},
   "execution_count": null
  },
  {
   "outputs": [],
   "cell_type": "code",
   "source": [
    "add_yaxa = yaxa_rand .+ 5\n",
    "add_yaxa.data"
   ],
   "metadata": {},
   "execution_count": null
  },
  {
   "cell_type": "markdown",
   "source": [
    "Let's apply more complex functions with `map` to each element of the array individually:"
   ],
   "metadata": {
    "name": "A slide ",
    "slideshow": {
     "slide_type": "slide"
    }
   }
  },
  {
   "outputs": [],
   "cell_type": "code",
   "source": [
    "offset = 5\n",
    "map(a2) do x\n",
    "    (x + offset) / 2 * 3\n",
    "end"
   ],
   "metadata": {},
   "execution_count": null
  },
  {
   "cell_type": "markdown",
   "source": [
    "This computation happens lazily, allowing operations to run fast.\n",
    "\n",
    "Now let's see how we can apply external functions to the data:"
   ],
   "metadata": {
    "name": "A slide ",
    "slideshow": {
     "slide_type": "slide"
    }
   }
  },
  {
   "outputs": [],
   "cell_type": "code",
   "source": [
    "import Statistics: mean\n",
    "a2_timemean = mapslices(mean, a2, dims=\"Time\")"
   ],
   "metadata": {},
   "execution_count": null
  },
  {
   "cell_type": "markdown",
   "source": [
    "We computed the average value of the points in time, so no time variable is present in the final cube.\n",
    "Similartly we can compute the spatial means in one value per time step:"
   ],
   "metadata": {
    "name": "A slide ",
    "slideshow": {
     "slide_type": "slide"
    }
   }
  },
  {
   "outputs": [],
   "cell_type": "code",
   "source": [
    "a2_spacemean = mapslices(mean, a2, dims=(\"X\", \"Y\"))"
   ],
   "metadata": {},
   "execution_count": null
  },
  {
   "cell_type": "markdown",
   "source": [
    "Now to the most flexible way to apply a function: `mapCube`. With it you can directly modify dimension, adding or removing them\n",
    "\n",
    "Let's use the esdc and apply the median function:"
   ],
   "metadata": {
    "name": "A slide ",
    "slideshow": {
     "slide_type": "slide"
    }
   }
  },
  {
   "outputs": [],
   "cell_type": "code",
   "source": [
    "using Statistics\n",
    "indims = InDims(\"time\")\n",
    "outdims = OutDims()\n",
    "function apply_median(xout, xin)\n",
    "    x = filter(!ismissing, xin)\n",
    "    x = filter(!isnan,x)\n",
    "\n",
    "    xout[] = isempty(x) ? missing : median(x)\n",
    "end"
   ],
   "metadata": {},
   "execution_count": null
  },
  {
   "cell_type": "markdown",
   "source": [
    "See how the user defined function passed to mapCube has to have the signature f(outputs..., inputs...) and potentially followd by additional arguments and keyword args."
   ],
   "metadata": {
    "name": "A slide ",
    "slideshow": {
     "slide_type": "slide"
    }
   }
  },
  {
   "outputs": [],
   "cell_type": "code",
   "source": [
    "medians = mapCube(apply_median, c[Variable=Where(contains(\"temp\"))];indims, outdims)"
   ],
   "metadata": {},
   "execution_count": null
  },
  {
   "cell_type": "markdown",
   "source": [
    "# Exercise\n",
    "\n",
    "- Load \"bands.zarr\"\n",
    "- Define some spectral indices calulations for your favourite indices. Keep in mind that we have the following bands:\n",
    "  - B02 (Band 2): Blue (approximately 490 nm)\n",
    "  - B03 (Band 3): Green (approximately 560 nm)\n",
    "  - B04 (Band 4): Red (approximately 665 nm)\n",
    "  - B08 (Band 8): Near Infrared (NIR) (approximately 842 nm)\n",
    "The results are given leveraging the NDVI = (N-R)/(N+R)\n",
    "- If you use NDVI you have to divide the data by 10000 to get it in the expected range.\n",
    "- Apply this calculations to the data in the cube. Use a naive approach, `map` and `mapCube`. Are the results equivalent?"
   ],
   "metadata": {
    "name": "A slide ",
    "slideshow": {
     "slide_type": "slide"
    }
   }
  },
  {
   "cell_type": "markdown",
   "source": [
    "# Exercise solution"
   ],
   "metadata": {
    "name": "A slide ",
    "slideshow": {
     "slide_type": "slide"
    }
   }
  },
  {
   "outputs": [],
   "cell_type": "code",
   "source": [
    "path=pwd()*\"/bands.zarr\"\n",
    "bands_cube = Cube(path)"
   ],
   "metadata": {},
   "execution_count": null
  },
  {
   "cell_type": "markdown",
   "source": [
    "naive computation"
   ],
   "metadata": {}
  },
  {
   "outputs": [],
   "cell_type": "code",
   "source": [
    "N = bands_cube[bands=At(\"B08\")]\n",
    "R = bands_cube[bands=At(\"B04\")]\n",
    "ndvi_naive = (N.-R)./(N.+R)"
   ],
   "metadata": {},
   "execution_count": null
  },
  {
   "outputs": [],
   "cell_type": "code",
   "source": [
    "#map computation\n",
    "ndvi(n, r) = (n-r)/(n+r)\n",
    "ndvi_map = map(ndvi, N, R)\n",
    "\n",
    "ndvi_naive == ndvi_map"
   ],
   "metadata": {},
   "execution_count": null
  },
  {
   "outputs": [],
   "cell_type": "code",
   "source": [
    "#mapCube computation\n",
    "\n",
    "#remodel the function to feed it to mapCube\n",
    "function ndvi_mc(xout, x1, x2)\n",
    "    xout .= ndvi.(x1, x2)\n",
    "end\n",
    "\n",
    "#provide in and out dimensions\n",
    "in_dims = InDims(\"x\") # the second one will be inferred\n",
    "out_dims = OutDims(\"x\") # ditto"
   ],
   "metadata": {},
   "execution_count": null
  },
  {
   "cell_type": "markdown",
   "source": [
    "put it all together"
   ],
   "metadata": {}
  },
  {
   "outputs": [],
   "cell_type": "code",
   "source": [
    "ndvi_mapcube = mapCube(ndvi_mc, (N, R), indims=(in_dims, in_dims),\n",
    "    outdims=OutDims(\"x\", outtype=Float64))\n",
    "\n",
    "ndvi_mapcube == ndvi_map"
   ],
   "metadata": {},
   "execution_count": null
  }
 ],
 "nbformat_minor": 3,
 "metadata": {
  "language_info": {
   "file_extension": ".jl",
   "mimetype": "application/julia",
   "name": "julia",
   "version": "1.10.3"
  },
  "kernelspec": {
   "name": "julia-1.10",
   "display_name": "Julia 1.10.3",
   "language": "julia"
  }
 },
 "nbformat": 4
}
