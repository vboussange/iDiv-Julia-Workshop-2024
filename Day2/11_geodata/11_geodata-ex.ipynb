{
 "cells": [
  {
   "cell_type": "markdown",
   "source": [
    "### Get the packages"
   ],
   "metadata": {
    "name": "A slide ",
    "slideshow": {
     "slide_type": "slide"
    }
   }
  },
  {
   "outputs": [],
   "cell_type": "code",
   "source": [
    "using Pkg; Pkg.instantiate()"
   ],
   "metadata": {},
   "execution_count": null
  },
  {
   "cell_type": "markdown",
   "source": [
    "# Geodata in Julia\n",
    "\n",
    "The geodata ecosystem in Julia has matured a lot, but is not in a fully stable state yet.\n",
    "\n",
    "My geodata skills are pretty basic, but here is what I know..."
   ],
   "metadata": {
    "name": "A slide ",
    "slideshow": {
     "slide_type": "slide"
    }
   }
  },
  {
   "cell_type": "markdown",
   "source": [
    "My stack:\n",
    "- [Raster.jl](https://github.com/rafaqz/Rasters.jl) for raster data (geotiff, Netcdf, ascii-grid, etc)\n",
    "- [Shapefile.jl](https://github.com/JuliaGeo/Shapefile.jl) for, you guessed, shapefiles\n",
    "- [ArchGDAL.jl](https://github.com/yeesian/ArchGDAL.jl) for interactions with the GDAL lib\n",
    "- [Proj4.jl](https://github.com/JuliaGeo/Proj.jl) for map projections"
   ],
   "metadata": {
    "name": "A slide ",
    "slideshow": {
     "slide_type": "fragment"
    }
   }
  },
  {
   "cell_type": "markdown",
   "source": [
    "## Geo Ecosystem\n",
    "\n",
    "- https://juliageo.org/ -- biggest geo-group\n",
    "- https://github.com/JuliaEarth -- for geostatistics\n",
    "- https://ecojulia.org/ -- (spatial)ecology\n",
    "- https://github.com/GenericMappingTools/GMT.jl (for Huw)"
   ],
   "metadata": {
    "name": "A slide ",
    "slideshow": {
     "slide_type": "slide"
    }
   }
  },
  {
   "cell_type": "markdown",
   "source": [
    "## Raster data\n",
    "\n",
    "(a good tutorial https://github.com/xKDR/datascience-tutorials)\n",
    "\n",
    "First download some data:"
   ],
   "metadata": {
    "name": "A slide ",
    "slideshow": {
     "slide_type": "slide"
    }
   }
  },
  {
   "outputs": [],
   "cell_type": "code",
   "source": [
    "using Downloads # ships with Julia\n",
    "using Rasters, ZipFile\n",
    "mkpath(\"data\")\n",
    "# download if not already downloaded\n",
    "!isfile(\"data/dhm200.zip\") && Downloads.download(\"https://data.geo.admin.ch/ch.swisstopo.digitales-hoehenmodell_25/data.zip\", \"data/dhm200.zip\")\n",
    "# this extracts the file we want from the zip-file (yep, a bit complicated)\n",
    "zip = ZipFile.Reader(\"data/dhm200.zip\")\n",
    "write(\"data/dhm200.asc\", read(zip.files[1]))\n",
    "close(zip)\n",
    "\n",
    "ra = Raster(\"data/dhm200.asc\")"
   ],
   "metadata": {},
   "execution_count": null
  },
  {
   "cell_type": "markdown",
   "source": [
    "### Plot raster"
   ],
   "metadata": {
    "name": "A slide ",
    "slideshow": {
     "slide_type": "slide"
    }
   }
  },
  {
   "outputs": [],
   "cell_type": "code",
   "source": [
    "using Plots\n",
    "plotly()  # use the Plotly.jl backend, this allows zooming withing the Jupyter notebook\n",
    "plot(ra, ticks=:native,   # thus Rasters.jl provides a plot-receipt and plotting is easy\n",
    "     size=(1000,700),     # make it bigger\n",
    "     max_res=2000)        # Rasters downsamples before plotting to make plotting faster.  Max number of gridpoints"
   ],
   "metadata": {},
   "execution_count": null
  },
  {
   "cell_type": "markdown",
   "source": [
    "### Index raster\n",
    "\n",
    "Rasters have powerful (but also complicated) indexing capabilities.\n",
    "\n",
    "See https://rafaqz.github.io/Rasters.jl/stable/"
   ],
   "metadata": {
    "name": "A slide ",
    "slideshow": {
     "slide_type": "slide"
    }
   }
  },
  {
   "outputs": [],
   "cell_type": "code",
   "source": [
    "ra[5,6] # index the underlying matrix normally\n",
    "\n",
    "ra[X(Near(600000)), Y(Near(250876))]     # shows where the x-y are"
   ],
   "metadata": {},
   "execution_count": null
  },
  {
   "outputs": [],
   "cell_type": "code",
   "source": [
    "ra[X(Near(600000)), Y(Near(250876))][1]  # index with the [1] to get the value out"
   ],
   "metadata": {},
   "execution_count": null
  },
  {
   "outputs": [],
   "cell_type": "code",
   "source": [
    "ra[X(500000..550000), Y(130000..150000)] # a range"
   ],
   "metadata": {},
   "execution_count": null
  },
  {
   "cell_type": "markdown",
   "source": [
    "### Other raster operations\n",
    "\n",
    "resample, mosaic, crop...\n",
    "\n",
    "See the [docs](https://rafaqz.github.io/Rasters.jl/stable/#Methods-that-change-the-reslolution-or-extent-of-an-object)"
   ],
   "metadata": {
    "name": "A slide ",
    "slideshow": {
     "slide_type": "slide"
    }
   }
  },
  {
   "cell_type": "markdown",
   "source": [
    "### Rasters can be used like normal arrays\n",
    "\n",
    "Example play game of life."
   ],
   "metadata": {
    "name": "A slide ",
    "slideshow": {
     "slide_type": "slide"
    }
   }
  },
  {
   "outputs": [],
   "cell_type": "code",
   "source": [
    "grid = ra .> 1000 # all cells above 1000m a.s.l. are alive\n",
    "include(\"game-of-life.jl\") # load the file with the GOL functions\n",
    "for i=1:5; update_grid!(grid) end # run 5 iterations\n",
    "plot(grid)  # note that grid is still a Raster"
   ],
   "metadata": {},
   "execution_count": null
  },
  {
   "cell_type": "markdown",
   "source": [
    "### Shapefiles\n",
    "\n",
    "Shapefiles contain vector polygons (and such)\n",
    "\n",
    "First, download and extract data about zip-code (PLZ) areas in Switzerland"
   ],
   "metadata": {
    "name": "A slide ",
    "slideshow": {
     "slide_type": "slide"
    }
   }
  },
  {
   "outputs": [],
   "cell_type": "code",
   "source": [
    "!isfile(\"data/plz.zip\") && Downloads.download(\"https://data.geo.admin.ch/ch.swisstopo-vd.ortschaftenverzeichnis_plz/PLZO_SHP_LV03.zip\", \"data/plz.zip\")\n",
    "zip = ZipFile.Reader(\"data/plz.zip\")\n",
    "for f in zip.files\n",
    "    name = basename(f.name)\n",
    "    if startswith(name, \"PLZO_PLZ\")\n",
    "        write(\"data/$(name)\", read(f))\n",
    "    end\n",
    "end\n",
    "close(zip)"
   ],
   "metadata": {},
   "execution_count": null
  },
  {
   "cell_type": "markdown",
   "source": [
    "### Shapefiles\n",
    "\n",
    "Read it and select Zermatt (3920)"
   ],
   "metadata": {
    "name": "A slide ",
    "slideshow": {
     "slide_type": "slide"
    }
   }
  },
  {
   "outputs": [],
   "cell_type": "code",
   "source": [
    "using Shapefile\n",
    "tab = Shapefile.Table(\"data/PLZO_PLZ.shp\")\n",
    "\n",
    "zermatt = findfirst(tab.PLZ.==3920)\n",
    "plot(tab.geometry[zermatt])"
   ],
   "metadata": {},
   "execution_count": null
  },
  {
   "cell_type": "markdown",
   "source": [
    "### Shapefiles & DataFrames\n",
    "\n",
    "Shapefiles contain tables of attributes which can be handled with DataFrames, if so desired"
   ],
   "metadata": {
    "name": "A slide ",
    "slideshow": {
     "slide_type": "slide"
    }
   }
  },
  {
   "outputs": [],
   "cell_type": "code",
   "source": [
    "using DataFrames\n",
    "DataFrame(tab)"
   ],
   "metadata": {},
   "execution_count": null
  },
  {
   "cell_type": "markdown",
   "source": [
    "### Shapefiles polygons\n",
    "\n",
    "Shapefiles contain polygons, the can be accessed with:"
   ],
   "metadata": {
    "name": "A slide ",
    "slideshow": {
     "slide_type": "slide"
    }
   }
  },
  {
   "outputs": [],
   "cell_type": "code",
   "source": [
    "shp = Shapefile.shapes(tab)\n",
    "poly = shp[1]\n",
    "Rasters.GeoInterface.coordinates.(poly.points) # points in a vector"
   ],
   "metadata": {},
   "execution_count": null
  },
  {
   "cell_type": "markdown",
   "source": [
    "### Crop and mask raster\n",
    "\n",
    "Read it and select Zermatt (3920)"
   ],
   "metadata": {
    "name": "A slide ",
    "slideshow": {
     "slide_type": "slide"
    }
   }
  },
  {
   "outputs": [],
   "cell_type": "code",
   "source": [
    "ra_z = crop(ra; to = tab.geometry[zermatt])\n",
    "mask_z = mask(ra_z, with = tab.geometry[zermatt])\n",
    "plot(mask_z)"
   ],
   "metadata": {},
   "execution_count": null
  },
  {
   "cell_type": "markdown",
   "source": [
    "# Exercise\n",
    "\n",
    "- Download the Swiss Glacier Inventory 2016 from https://www.glamos.ch/en/downloads#inventories/B56-03\n",
    "- look up Gornergletscher\n",
    "- plot it into the last plot we just did\n",
    "- mask the elevation map with the Gornergletscher outline and calculate the mean elevation"
   ],
   "metadata": {
    "name": "A slide ",
    "slideshow": {
     "slide_type": "slide"
    }
   }
  },
  {
   "cell_type": "markdown",
   "source": [
    "# Exercise solution"
   ],
   "metadata": {
    "name": "A slide ",
    "slideshow": {
     "slide_type": "slide"
    }
   }
  },
  {
   "outputs": [],
   "cell_type": "code",
   "source": [
    "!isfile(\"data/sgi.zip\") && Downloads.download(\"https://doi.glamos.ch/data/inventory/inventory_sgi2016_r2020.zip\", \"data/sgi.zip\")\n",
    "zip = ZipFile.Reader(\"data/sgi.zip\")\n",
    "for f in zip.files\n",
    "    name = basename(f.name)\n",
    "    if startswith(name, \"SGI_2016_glaciers\")\n",
    "        write(\"data/$(name)\", read(f))\n",
    "    end\n",
    "end\n",
    "close(zip)"
   ],
   "metadata": {},
   "execution_count": null
  },
  {
   "outputs": [],
   "cell_type": "code",
   "source": [
    "using Shapefile\n",
    "sgi = Shapefile.Table(\"data/SGI_2016_glaciers.shp\")\n",
    "ind = findfirst(skipmissing(sgi.name.==\"Gornergletscher\"))\n",
    "\n",
    "plot(sgi.geometry[ind])"
   ],
   "metadata": {},
   "execution_count": null
  },
  {
   "cell_type": "markdown",
   "source": [
    "load DHM again with the CRS (coord reference system) specifed"
   ],
   "metadata": {}
  },
  {
   "outputs": [],
   "cell_type": "code",
   "source": [
    "ra = Raster(\"data/dhm200.asc\", crs=EPSG(21781))\n",
    "\n",
    "ra_z = crop(ra; to = tab.geometry[zermatt])\n",
    "mask_z = mask(ra_z, with = tab.geometry[zermatt])"
   ],
   "metadata": {},
   "execution_count": null
  },
  {
   "cell_type": "markdown",
   "source": [
    "The shapefile for Gorner is in the newer LV95 coordinates.\n",
    "-> transform the raster to LV95 (only the already cropped one)"
   ],
   "metadata": {}
  },
  {
   "outputs": [],
   "cell_type": "code",
   "source": [
    "lv95 = EPSG(2056)\n",
    "ra_z_95 = resample(ra_z, 1, crs=lv95)"
   ],
   "metadata": {},
   "execution_count": null
  },
  {
   "outputs": [],
   "cell_type": "code",
   "source": [
    "mask_gor = mask(ra_z_95, with = sgi.geometry[ind])\n",
    "using Plots\n",
    "plot(mask_gor)"
   ],
   "metadata": {},
   "execution_count": null
  },
  {
   "cell_type": "markdown",
   "source": [
    "mean elevation, just count the not masked points (mask is -9999)"
   ],
   "metadata": {}
  },
  {
   "outputs": [],
   "cell_type": "code",
   "source": [
    "using Statistics\n",
    "mean(mask_gor[mask_gor[:].>0])"
   ],
   "metadata": {},
   "execution_count": null
  }
 ],
 "nbformat_minor": 3,
 "metadata": {
  "language_info": {
   "file_extension": ".jl",
   "mimetype": "application/julia",
   "name": "julia",
   "version": "1.8.3"
  },
  "kernelspec": {
   "name": "julia-1.8",
   "display_name": "Julia 1.8.3",
   "language": "julia"
  }
 },
 "nbformat": 4
}
