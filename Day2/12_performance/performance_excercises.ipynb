{
 "cells": [
  {
   "cell_type": "markdown",
   "metadata": {
    "name": "A slide ",
    "slideshow": {
     "slide_type": "slide"
    }
   },
   "source": [
    "# Performance optimisation in Julia\n",
    "\n",
    "We will cover:\n",
    "- profiling\n",
    "- run-time classes\n",
    "- code tuning"
   ]
  },
  {
   "cell_type": "markdown",
   "metadata": {
    "name": "A slide ",
    "slideshow": {
     "slide_type": "slide"
    }
   },
   "source": [
    "<div class=\"alert alert-block alert-info\" title=\"Aside 1\">\n",
    "\n",
    "These slides are a [Jupyter notebook](https://jupyter.org/); a browser-based computational notebook.\n",
    "\n",
    "Code cells are executed by putting the cursor into the cell and hitting `shift + enter`.  For more\n",
    "info see the [documentation](https://jupyter-notebook.readthedocs.io/en/stable/).\n",
    "\n",
    "</div>"
   ]
  },
  {
   "cell_type": "markdown",
   "metadata": {
    "name": "A slide ",
    "slideshow": {
     "slide_type": "slide"
    }
   },
   "source": [
    "## Profiling\n",
    "\n",
    "When you want to improve the performance of a program, the first important thing to do is to find out which part of your program is taking the most time to execute. This can be done by profiling. Profiling is also important when comparing the performance of two different implementations of the same task.\n",
    "\n",
    "Very simple profiling can be done using the `@time` macro, which simply prints out how long a given statement took to execute. More advanced analysis is possible with `@profile`, which gives an insight into which part of the code required how much processing time."
   ]
  },
  {
   "cell_type": "markdown",
   "metadata": {},
   "source": [
    "### Exercise 1: converting to Celsius\n",
    "\n",
    "Imagine you are working with a data source that uses Fahrenheit, but your calculations require degrees Celsius. How do you best convert a large number of values from one to the other?"
   ]
  },
  {
   "cell_type": "code",
   "execution_count": 36,
   "metadata": {
    "scrolled": true
   },
   "outputs": [
    {
     "name": "stdout",
     "output_type": "stream",
     "text": [
      "  0.019291 seconds (1.00 M allocations: 25.040 MiB, 15.71% gc time)\n",
      "  0.001368 seconds (2 allocations: 7.629 MiB)\n"
     ]
    }
   ],
   "source": [
    "using Random, Profile\n",
    "\n",
    "## Option A: the \"naive\" function using a for loop and building up the result vector as we go\n",
    "function converttocelsiusA(fahrenheit::Vector)\n",
    "    celsius = []\n",
    "    for f in fahrenheit\n",
    "        push!(celsius, (f-32)*(5/9))\n",
    "    end\n",
    "    celsius\n",
    "end\n",
    "\n",
    "## Option B: using an anonymous function and `map`\n",
    "function converttocelsiusB(fahrenheit::Vector)\n",
    "    celsius = f -> (f-32)*(5/9)\n",
    "    map(celsius, fahrenheit)\n",
    "end\n",
    "\n",
    "## create a random vector of 1 million numbers\n",
    "fahrenheits = rand(0:250, 1000000)\n",
    "\n",
    "## run the functions once to make sure they are compiled\n",
    "## (the first execution is always much slower!)\n",
    "converttocelsiusA(fahrenheits);\n",
    "converttocelsiusB(fahrenheits);\n",
    "\n",
    "## Note: adding a semi-colon after a line of code suppresses\n",
    "## the REPL output - in this case, we don't want to see the array\n",
    "## that is produced, we're just interested in the runtime\n",
    "\n",
    "## then use the @time macro to find out how efficient each function is\n",
    "@time(converttocelsiusA(fahrenheits));\n",
    "@time(converttocelsiusB(fahrenheits));"
   ]
  },
  {
   "cell_type": "markdown",
   "metadata": {},
   "source": [
    "Run the code above several times to get a feel for how the execution times change, as there is always some random fluctuation. (Also, the first run is always slower because it includes the compilation time.) Still, you should see that the second option is a lot faster.\n",
    "\n",
    "However, vectorised code can be harder to write and understand than code that uses loops. So is it possible to speed up the first function? Let's take a look at this adapted version:"
   ]
  },
  {
   "cell_type": "code",
   "execution_count": 47,
   "metadata": {},
   "outputs": [
    {
     "name": "stdout",
     "output_type": "stream",
     "text": [
      "  0.001180 seconds (2 allocations: 7.629 MiB)\n"
     ]
    }
   ],
   "source": [
    "## Option C / A2: uses a loop like the first function, but preallocates the vector to avoid using push!()\n",
    "function converttocelsiusA2(fahrenheit::Vector)\n",
    "    celsius = Vector{Float64}(undef, length(fahrenheit))\n",
    "    for f in eachindex(fahrenheit)\n",
    "        celsius[f] = (fahrenheit[f]-32)*(5/9)\n",
    "    end\n",
    "    celsius\n",
    "end\n",
    "\n",
    "converttocelsiusA2(fahrenheits);\n",
    "\n",
    "@time(converttocelsiusA2(fahrenheits));"
   ]
  },
  {
   "cell_type": "markdown",
   "metadata": {},
   "source": [
    "Avoiding the allocations has allowed us to speed up the loop to a similar level as the vectorised code."
   ]
  },
  {
   "cell_type": "markdown",
   "metadata": {},
   "source": [
    "### Exercise 2: Plant reproduction\n",
    "\n",
    "The `@profile` macro works by taking snapshots of the execution of your code every few milliseconds. At every snapshot, it records which function is currently executing, and which function(s) called this function. When your code is done, you thus get an insight into how much time the computer spends executing each subfunction.\n",
    "\n",
    "Consider this mini-model of a plant population, in which only the largest plants can reproduce. Which part of the model is more computationally expensive - finding the largest plants or letting them reproduce? Which parameters influence this?\n",
    "\n",
    "*(As before, execute this code several times to allow for compilation.)*"
   ]
  },
  {
   "cell_type": "code",
   "execution_count": 60,
   "metadata": {},
   "outputs": [
    {
     "name": "stdout",
     "output_type": "stream",
     "text": [
      " Count  Overhead File                    Line Function\n",
      " =====  ======== ====                    ==== ========\n",
      "     1         1 In[60]                     ? findlargest(plants::Vector{Plant})\n",
      "    12         0 In[60]                    16 findlargest(plants::Vector{Plant})\n",
      "     3         3 In[60]                    19 findlargest(plants::Vector{Plant})\n",
      "    14         0 In[60]                    31 reproduce!(plants::Vector{Plant})\n",
      "    16         0 In[60]                    39 updateplants(plants::Vector{Plant…\n",
      "    14         0 In[60]                    40 updateplants(plants::Vector{Plant…\n",
      "     8         8 @Base/array.jl          1026 __inbounds_setindex!\n",
      "     5         5 @Base/array.jl          1072 _growend!\n",
      "     1         0 @Base/array.jl           411 copy\n",
      "     5         0 @Base/array.jl          1126 push!\n",
      "     8         0 @Base/array.jl          1127 push!\n",
      "    73        41 @Base/boot.jl            385 eval\n",
      "     1         0 …ractinterpretation.jl  2162 abstract_call(interp::Core.Compil…\n",
      "     1         0 …ractinterpretation.jl  2169 abstract_call(interp::Core.Compil…\n",
      "     1         0 …ractinterpretation.jl  2354 abstract_call(interp::Core.Compil…\n",
      "     1         0 …ractinterpretation.jl    95 abstract_call_gf_by_type(interp::…\n",
      "     1         0 …ractinterpretation.jl  2087 abstract_call_known(interp::Core.…\n",
      "     1         0 …ractinterpretation.jl   629 abstract_call_method(interp::Core…\n",
      "     1         0 …ractinterpretation.jl  2913 abstract_eval_basic_statement(int…\n",
      "     1         0 …ractinterpretation.jl  2370 abstract_eval_call(interp::Core.C…\n",
      "     1         0 …ractinterpretation.jl  2624 abstract_eval_statement(interp::C…\n",
      "     1         0 …ractinterpretation.jl  2380 abstract_eval_statement_expr(inte…\n",
      "     1         0 …ractinterpretation.jl  3033 typeinf_local(interp::Core.Compil…\n",
      "     1         0 …ractinterpretation.jl  3098 typeinf_local(interp::Core.Compil…\n",
      "     1         0 …ractinterpretation.jl  3186 typeinf_nocycle(interp::Core.Comp…\n",
      "     1         0 …ractinterpretation.jl  2923 update_bbstate!\n",
      "     1         0 …/compiler/optimize.jl   453 optimize\n",
      "     1         0 …/compiler/optimize.jl   489 run_passes(ci::Core.CodeInfo, sv:…\n",
      "     1         0 …/compiler/optimize.jl   504 run_passes\n",
      "     1         0 …ler/ssair/inlining.jl    81 ssa_inlining_pass!\n",
      "     1         0 …compiler/typeinfer.jl   247 _typeinf(interp::Core.Compiler.Na…\n",
      "     1         0 …compiler/typeinfer.jl   272 _typeinf(interp::Core.Compiler.Na…\n",
      "     2         0 …compiler/typeinfer.jl   216 typeinf(interp::Core.Compiler.Nat…\n",
      "     1         0 …compiler/typeinfer.jl   930 typeinf_edge(interp::Core.Compile…\n",
      "     2         0 …compiler/typeinfer.jl  1051 typeinf_ext(interp::Core.Compiler…\n",
      "     2         0 …compiler/typeinfer.jl  1078 typeinf_ext_toplevel(mi::Core.Met…\n",
      "     2         0 …compiler/typeinfer.jl  1082 typeinf_ext_toplevel(interp::Core…\n",
      "     1         1 …ase/compiler/types.jl   381 OptimizationParams\n",
      "    73         0 @Base/essentials.jl      892 #invokelatest#2\n",
      "     5         5 @Base/essentials.jl       13 getindex\n",
      "    73         0 @Base/essentials.jl      889 invokelatest\n",
      "     1         1 @Base/essentials.jl       10 length\n",
      "     7         7 @Base/int.jl              83 <\n",
      "    73         0 @Base/loading.jl        2076 include_string(mapexpr::typeof(RE…\n",
      "     7         0 @Base/operators.jl       378 >\n",
      "    73         0 …ulia/src/eventloop.jl    38 (::IJulia.var\"#15#18\")()\n",
      "    73         0 …ulia/src/eventloop.jl     8 eventloop(socket::ZMQ.Socket)\n",
      "    73         0 …rc/execute_request.jl    67 execute_request(socket::ZMQ.Socke…\n",
      "    73         0 …rc/SoftGlobalScope.jl    65 softscope_include_string(m::Modul…\n",
      "Total snapshots: 80. Utilization: 100% across all threads and tasks. Use the `groupby` kwarg to break down by thread and/or task.\n"
     ]
    }
   ],
   "source": [
    "## A simple plant type\n",
    "struct Plant\n",
    "    id::Int\n",
    "    size::Int\n",
    "    seeds::Int\n",
    "end\n",
    "\n",
    "## Initialise 10 million plants\n",
    "biome = [Plant(p, rand(1:10000), 1000) for p in 1:10000000]\n",
    "\n",
    "## Return the indices of the largest plants\n",
    "function findlargest(plants::Vector{Plant})\n",
    "    maxsize = 0\n",
    "    ids = []\n",
    "    for p in eachindex(plants)\n",
    "        if plants[p].size > maxsize\n",
    "            maxsize = plants[p].size\n",
    "            ids = [p]\n",
    "        elseif plants[p].size == maxsize\n",
    "            push!(ids, p)\n",
    "        end\n",
    "    end\n",
    "    return ids\n",
    "end\n",
    "\n",
    "## Return a vector filled with one new plant for every seed produced by the input plants\n",
    "function reproduce!(plants::Vector{Plant})\n",
    "    offspring = []\n",
    "    for p in plants\n",
    "        for s in 1:p.seeds\n",
    "            push!(offspring, Plant(length(plants)+length(offspring), p.size, p.seeds))\n",
    "        end\n",
    "    end\n",
    "    offspring\n",
    "end\n",
    "\n",
    "## Find the largest plants and let only these reproduce\n",
    "function updateplants(plants::Vector{Plant})\n",
    "    largest = findlargest(plants)\n",
    "    reproduce!(plants[largest])\n",
    "end\n",
    "\n",
    "## Finally, profile our mini-model and show the results\n",
    "Profile.clear()\n",
    "@profile updateplants(biome);\n",
    "Profile.print(format=:flat)"
   ]
  },
  {
   "cell_type": "markdown",
   "metadata": {},
   "source": [
    "# Run-time classes\n",
    "\n",
    "*TODO*"
   ]
  },
  {
   "cell_type": "markdown",
   "metadata": {},
   "source": [
    "# Code tuning\n",
    "\n",
    "*TODO*"
   ]
  }
 ],
 "metadata": {
  "kernelspec": {
   "display_name": "Julia 1.10.4",
   "language": "julia",
   "name": "julia-1.10"
  },
  "language_info": {
   "file_extension": ".jl",
   "mimetype": "application/julia",
   "name": "julia",
   "version": "1.10.4"
  }
 },
 "nbformat": 4,
 "nbformat_minor": 3
}
