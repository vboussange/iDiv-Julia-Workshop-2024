{
 "cells": [
  {
   "cell_type": "markdown",
   "metadata": {
    "name": "A slide ",
    "slideshow": {
     "slide_type": "slide"
    }
   },
   "source": [
    "# Performance optimisation in Julia\n",
    "\n",
    "We will cover:\n",
    "- profiling\n",
    "- run-time classes\n",
    "- code tuning"
   ]
  },
  {
   "cell_type": "markdown",
   "metadata": {
    "name": "A slide ",
    "slideshow": {
     "slide_type": "slide"
    }
   },
   "source": [
    "<div class=\"alert alert-block alert-info\" title=\"Aside 1\">\n",
    "\n",
    "These slides are a [Jupyter notebook](https://jupyter.org/); a browser-based computational notebook.\n",
    "\n",
    "Code cells are executed by putting the cursor into the cell and hitting `shift + enter`.  For more\n",
    "info see the [documentation](https://jupyter-notebook.readthedocs.io/en/stable/).\n",
    "\n",
    "</div>"
   ]
  },
  {
   "cell_type": "markdown",
   "metadata": {
    "name": "A slide ",
    "slideshow": {
     "slide_type": "slide"
    }
   },
   "source": [
    "## Profiling\n",
    "\n",
    "When you want to improve the performance of a program, the first important thing to do is to find out which part of your program is taking the most time to execute. This can be done by profiling. Profiling is also important when comparing the performance of two different implementations of the same task.\n",
    "\n",
    "Very simple profiling can be done using the `@time` macro, which simply prints out how long a given statement took to execute. More advanced analysis is possible with `@profile`, which gives an insight into which part of the code required how much processing time."
   ]
  },
  {
   "cell_type": "markdown",
   "metadata": {},
   "source": [
    "### Exercise 1: converting to Celsius\n",
    "\n",
    "Imagine you are working with a data source that uses Fahrenheit, but your calculations require degrees Celsius. How do you best convert a large number of values from one to the other?"
   ]
  },
  {
   "cell_type": "code",
   "execution_count": 1,
   "metadata": {
    "scrolled": true
   },
   "outputs": [],
   "source": [
    "using Random, Profile\n",
    "\n",
    "## Option A: the \"naive\" function using a for loop and building up the result vector as we go\n",
    "function converttocelsiusA(fahrenheit::Vector)\n",
    "    celsius = []\n",
    "    for f in fahrenheit\n",
    "        push!(celsius, (f-32)*(5/9))\n",
    "    end\n",
    "    celsius\n",
    "end\n",
    "\n",
    "## Option B: using an anonymous function and `map`\n",
    "function converttocelsiusB(fahrenheit::Vector)\n",
    "    celsius = f -> (f-32)*(5/9)\n",
    "    map(celsius, fahrenheit)\n",
    "end\n",
    "\n",
    "## create a random vector of 1 million numbers\n",
    "fahrenheits = rand(0:250, 1000000)\n",
    "\n",
    "## precompile the functions to save time when you run\n",
    "## them for the first time\n",
    "precompile(converttocelsiusA, (Vector,));\n",
    "precompile(converttocelsiusB, (Vector,));"
   ]
  },
  {
   "cell_type": "code",
   "execution_count": 4,
   "metadata": {},
   "outputs": [
    {
     "name": "stdout",
     "output_type": "stream",
     "text": [
      "  0.023582 seconds (1.00 M allocations: 25.040 MiB)\n",
      "  0.005190 seconds (2 allocations: 7.629 MiB, 69.98% gc time)\n"
     ]
    }
   ],
   "source": [
    "## Note: adding a semi-colon after a line of code suppresses\n",
    "## the REPL output - in this case, we don't want to see the array\n",
    "## that is produced, we're just interested in the runtime\n",
    "\n",
    "## then use the @time macro to find out how efficient each function is\n",
    "@time(converttocelsiusA(fahrenheits));\n",
    "@time(converttocelsiusB(fahrenheits));"
   ]
  },
  {
   "cell_type": "markdown",
   "metadata": {},
   "source": [
    "Run the code above several times to get a feel for how the execution times change, as there is always some random fluctuation. (Also, the first run is always slower because it includes the compilation time.) Still, you should see that the second option is a lot faster.\n",
    "\n",
    "However, vectorised code can be harder to write and understand than code that uses loops. So is it possible to speed up the first function? Let's take a look at this adapted version:"
   ]
  },
  {
   "cell_type": "code",
   "execution_count": 6,
   "metadata": {},
   "outputs": [
    {
     "name": "stdout",
     "output_type": "stream",
     "text": [
      "  0.003631 seconds (2 allocations: 7.629 MiB)\n"
     ]
    }
   ],
   "source": [
    "## Option C / A2: uses a loop like the first function, but preallocates the vector to avoid using push!()\n",
    "function converttocelsiusA2(fahrenheit::Vector)\n",
    "    celsius = Vector{Float64}(undef, length(fahrenheit))\n",
    "    for f in eachindex(fahrenheit)\n",
    "        celsius[f] = (fahrenheit[f]-32)*(5/9)\n",
    "    end\n",
    "    celsius\n",
    "end\n",
    "\n",
    "converttocelsiusA2(fahrenheits);\n",
    "\n",
    "@time(converttocelsiusA2(fahrenheits));"
   ]
  },
  {
   "cell_type": "markdown",
   "metadata": {},
   "source": [
    "Avoiding the allocations has allowed us to speed up the loop to a similar level as the vectorised code."
   ]
  },
  {
   "cell_type": "markdown",
   "metadata": {},
   "source": [
    "### Exercise 2: Plant reproduction\n",
    "\n",
    "The `@profile` macro works by taking snapshots of the execution of your code every few milliseconds. At every snapshot, it records which function is currently executing, and which function(s) called this function. When your code is done, you thus get an insight into how much time the computer spends executing each subfunction.\n",
    "\n",
    "Consider this mini-model of a plant population, in which only the largest plants can reproduce. Which part of the model is more computationally expensive - finding the largest plants or letting them reproduce? Which parameters influence this?\n",
    "\n",
    "*(As before, execute this code several times to allow for compilation.)*"
   ]
  },
  {
   "cell_type": "code",
   "execution_count": 10,
   "metadata": {},
   "outputs": [
    {
     "name": "stdout",
     "output_type": "stream",
     "text": [
      " Count  Overhead File                    Line Function\n",
      " =====  ======== ====                    ==== ========\n",
      "    94         0 @Base/Base.jl            495 include(mod::Module, _path::Strin…\n",
      "     6         6 @Base/array.jl          1026 __inbounds_setindex!\n",
      "     6         6 @Base/array.jl          1072 _growend!\n",
      "     1         1 @Base/array.jl             ? push!\n",
      "     6         0 @Base/array.jl          1126 push!\n",
      "     6         0 @Base/array.jl          1127 push!\n",
      "    94        56 @Base/boot.jl            385 eval\n",
      "    94         0 @Base/client.jl          552 _start()\n",
      "    94         0 @Base/client.jl          318 exec_options(opts::Base.JLOptions)\n",
      "     2         0 …ractinterpretation.jl  2162 abstract_call(interp::Core.Compil…\n",
      "     2         0 …ractinterpretation.jl  2169 abstract_call(interp::Core.Compil…\n",
      "     2         0 …ractinterpretation.jl  2354 abstract_call(interp::Core.Compil…\n",
      "     2         0 …ractinterpretation.jl    95 abstract_call_gf_by_type(interp::…\n",
      "     2         0 …ractinterpretation.jl  2087 abstract_call_known(interp::Core.…\n",
      "     2         0 …ractinterpretation.jl   629 abstract_call_method(interp::Core…\n",
      "     1         0 …ractinterpretation.jl  2889 abstract_eval_basic_statement(int…\n",
      "     1         0 …ractinterpretation.jl  2913 abstract_eval_basic_statement(int…\n",
      "     2         0 …ractinterpretation.jl  2370 abstract_eval_call(interp::Core.C…\n",
      "     2         0 …ractinterpretation.jl  2624 abstract_eval_statement(interp::C…\n",
      "     2         0 …ractinterpretation.jl  2380 abstract_eval_statement_expr(inte…\n",
      "     2         0 …ractinterpretation.jl  3098 typeinf_local(interp::Core.Compil…\n",
      "     2         0 …ractinterpretation.jl  3186 typeinf_nocycle(interp::Core.Comp…\n",
      "     2         0 …/compiler/optimize.jl   453 optimize\n",
      "     2         0 …/compiler/optimize.jl   489 run_passes(ci::Core.CodeInfo, sv:…\n",
      "     2         0 …/compiler/optimize.jl   504 run_passes\n",
      "     1         0 …/compiler/ssair/ir.jl   524 _advance(stmt::Any, op::Int64)\n",
      "     1         1 …/compiler/ssair/ir.jl   442 _useref_getindex(stmt::Any, op::I…\n",
      "     1         0 …/compiler/ssair/ir.jl   799 count_added_node!(compact::Core.C…\n",
      "     1         0 …/compiler/ssair/ir.jl   839 insert_node!\n",
      "     1         0 …/compiler/ssair/ir.jl   842 insert_node!(compact::Core.Compil…\n",
      "     1         0 …/compiler/ssair/ir.jl   531 iterate\n",
      "     1         0 …/compiler/ssair/ir.jl   532 iterate\n",
      "     1         0 …piler/ssair/passes.jl  1791 adce_pass!(ir::Core.Compiler.IRCo…\n",
      "     1         0 …piler/ssair/passes.jl   542 lift_comparison!\n",
      "     1         0 …piler/ssair/passes.jl   600 lift_comparison_leaves!(tfunc::ty…\n",
      "     1         0 …piler/ssair/passes.jl  1618 mark_phi_cycles!(compact::Core.Co…\n",
      "     1         0 …piler/ssair/passes.jl   721 perform_lifting!(compact::Core.Co…\n",
      "     1         0 …piler/ssair/passes.jl  1035 sroa_pass!(ir::Core.Compiler.IRCo…\n",
      "     2         0 …compiler/typeinfer.jl   247 _typeinf(interp::Core.Compiler.Na…\n",
      "     2         0 …compiler/typeinfer.jl   272 _typeinf(interp::Core.Compiler.Na…\n",
      "     2         0 …compiler/typeinfer.jl   216 typeinf(interp::Core.Compiler.Nat…\n",
      "     2         0 …compiler/typeinfer.jl   930 typeinf_edge(interp::Core.Compile…\n",
      "     2         0 …compiler/typeinfer.jl  1051 typeinf_ext(interp::Core.Compiler…\n",
      "     2         0 …compiler/typeinfer.jl  1078 typeinf_ext_toplevel(mi::Core.Met…\n",
      "     2         0 …compiler/typeinfer.jl  1082 typeinf_ext_toplevel(interp::Core…\n",
      "    94         0 @Base/essentials.jl      892 #invokelatest#2\n",
      "     3         3 @Base/essentials.jl       13 getindex\n",
      "    94         0 @Base/essentials.jl      889 invokelatest\n",
      "     1         1 @Base/essentials.jl       10 length\n",
      "     1         0 @Base/iddict.jl           96 setindex!(d::Core.Compiler.IdDict…\n",
      "     1         0 @Base/idset.jl            21 push!\n",
      "    12        12 @Base/int.jl              83 <\n",
      "    94         0 @Base/loading.jl        2136 _include(mapexpr::Function, mod::…\n",
      "    94         0 @Base/loading.jl        2076 include_string(mapexpr::typeof(id…\n",
      "    12         0 @Base/operators.jl       378 >\n",
      "     2         2 @Base/promotion.jl       521 ==\n",
      "     2         0 @Base/range.jl           901 iterate\n",
      "    94         0 …/notebook/notebook.jl    35 top-level scope\n",
      "    94         0 @JSONRPC/src/typed.jl     67 dispatch_msg(x::VSCodeServer.JSON…\n",
      "    94         0 …odeServer/src/repl.jl   276 withpath(f::VSCodeServer.var\"#217…\n",
      "    94         0 …src/serve_notebook.jl    24 (::VSCodeServer.var\"#217#218\"{VSC…\n",
      "    94         0 …src/serve_notebook.jl   147 serve_notebook(pipename::String, …\n",
      "    94         0 …src/serve_notebook.jl    13 notebook_runcell_request(conn::VS…\n",
      "    94         0 …src/serve_notebook.jl    81 kwcall(::@NamedTuple{error_handle…\n",
      "     2         2 …b8e2f_X12sZmlsZQ==.jl     ? findlargest(plants::Vector{Plant})\n",
      "    15         0 …b8e2f_X12sZmlsZQ==.jl    16 findlargest(plants::Vector{Plant})\n",
      "     1         1 …b8e2f_X12sZmlsZQ==.jl    19 findlargest(plants::Vector{Plant})\n",
      "     2         0 …b8e2f_X12sZmlsZQ==.jl    22 findlargest(plants::Vector{Plant})\n",
      "    14         0 …b8e2f_X12sZmlsZQ==.jl    31 reproduce!(plants::Vector{Plant})\n",
      "    20         0 …b8e2f_X12sZmlsZQ==.jl    39 updateplants(plants::Vector{Plant…\n",
      "    16         2 …b8e2f_X12sZmlsZQ==.jl    40 updateplants(plants::Vector{Plant…\n",
      "Total snapshots: 100. Utilization: 100% across all threads and tasks. Use the `groupby` kwarg to break down by thread and/or task.\n"
     ]
    }
   ],
   "source": [
    "## A simple plant type\n",
    "struct Plant\n",
    "    id::Int\n",
    "    size::Int\n",
    "    seeds::Int\n",
    "end\n",
    "\n",
    "## Initialise 10 million plants\n",
    "biome = [Plant(p, rand(1:10000), 1000) for p in 1:10000000]\n",
    "\n",
    "## Return the indices of the largest plants\n",
    "function findlargest(plants::Vector{Plant})\n",
    "    maxsize = 0\n",
    "    ids = []\n",
    "    for p in eachindex(plants)\n",
    "        if plants[p].size > maxsize\n",
    "            maxsize = plants[p].size\n",
    "            ids = [p]\n",
    "        elseif plants[p].size == maxsize\n",
    "            push!(ids, p)\n",
    "        end\n",
    "    end\n",
    "    return ids\n",
    "end\n",
    "\n",
    "## Return a vector filled with one new plant for every seed produced by the input plants\n",
    "function reproduce!(plants::Vector{Plant})\n",
    "    offspring = []\n",
    "    for p in plants\n",
    "        for s in 1:p.seeds\n",
    "            push!(offspring, Plant(length(plants)+length(offspring), p.size, p.seeds))\n",
    "        end\n",
    "    end\n",
    "    offspring\n",
    "end\n",
    "\n",
    "## Find the largest plants and let only these reproduce\n",
    "function updateplants(plants::Vector{Plant})\n",
    "    largest = findlargest(plants)\n",
    "    reproduce!(plants[largest])\n",
    "end\n",
    "\n",
    "## Finally, profile our mini-model and show the results\n",
    "Profile.clear()\n",
    "@profile updateplants(biome);\n",
    "Profile.print(format=:flat)"
   ]
  },
  {
   "cell_type": "markdown",
   "metadata": {},
   "source": [
    "# Optimising code"
   ]
  },
  {
   "cell_type": "markdown",
   "metadata": {},
   "source": [
    "### Exercise 3: Largest prime factor\n",
    "\n",
    "**The prime factors of 13195 are 5, 7, 13, and 29. What is the largest prime factor of the number 600851475143?**\n",
    "\n",
    "*(Taken from: https://projecteuler.net/problem=3)*\n",
    "\n",
    "Let's try a first implementation to solve this problem:"
   ]
  },
  {
   "cell_type": "code",
   "execution_count": 29,
   "metadata": {},
   "outputs": [
    {
     "data": {
      "text/plain": [
       "largestprimefactor (generic function with 1 method)"
      ]
     },
     "metadata": {},
     "output_type": "display_data"
    }
   ],
   "source": [
    "isfactor(x, y) = iszero(x % y)\n",
    "\n",
    "function isprime(n)\n",
    "    n == 1 && return false\n",
    "    for i in 2:(n-1)\n",
    "        isfactor(n, i) && return false\n",
    "    end\n",
    "    return true\n",
    "end\n",
    "\n",
    "function factors(x)\n",
    "    factorlist = []\n",
    "    for i in 1:x\n",
    "        isfactor(x, i) && push!(factorlist, i)\n",
    "    end\n",
    "    factorlist\n",
    "end\n",
    "\n",
    "function largestprimefactor(n)\n",
    "    primefactors = []\n",
    "    for f in factors(n)\n",
    "        isprime(f) && push!(primefactors, f)\n",
    "    end\n",
    "    return maximum(primefactors)\n",
    "end"
   ]
  },
  {
   "cell_type": "code",
   "execution_count": 30,
   "metadata": {},
   "outputs": [
    {
     "name": "stdout",
     "output_type": "stream",
     "text": [
      "  0.008299 seconds (2.62 k allocations: 184.500 KiB, 98.90% compilation time)\n"
     ]
    },
    {
     "data": {
      "text/plain": [
       "29"
      ]
     },
     "metadata": {},
     "output_type": "display_data"
    }
   ],
   "source": [
    "@time largestprimefactor(13195)"
   ]
  },
  {
   "cell_type": "markdown",
   "metadata": {},
   "source": [
    "This answer is correct. However, trying to apply our function `largestprimefactor()` to 600851475143 runs and runs and runs and runs... We need something faster. Look at the functions again. What do you see that may be computationally expensive? Can you try writing your own version of these functions that is faster?"
   ]
  },
  {
   "cell_type": "code",
   "execution_count": 22,
   "metadata": {},
   "outputs": [
    {
     "data": {
      "text/plain": [
       "largestprimefactor2 (generic function with 1 method)"
      ]
     },
     "metadata": {},
     "output_type": "display_data"
    }
   ],
   "source": [
    "isfactor(x, y) = iszero(x % y)\n",
    "\n",
    "#TODO write your own functions to solve the problem.\n",
    "\n",
    "function largestprimefactor2(n)\n",
    "    #TODO complete this function\n",
    "end"
   ]
  },
  {
   "cell_type": "code",
   "execution_count": 23,
   "metadata": {},
   "outputs": [
    {
     "name": "stdout",
     "output_type": "stream",
     "text": [
      "  0.000001 seconds\n"
     ]
    }
   ],
   "source": [
    "# Test your implementation using this code cell. Is your version faster than the first?\n",
    "@time largestprimefactor2(13195)"
   ]
  },
  {
   "cell_type": "markdown",
   "metadata": {},
   "source": [
    "Once you have tried optimising this yourself, here is my best version. How did I optimise the code?"
   ]
  },
  {
   "cell_type": "code",
   "execution_count": 35,
   "metadata": {},
   "outputs": [
    {
     "data": {
      "text/plain": [
       "largestprimefactor3 (generic function with 2 methods)"
      ]
     },
     "metadata": {},
     "output_type": "display_data"
    }
   ],
   "source": [
    "function isprime3(n::Int64)\n",
    "    (n == 1 || iszero(n % 2)) && return false\n",
    "    i = 3\n",
    "    while i < n\n",
    "        iszero(n % i) && return false\n",
    "        i += 2\n",
    "    end\n",
    "    return true\n",
    "end\n",
    "\n",
    "function largestprimefactor3(n::Int64)\n",
    "    for j in 1:n\n",
    "        (iszero(n % j) && isprime3(div(n,j))) && return div(n,j)\n",
    "    end\n",
    "    return nothing\n",
    "end\n"
   ]
  },
  {
   "cell_type": "code",
   "execution_count": 37,
   "metadata": {},
   "outputs": [
    {
     "name": "stdout",
     "output_type": "stream",
     "text": [
      "  0.000003 seconds\n",
      "  0.679900 seconds\n"
     ]
    },
    {
     "data": {
      "text/plain": [
       "6857"
      ]
     },
     "metadata": {},
     "output_type": "display_data"
    }
   ],
   "source": [
    "@time largestprimefactor3(13195)\n",
    "@time largestprimefactor3(600851475143)"
   ]
  },
  {
   "cell_type": "markdown",
   "metadata": {},
   "source": [
    "### Tuning tips\n",
    "\n",
    "#### Common miscreants\n",
    "\n",
    "- input/output operations (especially to disk)\n",
    "- nested loops\n",
    "- array allocation\n",
    "\n",
    "#### Strategies\n",
    "\n",
    "- buffer output before writing\n",
    "- structure data to reduce the runtime class\n",
    "- reduce array allocations\n",
    "- cache calculations so you only need to do them once\n",
    "- parallelise your code\n",
    "- if memory is an issue: compress data"
   ]
  }
 ],
 "metadata": {
  "kernelspec": {
   "display_name": "Julia 1.10.4",
   "language": "julia",
   "name": "julia-1.10"
  },
  "language_info": {
   "file_extension": ".jl",
   "mimetype": "application/julia",
   "name": "julia",
   "version": "1.10.4"
  }
 },
 "nbformat": 4,
 "nbformat_minor": 3
}
