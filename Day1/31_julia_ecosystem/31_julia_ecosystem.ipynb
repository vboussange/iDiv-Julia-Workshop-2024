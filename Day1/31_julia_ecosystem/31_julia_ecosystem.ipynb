{
 "cells": [
  {
   "cell_type": "markdown",
   "metadata": {
    "name": "A slide ",
    "slideshow": {
     "slide_type": "slide"
    }
   },
   "source": [
    "# The Julia Ecosystem"
   ]
  },
  {
   "cell_type": "markdown",
   "metadata": {
    "name": "A slide ",
    "slideshow": {
     "slide_type": "slide"
    }
   },
   "source": [
    "# The Package Ecosystem\n",
    "\n",
    "- Registered packages are listed on [https://juliahub.com/ui/Packages](https://juliahub.com/ui/Packages)\n",
    "- google / duckduckgo / bing / etc search often works well.  Appending `jl` often helps.\n",
    "- the package ecosystem has not reached the level of the Python or R ecosystems but is growing fast.  There are currently 9141 registered packages.\n"
   ]
  },
  {
   "cell_type": "markdown",
   "metadata": {
    "slideshow": {
     "slide_type": "subslide"
    }
   },
   "source": [
    "## Package interoperability\n",
    "\n",
    "--> packages work well together, e.g. combine [OrdinaryDiffEq.jl](https://github.com/SciML/OrdinaryDiffEq.jl) with [Unitful.jl](https://github.com/PainterQubits/Unitful.jl) and [Measurements.jl](https://github.com/JuliaPhysics/Measurements.jl)"
   ]
  },
  {
   "cell_type": "markdown",
   "metadata": {
    "name": "A slide ",
    "slideshow": {
     "slide_type": "subslide"
    }
   },
   "source": [
    "\n",
    "Example from [DiffEq docs](https://docs.sciml.ai/SciMLTutorialsOutput/html/type_handling/03-unitful.html), combining a package for units with a differential equation solver:"
   ]
  },
  {
   "cell_type": "code",
   "execution_count": null,
   "metadata": {
    "slideshow": {
     "slide_type": "subslide"
    }
   },
   "outputs": [
    {
     "data": {
      "text/plain": [
       "2.0 s"
      ]
     },
     "execution_count": 9,
     "metadata": {},
     "output_type": "execute_result"
    }
   ],
   "source": [
    "using Unitful\n",
    "t = 1.0u\"s\" # has units seconds\n",
    "t + 1.0u\"s\" # works, adding kg would error"
   ]
  },
  {
   "cell_type": "code",
   "execution_count": 11,
   "metadata": {
    "slideshow": {
     "slide_type": "subslide"
    }
   },
   "outputs": [
    {
     "data": {
      "text/plain": [
       "retcode: Success\n",
       "Interpolation: specialized 4th order \"free\" interpolation\n",
       "t: 3-element Vector{Quantity{Float64, 𝐓, Unitful.FreeUnits{(s,), 𝐓, nothing}}}:\n",
       "                 0.0 s\n",
       " 0.14311598261241779 s\n",
       "                 1.0 s\n",
       "u: 3-element Vector{Quantity{Float64, 𝐋 𝐌 𝐓^-2, Unitful.FreeUnits{(N,), 𝐋 𝐌 𝐓^-2, nothing}}}:\n",
       "                1.5 N\n",
       " 1.5362091208988309 N\n",
       " 1.7720406194871123 N"
      ]
     },
     "execution_count": 11,
     "metadata": {},
     "output_type": "execute_result"
    }
   ],
   "source": [
    "using OrdinaryDiffEq\n",
    "# dy / dt  = f(y, p, t)\n",
    "f = (y,_,t) -> 0.5*y/3.0u\"s\"\n",
    "u0 = 1.5u\"N\"\n",
    "prob = ODEProblem(f,u0,(0.0u\"s\",1.0u\"s\"))\n",
    "sol = solve(prob,Tsit5())"
   ]
  },
  {
   "cell_type": "markdown",
   "metadata": {
    "name": "A slide ",
    "slideshow": {
     "slide_type": "subslide"
    }
   },
   "source": [
    "\n",
    "Let's plot the solution:"
   ]
  },
  {
   "cell_type": "code",
   "execution_count": 12,
   "metadata": {
    "slideshow": {
     "slide_type": "fragment"
    }
   },
   "outputs": [
    {
     "data": {
      "image/svg+xml": [
       "<?xml version=\"1.0\" encoding=\"utf-8\"?>\n",
       "<svg xmlns=\"http://www.w3.org/2000/svg\" xmlns:xlink=\"http://www.w3.org/1999/xlink\" width=\"600\" height=\"400\" viewBox=\"0 0 2400 1600\">\n",
       "<defs>\n",
       "  <clipPath id=\"clip160\">\n",
       "    <rect x=\"0\" y=\"0\" width=\"2400\" height=\"1600\"/>\n",
       "  </clipPath>\n",
       "</defs>\n",
       "<path clip-path=\"url(#clip160)\" d=\"M0 1600 L2400 1600 L2400 0 L0 0  Z\" fill=\"#ffffff\" fill-rule=\"evenodd\" fill-opacity=\"1\"/>\n",
       "<defs>\n",
       "  <clipPath id=\"clip161\">\n",
       "    <rect x=\"480\" y=\"0\" width=\"1681\" height=\"1600\"/>\n",
       "  </clipPath>\n",
       "</defs>\n",
       "<path clip-path=\"url(#clip160)\" d=\"M247.459 1423.18 L2352.76 1423.18 L2352.76 47.2441 L247.459 47.2441  Z\" fill=\"#ffffff\" fill-rule=\"evenodd\" fill-opacity=\"1\"/>\n",
       "<defs>\n",
       "  <clipPath id=\"clip162\">\n",
       "    <rect x=\"247\" y=\"47\" width=\"2106\" height=\"1377\"/>\n",
       "  </clipPath>\n",
       "</defs>\n",
       "<polyline clip-path=\"url(#clip162)\" style=\"stroke:#000000; stroke-linecap:round; stroke-linejoin:round; stroke-width:2; stroke-opacity:0.1; fill:none\" points=\"307.043,1423.18 307.043,47.2441 \"/>\n",
       "<polyline clip-path=\"url(#clip162)\" style=\"stroke:#000000; stroke-linecap:round; stroke-linejoin:round; stroke-width:2; stroke-opacity:0.1; fill:none\" points=\"803.575,1423.18 803.575,47.2441 \"/>\n",
       "<polyline clip-path=\"url(#clip162)\" style=\"stroke:#000000; stroke-linecap:round; stroke-linejoin:round; stroke-width:2; stroke-opacity:0.1; fill:none\" points=\"1300.11,1423.18 1300.11,47.2441 \"/>\n",
       "<polyline clip-path=\"url(#clip162)\" style=\"stroke:#000000; stroke-linecap:round; stroke-linejoin:round; stroke-width:2; stroke-opacity:0.1; fill:none\" points=\"1796.64,1423.18 1796.64,47.2441 \"/>\n",
       "<polyline clip-path=\"url(#clip162)\" style=\"stroke:#000000; stroke-linecap:round; stroke-linejoin:round; stroke-width:2; stroke-opacity:0.1; fill:none\" points=\"2293.17,1423.18 2293.17,47.2441 \"/>\n",
       "<polyline clip-path=\"url(#clip160)\" style=\"stroke:#000000; stroke-linecap:round; stroke-linejoin:round; stroke-width:4; stroke-opacity:1; fill:none\" points=\"247.459,1423.18 2352.76,1423.18 \"/>\n",
       "<polyline clip-path=\"url(#clip160)\" style=\"stroke:#000000; stroke-linecap:round; stroke-linejoin:round; stroke-width:4; stroke-opacity:1; fill:none\" points=\"307.043,1423.18 307.043,1404.28 \"/>\n",
       "<polyline clip-path=\"url(#clip160)\" style=\"stroke:#000000; stroke-linecap:round; stroke-linejoin:round; stroke-width:4; stroke-opacity:1; fill:none\" points=\"803.575,1423.18 803.575,1404.28 \"/>\n",
       "<polyline clip-path=\"url(#clip160)\" style=\"stroke:#000000; stroke-linecap:round; stroke-linejoin:round; stroke-width:4; stroke-opacity:1; fill:none\" points=\"1300.11,1423.18 1300.11,1404.28 \"/>\n",
       "<polyline clip-path=\"url(#clip160)\" style=\"stroke:#000000; stroke-linecap:round; stroke-linejoin:round; stroke-width:4; stroke-opacity:1; fill:none\" points=\"1796.64,1423.18 1796.64,1404.28 \"/>\n",
       "<polyline clip-path=\"url(#clip160)\" style=\"stroke:#000000; stroke-linecap:round; stroke-linejoin:round; stroke-width:4; stroke-opacity:1; fill:none\" points=\"2293.17,1423.18 2293.17,1404.28 \"/>\n",
       "<path clip-path=\"url(#clip160)\" d=\"M269.346 1454.1 Q265.735 1454.1 263.906 1457.66 Q262.101 1461.2 262.101 1468.33 Q262.101 1475.44 263.906 1479.01 Q265.735 1482.55 269.346 1482.55 Q272.98 1482.55 274.786 1479.01 Q276.615 1475.44 276.615 1468.33 Q276.615 1461.2 274.786 1457.66 Q272.98 1454.1 269.346 1454.1 M269.346 1450.39 Q275.156 1450.39 278.212 1455 Q281.29 1459.58 281.29 1468.33 Q281.29 1477.06 278.212 1481.67 Q275.156 1486.25 269.346 1486.25 Q263.536 1486.25 260.457 1481.67 Q257.402 1477.06 257.402 1468.33 Q257.402 1459.58 260.457 1455 Q263.536 1450.39 269.346 1450.39 Z\" fill=\"#000000\" fill-rule=\"nonzero\" fill-opacity=\"1\" /><path clip-path=\"url(#clip160)\" d=\"M289.508 1479.7 L294.392 1479.7 L294.392 1485.58 L289.508 1485.58 L289.508 1479.7 Z\" fill=\"#000000\" fill-rule=\"nonzero\" fill-opacity=\"1\" /><path clip-path=\"url(#clip160)\" d=\"M314.577 1454.1 Q310.966 1454.1 309.137 1457.66 Q307.332 1461.2 307.332 1468.33 Q307.332 1475.44 309.137 1479.01 Q310.966 1482.55 314.577 1482.55 Q318.212 1482.55 320.017 1479.01 Q321.846 1475.44 321.846 1468.33 Q321.846 1461.2 320.017 1457.66 Q318.212 1454.1 314.577 1454.1 M314.577 1450.39 Q320.387 1450.39 323.443 1455 Q326.522 1459.58 326.522 1468.33 Q326.522 1477.06 323.443 1481.67 Q320.387 1486.25 314.577 1486.25 Q308.767 1486.25 305.688 1481.67 Q302.633 1477.06 302.633 1468.33 Q302.633 1459.58 305.688 1455 Q308.767 1450.39 314.577 1450.39 Z\" fill=\"#000000\" fill-rule=\"nonzero\" fill-opacity=\"1\" /><path clip-path=\"url(#clip160)\" d=\"M344.739 1454.1 Q341.128 1454.1 339.299 1457.66 Q337.494 1461.2 337.494 1468.33 Q337.494 1475.44 339.299 1479.01 Q341.128 1482.55 344.739 1482.55 Q348.373 1482.55 350.179 1479.01 Q352.008 1475.44 352.008 1468.33 Q352.008 1461.2 350.179 1457.66 Q348.373 1454.1 344.739 1454.1 M344.739 1450.39 Q350.549 1450.39 353.605 1455 Q356.684 1459.58 356.684 1468.33 Q356.684 1477.06 353.605 1481.67 Q350.549 1486.25 344.739 1486.25 Q338.929 1486.25 335.85 1481.67 Q332.795 1477.06 332.795 1468.33 Q332.795 1459.58 335.85 1455 Q338.929 1450.39 344.739 1450.39 Z\" fill=\"#000000\" fill-rule=\"nonzero\" fill-opacity=\"1\" /><path clip-path=\"url(#clip160)\" d=\"M766.376 1454.1 Q762.765 1454.1 760.936 1457.66 Q759.131 1461.2 759.131 1468.33 Q759.131 1475.44 760.936 1479.01 Q762.765 1482.55 766.376 1482.55 Q770.01 1482.55 771.816 1479.01 Q773.645 1475.44 773.645 1468.33 Q773.645 1461.2 771.816 1457.66 Q770.01 1454.1 766.376 1454.1 M766.376 1450.39 Q772.186 1450.39 775.242 1455 Q778.32 1459.58 778.32 1468.33 Q778.32 1477.06 775.242 1481.67 Q772.186 1486.25 766.376 1486.25 Q760.566 1486.25 757.487 1481.67 Q754.432 1477.06 754.432 1468.33 Q754.432 1459.58 757.487 1455 Q760.566 1450.39 766.376 1450.39 Z\" fill=\"#000000\" fill-rule=\"nonzero\" fill-opacity=\"1\" /><path clip-path=\"url(#clip160)\" d=\"M786.538 1479.7 L791.422 1479.7 L791.422 1485.58 L786.538 1485.58 L786.538 1479.7 Z\" fill=\"#000000\" fill-rule=\"nonzero\" fill-opacity=\"1\" /><path clip-path=\"url(#clip160)\" d=\"M805.635 1481.64 L821.954 1481.64 L821.954 1485.58 L800.01 1485.58 L800.01 1481.64 Q802.672 1478.89 807.255 1474.26 Q811.862 1469.61 813.042 1468.27 Q815.288 1465.74 816.167 1464.01 Q817.07 1462.25 817.07 1460.56 Q817.07 1457.8 815.126 1456.07 Q813.205 1454.33 810.103 1454.33 Q807.904 1454.33 805.45 1455.09 Q803.019 1455.86 800.242 1457.41 L800.242 1452.69 Q803.066 1451.55 805.519 1450.97 Q807.973 1450.39 810.01 1450.39 Q815.38 1450.39 818.575 1453.08 Q821.769 1455.77 821.769 1460.26 Q821.769 1462.39 820.959 1464.31 Q820.172 1466.2 818.066 1468.8 Q817.487 1469.47 814.385 1472.69 Q811.283 1475.88 805.635 1481.64 Z\" fill=\"#000000\" fill-rule=\"nonzero\" fill-opacity=\"1\" /><path clip-path=\"url(#clip160)\" d=\"M831.816 1451.02 L850.172 1451.02 L850.172 1454.96 L836.098 1454.96 L836.098 1463.43 Q837.116 1463.08 838.135 1462.92 Q839.153 1462.73 840.172 1462.73 Q845.959 1462.73 849.339 1465.9 Q852.718 1469.08 852.718 1474.49 Q852.718 1480.07 849.246 1483.17 Q845.774 1486.25 839.454 1486.25 Q837.278 1486.25 835.01 1485.88 Q832.765 1485.51 830.357 1484.77 L830.357 1480.07 Q832.441 1481.2 834.663 1481.76 Q836.885 1482.32 839.362 1482.32 Q843.366 1482.32 845.704 1480.21 Q848.042 1478.1 848.042 1474.49 Q848.042 1470.88 845.704 1468.77 Q843.366 1466.67 839.362 1466.67 Q837.487 1466.67 835.612 1467.08 Q833.76 1467.5 831.816 1468.38 L831.816 1451.02 Z\" fill=\"#000000\" fill-rule=\"nonzero\" fill-opacity=\"1\" /><path clip-path=\"url(#clip160)\" d=\"M1262.41 1454.1 Q1258.8 1454.1 1256.97 1457.66 Q1255.17 1461.2 1255.17 1468.33 Q1255.17 1475.44 1256.97 1479.01 Q1258.8 1482.55 1262.41 1482.55 Q1266.04 1482.55 1267.85 1479.01 Q1269.68 1475.44 1269.68 1468.33 Q1269.68 1461.2 1267.85 1457.66 Q1266.04 1454.1 1262.41 1454.1 M1262.41 1450.39 Q1268.22 1450.39 1271.28 1455 Q1274.36 1459.58 1274.36 1468.33 Q1274.36 1477.06 1271.28 1481.67 Q1268.22 1486.25 1262.41 1486.25 Q1256.6 1486.25 1253.52 1481.67 Q1250.47 1477.06 1250.47 1468.33 Q1250.47 1459.58 1253.52 1455 Q1256.6 1450.39 1262.41 1450.39 Z\" fill=\"#000000\" fill-rule=\"nonzero\" fill-opacity=\"1\" /><path clip-path=\"url(#clip160)\" d=\"M1282.57 1479.7 L1287.46 1479.7 L1287.46 1485.58 L1282.57 1485.58 L1282.57 1479.7 Z\" fill=\"#000000\" fill-rule=\"nonzero\" fill-opacity=\"1\" /><path clip-path=\"url(#clip160)\" d=\"M1297.69 1451.02 L1316.04 1451.02 L1316.04 1454.96 L1301.97 1454.96 L1301.97 1463.43 Q1302.99 1463.08 1304.01 1462.92 Q1305.03 1462.73 1306.04 1462.73 Q1311.83 1462.73 1315.21 1465.9 Q1318.59 1469.08 1318.59 1474.49 Q1318.59 1480.07 1315.12 1483.17 Q1311.65 1486.25 1305.33 1486.25 Q1303.15 1486.25 1300.88 1485.88 Q1298.64 1485.51 1296.23 1484.77 L1296.23 1480.07 Q1298.31 1481.2 1300.54 1481.76 Q1302.76 1482.32 1305.23 1482.32 Q1309.24 1482.32 1311.58 1480.21 Q1313.92 1478.1 1313.92 1474.49 Q1313.92 1470.88 1311.58 1468.77 Q1309.24 1466.67 1305.23 1466.67 Q1303.36 1466.67 1301.48 1467.08 Q1299.63 1467.5 1297.69 1468.38 L1297.69 1451.02 Z\" fill=\"#000000\" fill-rule=\"nonzero\" fill-opacity=\"1\" /><path clip-path=\"url(#clip160)\" d=\"M1337.8 1454.1 Q1334.19 1454.1 1332.36 1457.66 Q1330.56 1461.2 1330.56 1468.33 Q1330.56 1475.44 1332.36 1479.01 Q1334.19 1482.55 1337.8 1482.55 Q1341.44 1482.55 1343.24 1479.01 Q1345.07 1475.44 1345.07 1468.33 Q1345.07 1461.2 1343.24 1457.66 Q1341.44 1454.1 1337.8 1454.1 M1337.8 1450.39 Q1343.61 1450.39 1346.67 1455 Q1349.75 1459.58 1349.75 1468.33 Q1349.75 1477.06 1346.67 1481.67 Q1343.61 1486.25 1337.8 1486.25 Q1331.99 1486.25 1328.92 1481.67 Q1325.86 1477.06 1325.86 1468.33 Q1325.86 1459.58 1328.92 1455 Q1331.99 1450.39 1337.8 1450.39 Z\" fill=\"#000000\" fill-rule=\"nonzero\" fill-opacity=\"1\" /><path clip-path=\"url(#clip160)\" d=\"M1759.44 1454.1 Q1755.83 1454.1 1754 1457.66 Q1752.2 1461.2 1752.2 1468.33 Q1752.2 1475.44 1754 1479.01 Q1755.83 1482.55 1759.44 1482.55 Q1763.08 1482.55 1764.88 1479.01 Q1766.71 1475.44 1766.71 1468.33 Q1766.71 1461.2 1764.88 1457.66 Q1763.08 1454.1 1759.44 1454.1 M1759.44 1450.39 Q1765.25 1450.39 1768.31 1455 Q1771.39 1459.58 1771.39 1468.33 Q1771.39 1477.06 1768.31 1481.67 Q1765.25 1486.25 1759.44 1486.25 Q1753.63 1486.25 1750.55 1481.67 Q1747.5 1477.06 1747.5 1468.33 Q1747.5 1459.58 1750.55 1455 Q1753.63 1450.39 1759.44 1450.39 Z\" fill=\"#000000\" fill-rule=\"nonzero\" fill-opacity=\"1\" /><path clip-path=\"url(#clip160)\" d=\"M1779.6 1479.7 L1784.49 1479.7 L1784.49 1485.58 L1779.6 1485.58 L1779.6 1479.7 Z\" fill=\"#000000\" fill-rule=\"nonzero\" fill-opacity=\"1\" /><path clip-path=\"url(#clip160)\" d=\"M1793.49 1451.02 L1815.71 1451.02 L1815.71 1453.01 L1803.17 1485.58 L1798.28 1485.58 L1810.09 1454.96 L1793.49 1454.96 L1793.49 1451.02 Z\" fill=\"#000000\" fill-rule=\"nonzero\" fill-opacity=\"1\" /><path clip-path=\"url(#clip160)\" d=\"M1824.88 1451.02 L1843.24 1451.02 L1843.24 1454.96 L1829.16 1454.96 L1829.16 1463.43 Q1830.18 1463.08 1831.2 1462.92 Q1832.22 1462.73 1833.24 1462.73 Q1839.02 1462.73 1842.4 1465.9 Q1845.78 1469.08 1845.78 1474.49 Q1845.78 1480.07 1842.31 1483.17 Q1838.84 1486.25 1832.52 1486.25 Q1830.34 1486.25 1828.07 1485.88 Q1825.83 1485.51 1823.42 1484.77 L1823.42 1480.07 Q1825.51 1481.2 1827.73 1481.76 Q1829.95 1482.32 1832.43 1482.32 Q1836.43 1482.32 1838.77 1480.21 Q1841.11 1478.1 1841.11 1474.49 Q1841.11 1470.88 1838.77 1468.77 Q1836.43 1466.67 1832.43 1466.67 Q1830.55 1466.67 1828.68 1467.08 Q1826.82 1467.5 1824.88 1468.38 L1824.88 1451.02 Z\" fill=\"#000000\" fill-rule=\"nonzero\" fill-opacity=\"1\" /><path clip-path=\"url(#clip160)\" d=\"M2245.24 1481.64 L2252.88 1481.64 L2252.88 1455.28 L2244.57 1456.95 L2244.57 1452.69 L2252.84 1451.02 L2257.51 1451.02 L2257.51 1481.64 L2265.15 1481.64 L2265.15 1485.58 L2245.24 1485.58 L2245.24 1481.64 Z\" fill=\"#000000\" fill-rule=\"nonzero\" fill-opacity=\"1\" /><path clip-path=\"url(#clip160)\" d=\"M2274.6 1479.7 L2279.48 1479.7 L2279.48 1485.58 L2274.6 1485.58 L2274.6 1479.7 Z\" fill=\"#000000\" fill-rule=\"nonzero\" fill-opacity=\"1\" /><path clip-path=\"url(#clip160)\" d=\"M2299.67 1454.1 Q2296.05 1454.1 2294.23 1457.66 Q2292.42 1461.2 2292.42 1468.33 Q2292.42 1475.44 2294.23 1479.01 Q2296.05 1482.55 2299.67 1482.55 Q2303.3 1482.55 2305.1 1479.01 Q2306.93 1475.44 2306.93 1468.33 Q2306.93 1461.2 2305.1 1457.66 Q2303.3 1454.1 2299.67 1454.1 M2299.67 1450.39 Q2305.48 1450.39 2308.53 1455 Q2311.61 1459.58 2311.61 1468.33 Q2311.61 1477.06 2308.53 1481.67 Q2305.48 1486.25 2299.67 1486.25 Q2293.85 1486.25 2290.78 1481.67 Q2287.72 1477.06 2287.72 1468.33 Q2287.72 1459.58 2290.78 1455 Q2293.85 1450.39 2299.67 1450.39 Z\" fill=\"#000000\" fill-rule=\"nonzero\" fill-opacity=\"1\" /><path clip-path=\"url(#clip160)\" d=\"M2329.83 1454.1 Q2326.22 1454.1 2324.39 1457.66 Q2322.58 1461.2 2322.58 1468.33 Q2322.58 1475.44 2324.39 1479.01 Q2326.22 1482.55 2329.83 1482.55 Q2333.46 1482.55 2335.27 1479.01 Q2337.1 1475.44 2337.1 1468.33 Q2337.1 1461.2 2335.27 1457.66 Q2333.46 1454.1 2329.83 1454.1 M2329.83 1450.39 Q2335.64 1450.39 2338.69 1455 Q2341.77 1459.58 2341.77 1468.33 Q2341.77 1477.06 2338.69 1481.67 Q2335.64 1486.25 2329.83 1486.25 Q2324.02 1486.25 2320.94 1481.67 Q2317.88 1477.06 2317.88 1468.33 Q2317.88 1459.58 2320.94 1455 Q2324.02 1450.39 2329.83 1450.39 Z\" fill=\"#000000\" fill-rule=\"nonzero\" fill-opacity=\"1\" /><path clip-path=\"url(#clip160)\" d=\"M1311.82 1533.45 L1311.82 1538.98 Q1309.34 1537.71 1306.66 1537.07 Q1303.99 1536.44 1301.13 1536.44 Q1296.77 1536.44 1294.57 1537.77 Q1292.4 1539.11 1292.4 1541.79 Q1292.4 1543.82 1293.96 1545 Q1295.52 1546.15 1300.23 1547.2 L1302.24 1547.64 Q1308.48 1548.98 1311.09 1551.43 Q1313.73 1553.85 1313.73 1558.21 Q1313.73 1563.17 1309.78 1566.07 Q1305.87 1568.97 1298.99 1568.97 Q1296.13 1568.97 1293.01 1568.39 Q1289.92 1567.85 1286.48 1566.74 L1286.48 1560.69 Q1289.73 1562.38 1292.88 1563.24 Q1296.03 1564.07 1299.12 1564.07 Q1303.26 1564.07 1305.49 1562.66 Q1307.71 1561.23 1307.71 1558.65 Q1307.71 1556.27 1306.09 1554.99 Q1304.5 1553.72 1299.06 1552.54 L1297.02 1552.07 Q1291.58 1550.92 1289.16 1548.56 Q1286.74 1546.18 1286.74 1542.04 Q1286.74 1537.01 1290.3 1534.27 Q1293.87 1531.54 1300.43 1531.54 Q1303.67 1531.54 1306.54 1532.01 Q1309.4 1532.49 1311.82 1533.45 Z\" fill=\"#000000\" fill-rule=\"nonzero\" fill-opacity=\"1\" /><polyline clip-path=\"url(#clip162)\" style=\"stroke:#000000; stroke-linecap:round; stroke-linejoin:round; stroke-width:2; stroke-opacity:0.1; fill:none\" points=\"247.459,1384.24 2352.76,1384.24 \"/>\n",
       "<polyline clip-path=\"url(#clip162)\" style=\"stroke:#000000; stroke-linecap:round; stroke-linejoin:round; stroke-width:2; stroke-opacity:0.1; fill:none\" points=\"247.459,1145.66 2352.76,1145.66 \"/>\n",
       "<polyline clip-path=\"url(#clip162)\" style=\"stroke:#000000; stroke-linecap:round; stroke-linejoin:round; stroke-width:2; stroke-opacity:0.1; fill:none\" points=\"247.459,907.084 2352.76,907.084 \"/>\n",
       "<polyline clip-path=\"url(#clip162)\" style=\"stroke:#000000; stroke-linecap:round; stroke-linejoin:round; stroke-width:2; stroke-opacity:0.1; fill:none\" points=\"247.459,668.507 2352.76,668.507 \"/>\n",
       "<polyline clip-path=\"url(#clip162)\" style=\"stroke:#000000; stroke-linecap:round; stroke-linejoin:round; stroke-width:2; stroke-opacity:0.1; fill:none\" points=\"247.459,429.93 2352.76,429.93 \"/>\n",
       "<polyline clip-path=\"url(#clip162)\" style=\"stroke:#000000; stroke-linecap:round; stroke-linejoin:round; stroke-width:2; stroke-opacity:0.1; fill:none\" points=\"247.459,191.353 2352.76,191.353 \"/>\n",
       "<polyline clip-path=\"url(#clip160)\" style=\"stroke:#000000; stroke-linecap:round; stroke-linejoin:round; stroke-width:4; stroke-opacity:1; fill:none\" points=\"247.459,1423.18 247.459,47.2441 \"/>\n",
       "<polyline clip-path=\"url(#clip160)\" style=\"stroke:#000000; stroke-linecap:round; stroke-linejoin:round; stroke-width:4; stroke-opacity:1; fill:none\" points=\"247.459,1384.24 266.356,1384.24 \"/>\n",
       "<polyline clip-path=\"url(#clip160)\" style=\"stroke:#000000; stroke-linecap:round; stroke-linejoin:round; stroke-width:4; stroke-opacity:1; fill:none\" points=\"247.459,1145.66 266.356,1145.66 \"/>\n",
       "<polyline clip-path=\"url(#clip160)\" style=\"stroke:#000000; stroke-linecap:round; stroke-linejoin:round; stroke-width:4; stroke-opacity:1; fill:none\" points=\"247.459,907.084 266.356,907.084 \"/>\n",
       "<polyline clip-path=\"url(#clip160)\" style=\"stroke:#000000; stroke-linecap:round; stroke-linejoin:round; stroke-width:4; stroke-opacity:1; fill:none\" points=\"247.459,668.507 266.356,668.507 \"/>\n",
       "<polyline clip-path=\"url(#clip160)\" style=\"stroke:#000000; stroke-linecap:round; stroke-linejoin:round; stroke-width:4; stroke-opacity:1; fill:none\" points=\"247.459,429.93 266.356,429.93 \"/>\n",
       "<polyline clip-path=\"url(#clip160)\" style=\"stroke:#000000; stroke-linecap:round; stroke-linejoin:round; stroke-width:4; stroke-opacity:1; fill:none\" points=\"247.459,191.353 266.356,191.353 \"/>\n",
       "<path clip-path=\"url(#clip160)\" d=\"M114.931 1397.58 L122.57 1397.58 L122.57 1371.22 L114.26 1372.88 L114.26 1368.62 L122.524 1366.96 L127.2 1366.96 L127.2 1397.58 L134.839 1397.58 L134.839 1401.52 L114.931 1401.52 L114.931 1397.58 Z\" fill=\"#000000\" fill-rule=\"nonzero\" fill-opacity=\"1\" /><path clip-path=\"url(#clip160)\" d=\"M144.283 1395.64 L149.167 1395.64 L149.167 1401.52 L144.283 1401.52 L144.283 1395.64 Z\" fill=\"#000000\" fill-rule=\"nonzero\" fill-opacity=\"1\" /><path clip-path=\"url(#clip160)\" d=\"M159.399 1366.96 L177.755 1366.96 L177.755 1370.89 L163.681 1370.89 L163.681 1379.37 Q164.7 1379.02 165.718 1378.86 Q166.737 1378.67 167.755 1378.67 Q173.542 1378.67 176.922 1381.84 Q180.301 1385.01 180.301 1390.43 Q180.301 1396.01 176.829 1399.11 Q173.357 1402.19 167.038 1402.19 Q164.862 1402.19 162.593 1401.82 Q160.348 1401.45 157.94 1400.71 L157.94 1396.01 Q160.024 1397.14 162.246 1397.7 Q164.468 1398.25 166.945 1398.25 Q170.95 1398.25 173.288 1396.15 Q175.626 1394.04 175.626 1390.43 Q175.626 1386.82 173.288 1384.71 Q170.95 1382.61 166.945 1382.61 Q165.07 1382.61 163.195 1383.02 Q161.343 1383.44 159.399 1384.32 L159.399 1366.96 Z\" fill=\"#000000\" fill-rule=\"nonzero\" fill-opacity=\"1\" /><path clip-path=\"url(#clip160)\" d=\"M199.514 1370.04 Q195.903 1370.04 194.075 1373.6 Q192.269 1377.14 192.269 1384.27 Q192.269 1391.38 194.075 1394.94 Q195.903 1398.49 199.514 1398.49 Q203.149 1398.49 204.954 1394.94 Q206.783 1391.38 206.783 1384.27 Q206.783 1377.14 204.954 1373.6 Q203.149 1370.04 199.514 1370.04 M199.514 1366.33 Q205.324 1366.33 208.38 1370.94 Q211.459 1375.52 211.459 1384.27 Q211.459 1393 208.38 1397.61 Q205.324 1402.19 199.514 1402.19 Q193.704 1402.19 190.625 1397.61 Q187.57 1393 187.57 1384.27 Q187.57 1375.52 190.625 1370.94 Q193.704 1366.33 199.514 1366.33 Z\" fill=\"#000000\" fill-rule=\"nonzero\" fill-opacity=\"1\" /><path clip-path=\"url(#clip160)\" d=\"M115.927 1159.01 L123.566 1159.01 L123.566 1132.64 L115.256 1134.31 L115.256 1130.05 L123.519 1128.38 L128.195 1128.38 L128.195 1159.01 L135.834 1159.01 L135.834 1162.94 L115.927 1162.94 L115.927 1159.01 Z\" fill=\"#000000\" fill-rule=\"nonzero\" fill-opacity=\"1\" /><path clip-path=\"url(#clip160)\" d=\"M145.279 1157.06 L150.163 1157.06 L150.163 1162.94 L145.279 1162.94 L145.279 1157.06 Z\" fill=\"#000000\" fill-rule=\"nonzero\" fill-opacity=\"1\" /><path clip-path=\"url(#clip160)\" d=\"M160.394 1128.38 L178.751 1128.38 L178.751 1132.32 L164.677 1132.32 L164.677 1140.79 Q165.695 1140.44 166.714 1140.28 Q167.732 1140.09 168.751 1140.09 Q174.538 1140.09 177.917 1143.27 Q181.297 1146.44 181.297 1151.85 Q181.297 1157.43 177.825 1160.53 Q174.352 1163.61 168.033 1163.61 Q165.857 1163.61 163.589 1163.24 Q161.343 1162.87 158.936 1162.13 L158.936 1157.43 Q161.019 1158.57 163.241 1159.12 Q165.464 1159.68 167.94 1159.68 Q171.945 1159.68 174.283 1157.57 Q176.621 1155.46 176.621 1151.85 Q176.621 1148.24 174.283 1146.14 Q171.945 1144.03 167.94 1144.03 Q166.065 1144.03 164.19 1144.45 Q162.339 1144.86 160.394 1145.74 L160.394 1128.38 Z\" fill=\"#000000\" fill-rule=\"nonzero\" fill-opacity=\"1\" /><path clip-path=\"url(#clip160)\" d=\"M190.556 1128.38 L208.912 1128.38 L208.912 1132.32 L194.838 1132.32 L194.838 1140.79 Q195.857 1140.44 196.875 1140.28 Q197.894 1140.09 198.912 1140.09 Q204.699 1140.09 208.079 1143.27 Q211.459 1146.44 211.459 1151.85 Q211.459 1157.43 207.987 1160.53 Q204.514 1163.61 198.195 1163.61 Q196.019 1163.61 193.75 1163.24 Q191.505 1162.87 189.098 1162.13 L189.098 1157.43 Q191.181 1158.57 193.403 1159.12 Q195.625 1159.68 198.102 1159.68 Q202.107 1159.68 204.445 1157.57 Q206.783 1155.46 206.783 1151.85 Q206.783 1148.24 204.445 1146.14 Q202.107 1144.03 198.102 1144.03 Q196.227 1144.03 194.352 1144.45 Q192.5 1144.86 190.556 1145.74 L190.556 1128.38 Z\" fill=\"#000000\" fill-rule=\"nonzero\" fill-opacity=\"1\" /><path clip-path=\"url(#clip160)\" d=\"M114.931 920.429 L122.57 920.429 L122.57 894.064 L114.26 895.73 L114.26 891.471 L122.524 889.804 L127.2 889.804 L127.2 920.429 L134.839 920.429 L134.839 924.364 L114.931 924.364 L114.931 920.429 Z\" fill=\"#000000\" fill-rule=\"nonzero\" fill-opacity=\"1\" /><path clip-path=\"url(#clip160)\" d=\"M144.283 918.485 L149.167 918.485 L149.167 924.364 L144.283 924.364 L144.283 918.485 Z\" fill=\"#000000\" fill-rule=\"nonzero\" fill-opacity=\"1\" /><path clip-path=\"url(#clip160)\" d=\"M169.931 905.221 Q166.783 905.221 164.931 907.374 Q163.102 909.526 163.102 913.276 Q163.102 917.003 164.931 919.179 Q166.783 921.332 169.931 921.332 Q173.079 921.332 174.908 919.179 Q176.76 917.003 176.76 913.276 Q176.76 909.526 174.908 907.374 Q173.079 905.221 169.931 905.221 M179.214 890.568 L179.214 894.827 Q177.454 893.994 175.649 893.554 Q173.866 893.114 172.107 893.114 Q167.477 893.114 165.024 896.239 Q162.593 899.364 162.246 905.684 Q163.612 903.67 165.672 902.605 Q167.732 901.517 170.209 901.517 Q175.417 901.517 178.426 904.688 Q181.459 907.837 181.459 913.276 Q181.459 918.6 178.311 921.818 Q175.163 925.036 169.931 925.036 Q163.936 925.036 160.765 920.452 Q157.593 915.846 157.593 907.119 Q157.593 898.925 161.482 894.064 Q165.371 889.179 171.922 889.179 Q173.681 889.179 175.464 889.527 Q177.269 889.874 179.214 890.568 Z\" fill=\"#000000\" fill-rule=\"nonzero\" fill-opacity=\"1\" /><path clip-path=\"url(#clip160)\" d=\"M199.514 892.883 Q195.903 892.883 194.075 896.448 Q192.269 899.989 192.269 907.119 Q192.269 914.225 194.075 917.79 Q195.903 921.332 199.514 921.332 Q203.149 921.332 204.954 917.79 Q206.783 914.225 206.783 907.119 Q206.783 899.989 204.954 896.448 Q203.149 892.883 199.514 892.883 M199.514 889.179 Q205.324 889.179 208.38 893.786 Q211.459 898.369 211.459 907.119 Q211.459 915.846 208.38 920.452 Q205.324 925.036 199.514 925.036 Q193.704 925.036 190.625 920.452 Q187.57 915.846 187.57 907.119 Q187.57 898.369 190.625 893.786 Q193.704 889.179 199.514 889.179 Z\" fill=\"#000000\" fill-rule=\"nonzero\" fill-opacity=\"1\" /><path clip-path=\"url(#clip160)\" d=\"M115.927 681.852 L123.566 681.852 L123.566 655.487 L115.256 657.153 L115.256 652.894 L123.519 651.227 L128.195 651.227 L128.195 681.852 L135.834 681.852 L135.834 685.787 L115.927 685.787 L115.927 681.852 Z\" fill=\"#000000\" fill-rule=\"nonzero\" fill-opacity=\"1\" /><path clip-path=\"url(#clip160)\" d=\"M145.279 679.908 L150.163 679.908 L150.163 685.787 L145.279 685.787 L145.279 679.908 Z\" fill=\"#000000\" fill-rule=\"nonzero\" fill-opacity=\"1\" /><path clip-path=\"url(#clip160)\" d=\"M170.927 666.644 Q167.778 666.644 165.927 668.797 Q164.098 670.949 164.098 674.699 Q164.098 678.426 165.927 680.602 Q167.778 682.755 170.927 682.755 Q174.075 682.755 175.903 680.602 Q177.755 678.426 177.755 674.699 Q177.755 670.949 175.903 668.797 Q174.075 666.644 170.927 666.644 M180.209 651.991 L180.209 656.25 Q178.45 655.417 176.644 654.977 Q174.862 654.537 173.102 654.537 Q168.473 654.537 166.019 657.662 Q163.589 660.787 163.241 667.107 Q164.607 665.093 166.667 664.028 Q168.727 662.94 171.204 662.94 Q176.413 662.94 179.422 666.112 Q182.454 669.26 182.454 674.699 Q182.454 680.023 179.306 683.241 Q176.158 686.459 170.927 686.459 Q164.931 686.459 161.76 681.875 Q158.589 677.269 158.589 668.542 Q158.589 660.348 162.477 655.487 Q166.366 650.602 172.917 650.602 Q174.677 650.602 176.459 650.95 Q178.264 651.297 180.209 651.991 Z\" fill=\"#000000\" fill-rule=\"nonzero\" fill-opacity=\"1\" /><path clip-path=\"url(#clip160)\" d=\"M190.556 651.227 L208.912 651.227 L208.912 655.162 L194.838 655.162 L194.838 663.635 Q195.857 663.287 196.875 663.125 Q197.894 662.94 198.912 662.94 Q204.699 662.94 208.079 666.112 Q211.459 669.283 211.459 674.699 Q211.459 680.278 207.987 683.38 Q204.514 686.459 198.195 686.459 Q196.019 686.459 193.75 686.088 Q191.505 685.718 189.098 684.977 L189.098 680.278 Q191.181 681.412 193.403 681.968 Q195.625 682.523 198.102 682.523 Q202.107 682.523 204.445 680.417 Q206.783 678.311 206.783 674.699 Q206.783 671.088 204.445 668.982 Q202.107 666.875 198.102 666.875 Q196.227 666.875 194.352 667.292 Q192.5 667.709 190.556 668.588 L190.556 651.227 Z\" fill=\"#000000\" fill-rule=\"nonzero\" fill-opacity=\"1\" /><path clip-path=\"url(#clip160)\" d=\"M114.931 443.275 L122.57 443.275 L122.57 416.91 L114.26 418.576 L114.26 414.317 L122.524 412.65 L127.2 412.65 L127.2 443.275 L134.839 443.275 L134.839 447.21 L114.931 447.21 L114.931 443.275 Z\" fill=\"#000000\" fill-rule=\"nonzero\" fill-opacity=\"1\" /><path clip-path=\"url(#clip160)\" d=\"M144.283 441.331 L149.167 441.331 L149.167 447.21 L144.283 447.21 L144.283 441.331 Z\" fill=\"#000000\" fill-rule=\"nonzero\" fill-opacity=\"1\" /><path clip-path=\"url(#clip160)\" d=\"M158.172 412.65 L180.394 412.65 L180.394 414.641 L167.848 447.21 L162.964 447.21 L174.769 416.586 L158.172 416.586 L158.172 412.65 Z\" fill=\"#000000\" fill-rule=\"nonzero\" fill-opacity=\"1\" /><path clip-path=\"url(#clip160)\" d=\"M199.514 415.729 Q195.903 415.729 194.075 419.294 Q192.269 422.835 192.269 429.965 Q192.269 437.072 194.075 440.636 Q195.903 444.178 199.514 444.178 Q203.149 444.178 204.954 440.636 Q206.783 437.072 206.783 429.965 Q206.783 422.835 204.954 419.294 Q203.149 415.729 199.514 415.729 M199.514 412.025 Q205.324 412.025 208.38 416.632 Q211.459 421.215 211.459 429.965 Q211.459 438.692 208.38 443.298 Q205.324 447.882 199.514 447.882 Q193.704 447.882 190.625 443.298 Q187.57 438.692 187.57 429.965 Q187.57 421.215 190.625 416.632 Q193.704 412.025 199.514 412.025 Z\" fill=\"#000000\" fill-rule=\"nonzero\" fill-opacity=\"1\" /><path clip-path=\"url(#clip160)\" d=\"M115.927 204.698 L123.566 204.698 L123.566 178.333 L115.256 179.999 L115.256 175.74 L123.519 174.073 L128.195 174.073 L128.195 204.698 L135.834 204.698 L135.834 208.633 L115.927 208.633 L115.927 204.698 Z\" fill=\"#000000\" fill-rule=\"nonzero\" fill-opacity=\"1\" /><path clip-path=\"url(#clip160)\" d=\"M145.279 202.754 L150.163 202.754 L150.163 208.633 L145.279 208.633 L145.279 202.754 Z\" fill=\"#000000\" fill-rule=\"nonzero\" fill-opacity=\"1\" /><path clip-path=\"url(#clip160)\" d=\"M159.167 174.073 L181.389 174.073 L181.389 176.064 L168.843 208.633 L163.959 208.633 L175.764 178.009 L159.167 178.009 L159.167 174.073 Z\" fill=\"#000000\" fill-rule=\"nonzero\" fill-opacity=\"1\" /><path clip-path=\"url(#clip160)\" d=\"M190.556 174.073 L208.912 174.073 L208.912 178.009 L194.838 178.009 L194.838 186.481 Q195.857 186.133 196.875 185.971 Q197.894 185.786 198.912 185.786 Q204.699 185.786 208.079 188.958 Q211.459 192.129 211.459 197.545 Q211.459 203.124 207.987 206.226 Q204.514 209.305 198.195 209.305 Q196.019 209.305 193.75 208.934 Q191.505 208.564 189.098 207.823 L189.098 203.124 Q191.181 204.258 193.403 204.814 Q195.625 205.369 198.102 205.369 Q202.107 205.369 204.445 203.263 Q206.783 201.157 206.783 197.545 Q206.783 193.934 204.445 191.828 Q202.107 189.721 198.102 189.721 Q196.227 189.721 194.352 190.138 Q192.5 190.555 190.556 191.434 L190.556 174.073 Z\" fill=\"#000000\" fill-rule=\"nonzero\" fill-opacity=\"1\" /><path clip-path=\"url(#clip160)\" d=\"M16.4842 753.195 L16.4842 744.538 L56.238 723.467 L16.4842 723.467 L16.4842 717.229 L64.0042 717.229 L64.0042 725.886 L24.2503 746.957 L64.0042 746.957 L64.0042 753.195 L16.4842 753.195 Z\" fill=\"#000000\" fill-rule=\"nonzero\" fill-opacity=\"1\" /><polyline clip-path=\"url(#clip162)\" style=\"stroke:#009af9; stroke-linecap:round; stroke-linejoin:round; stroke-width:4; stroke-opacity:1; fill:none\" points=\"307.043,1384.24 591.289,1211.47 2293.17,86.1857 \"/>\n",
       "<path clip-path=\"url(#clip160)\" d=\"M317.635 196.789 L580.595 196.789 L580.595 93.1086 L317.635 93.1086  Z\" fill=\"#ffffff\" fill-rule=\"evenodd\" fill-opacity=\"1\"/>\n",
       "<polyline clip-path=\"url(#clip160)\" style=\"stroke:#000000; stroke-linecap:round; stroke-linejoin:round; stroke-width:4; stroke-opacity:1; fill:none\" points=\"317.635,196.789 580.595,196.789 580.595,93.1086 317.635,93.1086 317.635,196.789 \"/>\n",
       "<polyline clip-path=\"url(#clip160)\" style=\"stroke:#009af9; stroke-linecap:round; stroke-linejoin:round; stroke-width:4; stroke-opacity:1; fill:none\" points=\"341.027,144.949 481.381,144.949 \"/>\n",
       "<path clip-path=\"url(#clip160)\" d=\"M518.615 164.636 Q516.81 169.266 515.097 170.678 Q513.384 172.09 510.514 172.09 L507.111 172.09 L507.111 168.525 L509.611 168.525 Q511.37 168.525 512.342 167.692 Q513.314 166.858 514.495 163.756 L515.259 161.812 L504.773 136.303 L509.287 136.303 L517.388 156.581 L525.49 136.303 L530.004 136.303 L518.615 164.636 Z\" fill=\"#000000\" fill-rule=\"nonzero\" fill-opacity=\"1\" /><path clip-path=\"url(#clip160)\" d=\"M537.296 158.293 L544.935 158.293 L544.935 131.928 L536.624 133.595 L536.624 129.335 L544.888 127.669 L549.564 127.669 L549.564 158.293 L557.203 158.293 L557.203 162.229 L537.296 162.229 L537.296 158.293 Z\" fill=\"#000000\" fill-rule=\"nonzero\" fill-opacity=\"1\" /></svg>\n"
      ]
     },
     "execution_count": 12,
     "metadata": {},
     "output_type": "execute_result"
    }
   ],
   "source": [
    "using Plots\n",
    "plot(sol.t, sol[:])"
   ]
  },
  {
   "cell_type": "markdown",
   "metadata": {
    "name": "A slide ",
    "slideshow": {
     "slide_type": "slide"
    }
   },
   "source": [
    "### There are many **cutting-edge** packages\n",
    "\n",
    "- [DifferentialEquations.jl](https://github.com/JuliaDiffEq/DifferentialEquations.jl), probably the best differential equation solver package around\n",
    "- [Flux.jl](https://fluxml.ai/2019/02/07/what-is-differentiable-programming.html) machine learning/differentiable programming package \n",
    "- [JuMP.jl](https://github.com/JuliaOpt/JuMP.jl) mathematical optimisation package, big in, e.g., operations research\n",
    "- automatic differentiation (AD): [Enzyme.jl](https://github.com/EnzymeAD/Enzyme.jl), [ForwardDiff.jl](https://github.com/JuliaDiff/ForwardDiff.jl), many [others](https://juliadiff.org/#the_big_list)\n",
    "- [Turing.jl](https://turinglang.org) for Bayesian inference\n",
    "\n",
    "--> above packages can work together to allow, e.g., *Scientific machine learning*, combining differential equation-based, physical models with machine learning: [link to blog](https://fluxml.ai/blog/2019/03/05/dp-vs-rl.html)\n"
   ]
  },
  {
   "cell_type": "markdown",
   "metadata": {
    "name": "A slide ",
    "slideshow": {
     "slide_type": "slide"
    }
   },
   "source": [
    "### Some cool packages (utilities)\n",
    "\n",
    "- BenchmarkTools.jl and ProfileView.jl for performance tweaking\n",
    "- IJulia.jl (Jupyter notebooks)\n",
    "- Literate.jl produces notebooks and markdown from scripts (as I don't like notebooks after all...)\n",
    "  - -> used for the slides and exercises in this workshop\n",
    "- Plots.jl basic plotting\n",
    "- Revise.jl makes code updates in packages visible immediately to the current running Julia process\n",
    "- PythonCall.jl: seemless interface to Python\n",
    "- RCall.jl: seemless interface to R\n",
    "\n",
    "*Install for sure into global environment: Revise.jl and BenchmarkTools.jl*"
   ]
  },
  {
   "cell_type": "markdown",
   "metadata": {
    "name": "A slide ",
    "slideshow": {
     "slide_type": "slide"
    }
   },
   "source": [
    "### Some cool packages (general sciences)\n",
    "\n",
    "- Rasters.jl for raster geo-data\n",
    "- JLD2.jl for storing anything\n",
    "- OrdinaryDiffEq.jl to solve Ordinary Differential Equations (ODEs)\n",
    "\n"
   ]
  },
  {
   "cell_type": "markdown",
   "metadata": {
    "slideshow": {
     "slide_type": "slide"
    }
   },
   "source": [
    "### Some cool packages (ecology)\n",
    "Check out [EcoJulia community](https://ecojulia.org)\n",
    "\n",
    "- [ConsScape.jl](https://github.com/ConScape/ConScape.jl): connectivity analysis\n",
    "- [Phylo.jl](http://docs.ecojulia.org/Phylo.jl/stable/)\n",
    "<!-- - [Simulation.jl](http://docs.ecojulia.org/Phylo.jl/stable/) -->\n",
    "- [DynamicGrids.jl](https://github.com/cesaraustralia/DynamicGrids.jl)\n",
    "- [SpeciesDistributionModel.jl](https://github.com/tiemvanderdeure/SpeciesDistributionModels.jl)"
   ]
  },
  {
   "cell_type": "markdown",
   "metadata": {
    "name": "A slide ",
    "slideshow": {
     "slide_type": "slide"
    }
   },
   "source": [
    "### Our packages\n",
    "\n",
    "**Victor**:\n",
    "- HighDimPDE.jl -- to solve high dimensional PDEs\n",
    "- EvoId.jl -- Evolutionary Individual based modelling, mathematically grounded.\n",
    "- PiecewiseInference.jl -- Suite for parameter inference and model selection with dynamical models characterised by complex dynamics.\n",
    "- EcoEvoModelZoo.jl -- A zoo of eco-evolutionary models with high fitness.\n",
    "\n",
    "**Daniel**:\n",
    "\n",
    "**Francesco**\n"
   ]
  },
  {
   "cell_type": "markdown",
   "metadata": {
    "name": "A slide ",
    "slideshow": {
     "slide_type": "slide"
    }
   },
   "source": [
    "# Julia Community\n",
    "\n",
    "The Julia community is very friendly and helpful:\n",
    "\n",
    "- Easy to get help on\n",
    "  - [discourse forum](https://discourse.julialang.org)\n",
    "  - StackOverflow (ok, maybe there it's less easy)\n",
    "  - and on more informal chat-clients: [Slack](https://julialang.slack.com/), [Zulip](https://julialang.zulipchat.com/register/)\n",
    "- Active developer community on GitHub\n",
    "- The yearly [JuliaCon](https://juliacon.org) is as fun and friendly conference (next one in July at MIT and online)"
   ]
  }
 ],
 "metadata": {
  "kernelspec": {
   "display_name": "Julia 1.8.3",
   "language": "julia",
   "name": "julia-1.8"
  },
  "language_info": {
   "file_extension": ".jl",
   "mimetype": "application/julia",
   "name": "julia",
   "version": "1.8.3"
  }
 },
 "nbformat": 4,
 "nbformat_minor": 3
}
