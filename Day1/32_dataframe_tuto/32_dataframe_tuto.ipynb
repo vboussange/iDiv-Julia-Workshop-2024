{
 "cells": [
  {
   "attachments": {},
   "cell_type": "markdown",
   "metadata": {
    "slideshow": {
     "slide_type": "slide"
    }
   },
   "source": [
    "# DataFrames and broadcasting in Julia"
   ]
  },
  {
   "cell_type": "markdown",
   "metadata": {
    "slideshow": {
     "slide_type": "slide"
    }
   },
   "source": [
    "## Dataframes\n",
    "\n",
    "![](https://dataframes.juliadata.org/stable/assets/logo.png)\n",
    "\n"
   ]
  },
  {
   "cell_type": "markdown",
   "metadata": {
    "slideshow": {
     "slide_type": "subslide"
    }
   },
   "source": [
    "\n",
    "- [`DataFrames.jl`](https://github.com/JuliaData/DataFrames.jl) is the primary package for working with tabular data in Julia. \n",
    "\n",
    "- It provides functionality similar to that of `pandas` in Python or `data.frames` in R. \n",
    "\n",
    "- Lot of correspondence between these three packages!\n"
   ]
  },
  {
   "cell_type": "markdown",
   "metadata": {
    "slideshow": {
     "slide_type": "slide"
    }
   },
   "source": [
    "### Installation\n",
    "\n",
    "`Dataframes.jl` is not shipped by default with Julia - you need to install it.\n",
    "\n",
    "```julia-repl\n",
    ">julia] add DataFrames \n",
    "```"
   ]
  },
  {
   "cell_type": "code",
   "execution_count": 15,
   "metadata": {
    "slideshow": {
     "slide_type": "skip"
    },
    "tags": [
     "hide-input"
    ]
   },
   "outputs": [
    {
     "name": "stderr",
     "output_type": "stream",
     "text": [
      "\u001b[32m\u001b[1m  Activating\u001b[22m\u001b[39m project at `~/Academia/Postdoc_S2z/teaching/iDiv_Julia_workshop/materials/Day1/32_dataframe_tuto`\n",
      "\u001b[32m\u001b[1mPrecompiling\u001b[22m\u001b[39m project...\n",
      "\u001b[32m  ✓ \u001b[39m\u001b[90mLatexify → DataFramesExt\u001b[39m\n",
      "  1 dependency successfully precompiled in 1 seconds. 182 already precompiled. 1 skipped during auto due to previous errors.\n"
     ]
    }
   ],
   "source": [
    "cd(@__DIR__)\n",
    "using Pkg; Pkg.activate(\".\");\n",
    "Pkg.instantiate()"
   ]
  },
  {
   "cell_type": "markdown",
   "metadata": {
    "slideshow": {
     "slide_type": "slide"
    }
   },
   "source": [
    "### Constructing `DataFrame`s"
   ]
  },
  {
   "cell_type": "code",
   "execution_count": 16,
   "metadata": {
    "slideshow": {
     "slide_type": "subslide"
    }
   },
   "outputs": [
    {
     "data": {
      "text/html": [
       "<div><div style = \"float: left;\"><span>6×5 DataFrame</span></div><div style = \"clear: both;\"></div></div><div class = \"data-frame\" style = \"overflow-x: scroll;\"><table class = \"data-frame\" style = \"margin-bottom: 6px;\"><thead><tr class = \"header\"><th class = \"rowNumber\" style = \"font-weight: bold; text-align: right;\">Row</th><th style = \"text-align: left;\">grp</th><th style = \"text-align: left;\">x</th><th style = \"text-align: left;\">y</th><th style = \"text-align: left;\">z</th><th style = \"text-align: left;\">id</th></tr><tr class = \"subheader headerLastRow\"><th class = \"rowNumber\" style = \"font-weight: bold; text-align: right;\"></th><th title = \"Int64\" style = \"text-align: left;\">Int64</th><th title = \"Int64\" style = \"text-align: left;\">Int64</th><th title = \"Int64\" style = \"text-align: left;\">Int64</th><th title = \"Union{Missing, Int64}\" style = \"text-align: left;\">Int64?</th><th title = \"Char\" style = \"text-align: left;\">Char</th></tr></thead><tbody><tr><td class = \"rowNumber\" style = \"font-weight: bold; text-align: right;\">1</td><td style = \"text-align: right;\">1</td><td style = \"text-align: right;\">6</td><td style = \"text-align: right;\">4</td><td style = \"text-align: right;\">3</td><td style = \"text-align: left;\">a</td></tr><tr><td class = \"rowNumber\" style = \"font-weight: bold; text-align: right;\">2</td><td style = \"text-align: right;\">2</td><td style = \"text-align: right;\">5</td><td style = \"text-align: right;\">5</td><td style = \"text-align: right;\">4</td><td style = \"text-align: left;\">b</td></tr><tr><td class = \"rowNumber\" style = \"font-weight: bold; text-align: right;\">3</td><td style = \"text-align: right;\">1</td><td style = \"text-align: right;\">4</td><td style = \"text-align: right;\">6</td><td style = \"text-align: right;\">5</td><td style = \"text-align: left;\">c</td></tr><tr><td class = \"rowNumber\" style = \"font-weight: bold; text-align: right;\">4</td><td style = \"text-align: right;\">2</td><td style = \"text-align: right;\">3</td><td style = \"text-align: right;\">7</td><td style = \"text-align: right;\">6</td><td style = \"text-align: left;\">d</td></tr><tr><td class = \"rowNumber\" style = \"font-weight: bold; text-align: right;\">5</td><td style = \"text-align: right;\">1</td><td style = \"text-align: right;\">2</td><td style = \"text-align: right;\">8</td><td style = \"text-align: right;\">7</td><td style = \"text-align: left;\">e</td></tr><tr><td class = \"rowNumber\" style = \"font-weight: bold; text-align: right;\">6</td><td style = \"text-align: right;\">2</td><td style = \"text-align: right;\">1</td><td style = \"text-align: right;\">9</td><td style = \"font-style: italic; text-align: right;\">missing</td><td style = \"text-align: left;\">f</td></tr></tbody></table></div>"
      ],
      "text/latex": [
       "\\begin{tabular}{r|ccccc}\n",
       "\t& grp & x & y & z & id\\\\\n",
       "\t\\hline\n",
       "\t& Int64 & Int64 & Int64 & Int64? & Char\\\\\n",
       "\t\\hline\n",
       "\t1 & 1 & 6 & 4 & 3 & a \\\\\n",
       "\t2 & 2 & 5 & 5 & 4 & b \\\\\n",
       "\t3 & 1 & 4 & 6 & 5 & c \\\\\n",
       "\t4 & 2 & 3 & 7 & 6 & d \\\\\n",
       "\t5 & 1 & 2 & 8 & 7 & e \\\\\n",
       "\t6 & 2 & 1 & 9 & \\emph{missing} & f \\\\\n",
       "\\end{tabular}\n"
      ],
      "text/plain": [
       "\u001b[1m6×5 DataFrame\u001b[0m\n",
       "\u001b[1m Row \u001b[0m│\u001b[1m grp   \u001b[0m\u001b[1m x     \u001b[0m\u001b[1m y     \u001b[0m\u001b[1m z       \u001b[0m\u001b[1m id   \u001b[0m\n",
       "     │\u001b[90m Int64 \u001b[0m\u001b[90m Int64 \u001b[0m\u001b[90m Int64 \u001b[0m\u001b[90m Int64?  \u001b[0m\u001b[90m Char \u001b[0m\n",
       "─────┼────────────────────────────────────\n",
       "   1 │     1      6      4        3  a\n",
       "   2 │     2      5      5        4  b\n",
       "   3 │     1      4      6        5  c\n",
       "   4 │     2      3      7        6  d\n",
       "   5 │     1      2      8        7  e\n",
       "   6 │     2      1      9 \u001b[90m missing \u001b[0m f"
      ]
     },
     "metadata": {},
     "output_type": "display_data"
    }
   ],
   "source": [
    "using DataFrames\n",
    "\n",
    "df = DataFrame(grp=repeat(1:2, 3), \n",
    "                x=6:-1:1, \n",
    "                y=4:9, \n",
    "                z=[3:7; missing], \n",
    "                id='a':'f')"
   ]
  },
  {
   "cell_type": "code",
   "execution_count": 17,
   "metadata": {
    "slideshow": {
     "slide_type": "subslide"
    }
   },
   "outputs": [
    {
     "data": {
      "text/html": [
       "<div><div style = \"float: left;\"><span>2×2 DataFrame</span></div><div style = \"clear: both;\"></div></div><div class = \"data-frame\" style = \"overflow-x: scroll;\"><table class = \"data-frame\" style = \"margin-bottom: 6px;\"><thead><tr class = \"header\"><th class = \"rowNumber\" style = \"font-weight: bold; text-align: right;\">Row</th><th style = \"text-align: left;\">grp</th><th style = \"text-align: left;\">w</th></tr><tr class = \"subheader headerLastRow\"><th class = \"rowNumber\" style = \"font-weight: bold; text-align: right;\"></th><th title = \"Int64\" style = \"text-align: left;\">Int64</th><th title = \"Int64\" style = \"text-align: left;\">Int64</th></tr></thead><tbody><tr><td class = \"rowNumber\" style = \"font-weight: bold; text-align: right;\">1</td><td style = \"text-align: right;\">1</td><td style = \"text-align: right;\">10</td></tr><tr><td class = \"rowNumber\" style = \"font-weight: bold; text-align: right;\">2</td><td style = \"text-align: right;\">3</td><td style = \"text-align: right;\">11</td></tr></tbody></table></div>"
      ],
      "text/latex": [
       "\\begin{tabular}{r|cc}\n",
       "\t& grp & w\\\\\n",
       "\t\\hline\n",
       "\t& Int64 & Int64\\\\\n",
       "\t\\hline\n",
       "\t1 & 1 & 10 \\\\\n",
       "\t2 & 3 & 11 \\\\\n",
       "\\end{tabular}\n"
      ],
      "text/plain": [
       "\u001b[1m2×2 DataFrame\u001b[0m\n",
       "\u001b[1m Row \u001b[0m│\u001b[1m grp   \u001b[0m\u001b[1m w     \u001b[0m\n",
       "     │\u001b[90m Int64 \u001b[0m\u001b[90m Int64 \u001b[0m\n",
       "─────┼──────────────\n",
       "   1 │     1     10\n",
       "   2 │     3     11"
      ]
     },
     "metadata": {},
     "output_type": "display_data"
    }
   ],
   "source": [
    "df2 = DataFrame(\"grp\"=>[1, 3], \n",
    "                \"w\"=>[10, 11]) # Pair syntax "
   ]
  },
  {
   "cell_type": "code",
   "execution_count": 18,
   "metadata": {
    "slideshow": {
     "slide_type": "subslide"
    }
   },
   "outputs": [
    {
     "data": {
      "text/plain": [
       "5-element Vector{String}:\n",
       " \"grp\"\n",
       " \"x\"\n",
       " \"y\"\n",
       " \"z\"\n",
       " \"id\""
      ]
     },
     "metadata": {},
     "output_type": "display_data"
    }
   ],
   "source": [
    "names(df)"
   ]
  },
  {
   "cell_type": "markdown",
   "metadata": {
    "slideshow": {
     "slide_type": "subslide"
    }
   },
   "source": [
    "Constructing Row by Row"
   ]
  },
  {
   "cell_type": "code",
   "execution_count": 19,
   "metadata": {
    "slideshow": {
     "slide_type": "fragment"
    }
   },
   "outputs": [
    {
     "data": {
      "text/html": [
       "<div><div style = \"float: left;\"><span>1×2 DataFrame</span></div><div style = \"clear: both;\"></div></div><div class = \"data-frame\" style = \"overflow-x: scroll;\"><table class = \"data-frame\" style = \"margin-bottom: 6px;\"><thead><tr class = \"header\"><th class = \"rowNumber\" style = \"font-weight: bold; text-align: right;\">Row</th><th style = \"text-align: left;\">A</th><th style = \"text-align: left;\">B</th></tr><tr class = \"subheader headerLastRow\"><th class = \"rowNumber\" style = \"font-weight: bold; text-align: right;\"></th><th title = \"Int64\" style = \"text-align: left;\">Int64</th><th title = \"String\" style = \"text-align: left;\">String</th></tr></thead><tbody><tr><td class = \"rowNumber\" style = \"font-weight: bold; text-align: right;\">1</td><td style = \"text-align: right;\">1</td><td style = \"text-align: left;\">M</td></tr></tbody></table></div>"
      ],
      "text/latex": [
       "\\begin{tabular}{r|cc}\n",
       "\t& A & B\\\\\n",
       "\t\\hline\n",
       "\t& Int64 & String\\\\\n",
       "\t\\hline\n",
       "\t1 & 1 & M \\\\\n",
       "\\end{tabular}\n"
      ],
      "text/plain": [
       "\u001b[1m1×2 DataFrame\u001b[0m\n",
       "\u001b[1m Row \u001b[0m│\u001b[1m A     \u001b[0m\u001b[1m B      \u001b[0m\n",
       "     │\u001b[90m Int64 \u001b[0m\u001b[90m String \u001b[0m\n",
       "─────┼───────────────\n",
       "   1 │     1  M"
      ]
     },
     "metadata": {},
     "output_type": "display_data"
    }
   ],
   "source": [
    "df3 = DataFrame(A=Int[], B=String[])\n",
    "push!(df3, (1, \"M\"))"
   ]
  },
  {
   "cell_type": "markdown",
   "metadata": {
    "slideshow": {
     "slide_type": "slide"
    }
   },
   "source": [
    "### Accessing data"
   ]
  },
  {
   "cell_type": "markdown",
   "metadata": {
    "slideshow": {
     "slide_type": "subslide"
    }
   },
   "source": [
    "Cell indexing by location"
   ]
  },
  {
   "cell_type": "code",
   "execution_count": 20,
   "metadata": {
    "slideshow": {
     "slide_type": "fragment"
    }
   },
   "outputs": [
    {
     "data": {
      "text/plain": [
       "5"
      ]
     },
     "metadata": {},
     "output_type": "display_data"
    }
   ],
   "source": [
    "df[2, 2]"
   ]
  },
  {
   "cell_type": "markdown",
   "metadata": {
    "slideshow": {
     "slide_type": "subslide"
    }
   },
   "source": [
    "Row slicing by location"
   ]
  },
  {
   "cell_type": "code",
   "execution_count": 21,
   "metadata": {
    "slideshow": {
     "slide_type": "fragment"
    }
   },
   "outputs": [
    {
     "data": {
      "text/html": [
       "<div><div style = \"float: left;\"><span>2×5 DataFrame</span></div><div style = \"clear: both;\"></div></div><div class = \"data-frame\" style = \"overflow-x: scroll;\"><table class = \"data-frame\" style = \"margin-bottom: 6px;\"><thead><tr class = \"header\"><th class = \"rowNumber\" style = \"font-weight: bold; text-align: right;\">Row</th><th style = \"text-align: left;\">grp</th><th style = \"text-align: left;\">x</th><th style = \"text-align: left;\">y</th><th style = \"text-align: left;\">z</th><th style = \"text-align: left;\">id</th></tr><tr class = \"subheader headerLastRow\"><th class = \"rowNumber\" style = \"font-weight: bold; text-align: right;\"></th><th title = \"Int64\" style = \"text-align: left;\">Int64</th><th title = \"Int64\" style = \"text-align: left;\">Int64</th><th title = \"Int64\" style = \"text-align: left;\">Int64</th><th title = \"Union{Missing, Int64}\" style = \"text-align: left;\">Int64?</th><th title = \"Char\" style = \"text-align: left;\">Char</th></tr></thead><tbody><tr><td class = \"rowNumber\" style = \"font-weight: bold; text-align: right;\">1</td><td style = \"text-align: right;\">2</td><td style = \"text-align: right;\">5</td><td style = \"text-align: right;\">5</td><td style = \"text-align: right;\">4</td><td style = \"text-align: left;\">b</td></tr><tr><td class = \"rowNumber\" style = \"font-weight: bold; text-align: right;\">2</td><td style = \"text-align: right;\">1</td><td style = \"text-align: right;\">4</td><td style = \"text-align: right;\">6</td><td style = \"text-align: right;\">5</td><td style = \"text-align: left;\">c</td></tr></tbody></table></div>"
      ],
      "text/latex": [
       "\\begin{tabular}{r|ccccc}\n",
       "\t& grp & x & y & z & id\\\\\n",
       "\t\\hline\n",
       "\t& Int64 & Int64 & Int64 & Int64? & Char\\\\\n",
       "\t\\hline\n",
       "\t1 & 2 & 5 & 5 & 4 & b \\\\\n",
       "\t2 & 1 & 4 & 6 & 5 & c \\\\\n",
       "\\end{tabular}\n"
      ],
      "text/plain": [
       "\u001b[1m2×5 DataFrame\u001b[0m\n",
       "\u001b[1m Row \u001b[0m│\u001b[1m grp   \u001b[0m\u001b[1m x     \u001b[0m\u001b[1m y     \u001b[0m\u001b[1m z      \u001b[0m\u001b[1m id   \u001b[0m\n",
       "     │\u001b[90m Int64 \u001b[0m\u001b[90m Int64 \u001b[0m\u001b[90m Int64 \u001b[0m\u001b[90m Int64? \u001b[0m\u001b[90m Char \u001b[0m\n",
       "─────┼───────────────────────────────────\n",
       "   1 │     2      5      5       4  b\n",
       "   2 │     1      4      6       5  c"
      ]
     },
     "metadata": {},
     "output_type": "display_data"
    }
   ],
   "source": [
    "df[2:3, :]"
   ]
  },
  {
   "cell_type": "markdown",
   "metadata": {
    "slideshow": {
     "slide_type": "subslide"
    }
   },
   "source": [
    "Column indexing"
   ]
  },
  {
   "cell_type": "code",
   "execution_count": 22,
   "metadata": {
    "slideshow": {
     "slide_type": "fragment"
    }
   },
   "outputs": [
    {
     "data": {
      "text/plain": [
       "6-element Vector{Int64}:\n",
       " 6\n",
       " 5\n",
       " 4\n",
       " 3\n",
       " 2\n",
       " 1"
      ]
     },
     "metadata": {},
     "output_type": "display_data"
    }
   ],
   "source": [
    "df[:, :x]"
   ]
  },
  {
   "cell_type": "code",
   "execution_count": 23,
   "metadata": {
    "slideshow": {
     "slide_type": "subslide"
    }
   },
   "outputs": [
    {
     "data": {
      "text/plain": [
       "6-element Vector{Int64}:\n",
       " 6\n",
       " 5\n",
       " 4\n",
       " 3\n",
       " 2\n",
       " 1"
      ]
     },
     "metadata": {},
     "output_type": "display_data"
    }
   ],
   "source": [
    "df.x"
   ]
  },
  {
   "cell_type": "code",
   "execution_count": 24,
   "metadata": {
    "slideshow": {
     "slide_type": "subslide"
    }
   },
   "outputs": [
    {
     "data": {
      "text/html": [
       "<div><div style = \"float: left;\"><span>6×2 DataFrame</span></div><div style = \"clear: both;\"></div></div><div class = \"data-frame\" style = \"overflow-x: scroll;\"><table class = \"data-frame\" style = \"margin-bottom: 6px;\"><thead><tr class = \"header\"><th class = \"rowNumber\" style = \"font-weight: bold; text-align: right;\">Row</th><th style = \"text-align: left;\">x</th><th style = \"text-align: left;\">z</th></tr><tr class = \"subheader headerLastRow\"><th class = \"rowNumber\" style = \"font-weight: bold; text-align: right;\"></th><th title = \"Int64\" style = \"text-align: left;\">Int64</th><th title = \"Union{Missing, Int64}\" style = \"text-align: left;\">Int64?</th></tr></thead><tbody><tr><td class = \"rowNumber\" style = \"font-weight: bold; text-align: right;\">1</td><td style = \"text-align: right;\">6</td><td style = \"text-align: right;\">3</td></tr><tr><td class = \"rowNumber\" style = \"font-weight: bold; text-align: right;\">2</td><td style = \"text-align: right;\">5</td><td style = \"text-align: right;\">4</td></tr><tr><td class = \"rowNumber\" style = \"font-weight: bold; text-align: right;\">3</td><td style = \"text-align: right;\">4</td><td style = \"text-align: right;\">5</td></tr><tr><td class = \"rowNumber\" style = \"font-weight: bold; text-align: right;\">4</td><td style = \"text-align: right;\">3</td><td style = \"text-align: right;\">6</td></tr><tr><td class = \"rowNumber\" style = \"font-weight: bold; text-align: right;\">5</td><td style = \"text-align: right;\">2</td><td style = \"text-align: right;\">7</td></tr><tr><td class = \"rowNumber\" style = \"font-weight: bold; text-align: right;\">6</td><td style = \"text-align: right;\">1</td><td style = \"font-style: italic; text-align: right;\">missing</td></tr></tbody></table></div>"
      ],
      "text/latex": [
       "\\begin{tabular}{r|cc}\n",
       "\t& x & z\\\\\n",
       "\t\\hline\n",
       "\t& Int64 & Int64?\\\\\n",
       "\t\\hline\n",
       "\t1 & 6 & 3 \\\\\n",
       "\t2 & 5 & 4 \\\\\n",
       "\t3 & 4 & 5 \\\\\n",
       "\t4 & 3 & 6 \\\\\n",
       "\t5 & 2 & 7 \\\\\n",
       "\t6 & 1 & \\emph{missing} \\\\\n",
       "\\end{tabular}\n"
      ],
      "text/plain": [
       "\u001b[1m6×2 DataFrame\u001b[0m\n",
       "\u001b[1m Row \u001b[0m│\u001b[1m x     \u001b[0m\u001b[1m z       \u001b[0m\n",
       "     │\u001b[90m Int64 \u001b[0m\u001b[90m Int64?  \u001b[0m\n",
       "─────┼────────────────\n",
       "   1 │     6        3\n",
       "   2 │     5        4\n",
       "   3 │     4        5\n",
       "   4 │     3        6\n",
       "   5 │     2        7\n",
       "   6 │     1 \u001b[90m missing \u001b[0m"
      ]
     },
     "metadata": {},
     "output_type": "display_data"
    }
   ],
   "source": [
    "df[:, [:x, :z]]"
   ]
  },
  {
   "cell_type": "markdown",
   "metadata": {
    "slideshow": {
     "slide_type": "slide"
    }
   },
   "source": [
    "Row indexing by label"
   ]
  },
  {
   "cell_type": "code",
   "execution_count": 25,
   "metadata": {
    "slideshow": {
     "slide_type": "subslide"
    }
   },
   "outputs": [
    {
     "data": {
      "text/html": [
       "<div><div style = \"float: left;\"><span>1×5 DataFrame</span></div><div style = \"clear: both;\"></div></div><div class = \"data-frame\" style = \"overflow-x: scroll;\"><table class = \"data-frame\" style = \"margin-bottom: 6px;\"><thead><tr class = \"header\"><th class = \"rowNumber\" style = \"font-weight: bold; text-align: right;\">Row</th><th style = \"text-align: left;\">grp</th><th style = \"text-align: left;\">x</th><th style = \"text-align: left;\">y</th><th style = \"text-align: left;\">z</th><th style = \"text-align: left;\">id</th></tr><tr class = \"subheader headerLastRow\"><th class = \"rowNumber\" style = \"font-weight: bold; text-align: right;\"></th><th title = \"Int64\" style = \"text-align: left;\">Int64</th><th title = \"Int64\" style = \"text-align: left;\">Int64</th><th title = \"Int64\" style = \"text-align: left;\">Int64</th><th title = \"Union{Missing, Int64}\" style = \"text-align: left;\">Int64?</th><th title = \"Char\" style = \"text-align: left;\">Char</th></tr></thead><tbody><tr><td class = \"rowNumber\" style = \"font-weight: bold; text-align: right;\">1</td><td style = \"text-align: right;\">1</td><td style = \"text-align: right;\">4</td><td style = \"text-align: right;\">6</td><td style = \"text-align: right;\">5</td><td style = \"text-align: left;\">c</td></tr></tbody></table></div>"
      ],
      "text/latex": [
       "\\begin{tabular}{r|ccccc}\n",
       "\t& grp & x & y & z & id\\\\\n",
       "\t\\hline\n",
       "\t& Int64 & Int64 & Int64 & Int64? & Char\\\\\n",
       "\t\\hline\n",
       "\t1 & 1 & 4 & 6 & 5 & c \\\\\n",
       "\\end{tabular}\n"
      ],
      "text/plain": [
       "\u001b[1m1×5 DataFrame\u001b[0m\n",
       "\u001b[1m Row \u001b[0m│\u001b[1m grp   \u001b[0m\u001b[1m x     \u001b[0m\u001b[1m y     \u001b[0m\u001b[1m z      \u001b[0m\u001b[1m id   \u001b[0m\n",
       "     │\u001b[90m Int64 \u001b[0m\u001b[90m Int64 \u001b[0m\u001b[90m Int64 \u001b[0m\u001b[90m Int64? \u001b[0m\u001b[90m Char \u001b[0m\n",
       "─────┼───────────────────────────────────\n",
       "   1 │     1      4      6       5  c"
      ]
     },
     "metadata": {},
     "output_type": "display_data"
    }
   ],
   "source": [
    "df[df.id .== 'c', :]"
   ]
  },
  {
   "cell_type": "markdown",
   "metadata": {
    "slideshow": {
     "slide_type": "fragment"
    }
   },
   "source": [
    "Notice the `.` in front of the `==`. More on that in a minute!"
   ]
  },
  {
   "cell_type": "markdown",
   "metadata": {
    "slideshow": {
     "slide_type": "slide"
    }
   },
   "source": [
    "### Changing the data stored in a dataframe"
   ]
  },
  {
   "cell_type": "code",
   "execution_count": 26,
   "metadata": {
    "slideshow": {
     "slide_type": "subslide"
    }
   },
   "outputs": [
    {
     "data": {
      "text/html": [
       "<div><div style = \"float: left;\"><span>6×5 DataFrame</span></div><div style = \"clear: both;\"></div></div><div class = \"data-frame\" style = \"overflow-x: scroll;\"><table class = \"data-frame\" style = \"margin-bottom: 6px;\"><thead><tr class = \"header\"><th class = \"rowNumber\" style = \"font-weight: bold; text-align: right;\">Row</th><th style = \"text-align: left;\">grp</th><th style = \"text-align: left;\">x</th><th style = \"text-align: left;\">y</th><th style = \"text-align: left;\">z</th><th style = \"text-align: left;\">id</th></tr><tr class = \"subheader headerLastRow\"><th class = \"rowNumber\" style = \"font-weight: bold; text-align: right;\"></th><th title = \"Int64\" style = \"text-align: left;\">Int64</th><th title = \"Int64\" style = \"text-align: left;\">Int64</th><th title = \"Int64\" style = \"text-align: left;\">Int64</th><th title = \"Union{Missing, Int64}\" style = \"text-align: left;\">Int64?</th><th title = \"Char\" style = \"text-align: left;\">Char</th></tr></thead><tbody><tr><td class = \"rowNumber\" style = \"font-weight: bold; text-align: right;\">1</td><td style = \"text-align: right;\">1</td><td style = \"text-align: right;\">2</td><td style = \"text-align: right;\">4</td><td style = \"text-align: right;\">3</td><td style = \"text-align: left;\">a</td></tr><tr><td class = \"rowNumber\" style = \"font-weight: bold; text-align: right;\">2</td><td style = \"text-align: right;\">2</td><td style = \"text-align: right;\">2</td><td style = \"text-align: right;\">5</td><td style = \"text-align: right;\">4</td><td style = \"text-align: left;\">b</td></tr><tr><td class = \"rowNumber\" style = \"font-weight: bold; text-align: right;\">3</td><td style = \"text-align: right;\">1</td><td style = \"text-align: right;\">3</td><td style = \"text-align: right;\">6</td><td style = \"text-align: right;\">5</td><td style = \"text-align: left;\">c</td></tr><tr><td class = \"rowNumber\" style = \"font-weight: bold; text-align: right;\">4</td><td style = \"text-align: right;\">2</td><td style = \"text-align: right;\">3</td><td style = \"text-align: right;\">7</td><td style = \"text-align: right;\">6</td><td style = \"text-align: left;\">d</td></tr><tr><td class = \"rowNumber\" style = \"font-weight: bold; text-align: right;\">5</td><td style = \"text-align: right;\">1</td><td style = \"text-align: right;\">3</td><td style = \"text-align: right;\">8</td><td style = \"text-align: right;\">7</td><td style = \"text-align: left;\">e</td></tr><tr><td class = \"rowNumber\" style = \"font-weight: bold; text-align: right;\">6</td><td style = \"text-align: right;\">2</td><td style = \"text-align: right;\">1</td><td style = \"text-align: right;\">9</td><td style = \"font-style: italic; text-align: right;\">missing</td><td style = \"text-align: left;\">f</td></tr></tbody></table></div>"
      ],
      "text/latex": [
       "\\begin{tabular}{r|ccccc}\n",
       "\t& grp & x & y & z & id\\\\\n",
       "\t\\hline\n",
       "\t& Int64 & Int64 & Int64 & Int64? & Char\\\\\n",
       "\t\\hline\n",
       "\t1 & 1 & 2 & 4 & 3 & a \\\\\n",
       "\t2 & 2 & 2 & 5 & 4 & b \\\\\n",
       "\t3 & 1 & 3 & 6 & 5 & c \\\\\n",
       "\t4 & 2 & 3 & 7 & 6 & d \\\\\n",
       "\t5 & 1 & 3 & 8 & 7 & e \\\\\n",
       "\t6 & 2 & 1 & 9 & \\emph{missing} & f \\\\\n",
       "\\end{tabular}\n"
      ],
      "text/plain": [
       "\u001b[1m6×5 DataFrame\u001b[0m\n",
       "\u001b[1m Row \u001b[0m│\u001b[1m grp   \u001b[0m\u001b[1m x     \u001b[0m\u001b[1m y     \u001b[0m\u001b[1m z       \u001b[0m\u001b[1m id   \u001b[0m\n",
       "     │\u001b[90m Int64 \u001b[0m\u001b[90m Int64 \u001b[0m\u001b[90m Int64 \u001b[0m\u001b[90m Int64?  \u001b[0m\u001b[90m Char \u001b[0m\n",
       "─────┼────────────────────────────────────\n",
       "   1 │     1      2      4        3  a\n",
       "   2 │     2      2      5        4  b\n",
       "   3 │     1      3      6        5  c\n",
       "   4 │     2      3      7        6  d\n",
       "   5 │     1      3      8        7  e\n",
       "   6 │     2      1      9 \u001b[90m missing \u001b[0m f"
      ]
     },
     "metadata": {},
     "output_type": "display_data"
    }
   ],
   "source": [
    "df[:,:x] = rand([1,2,3,4],length(df.x))\n",
    "df"
   ]
  },
  {
   "cell_type": "markdown",
   "metadata": {
    "slideshow": {
     "slide_type": "slide"
    }
   },
   "source": [
    "### Common operations"
   ]
  },
  {
   "cell_type": "code",
   "execution_count": 28,
   "metadata": {
    "slideshow": {
     "slide_type": "subslide"
    }
   },
   "outputs": [
    {
     "data": {
      "text/html": [
       "<div><div style = \"float: left;\"><span>5×7 DataFrame</span></div><div style = \"clear: both;\"></div></div><div class = \"data-frame\" style = \"overflow-x: scroll;\"><table class = \"data-frame\" style = \"margin-bottom: 6px;\"><thead><tr class = \"header\"><th class = \"rowNumber\" style = \"font-weight: bold; text-align: right;\">Row</th><th style = \"text-align: left;\">variable</th><th style = \"text-align: left;\">mean</th><th style = \"text-align: left;\">min</th><th style = \"text-align: left;\">median</th><th style = \"text-align: left;\">max</th><th style = \"text-align: left;\">nmissing</th><th style = \"text-align: left;\">eltype</th></tr><tr class = \"subheader headerLastRow\"><th class = \"rowNumber\" style = \"font-weight: bold; text-align: right;\"></th><th title = \"Symbol\" style = \"text-align: left;\">Symbol</th><th title = \"Union{Nothing, Float64}\" style = \"text-align: left;\">Union…</th><th title = \"Any\" style = \"text-align: left;\">Any</th><th title = \"Union{Nothing, Float64}\" style = \"text-align: left;\">Union…</th><th title = \"Any\" style = \"text-align: left;\">Any</th><th title = \"Int64\" style = \"text-align: left;\">Int64</th><th title = \"Type\" style = \"text-align: left;\">Type</th></tr></thead><tbody><tr><td class = \"rowNumber\" style = \"font-weight: bold; text-align: right;\">1</td><td style = \"text-align: left;\">grp</td><td style = \"text-align: left;\">1.5</td><td style = \"text-align: left;\">1</td><td style = \"text-align: left;\">1.5</td><td style = \"text-align: left;\">2</td><td style = \"text-align: right;\">0</td><td style = \"text-align: left;\">Int64</td></tr><tr><td class = \"rowNumber\" style = \"font-weight: bold; text-align: right;\">2</td><td style = \"text-align: left;\">x</td><td style = \"text-align: left;\">2.16667</td><td style = \"text-align: left;\">1</td><td style = \"text-align: left;\">2.0</td><td style = \"text-align: left;\">4</td><td style = \"text-align: right;\">0</td><td style = \"text-align: left;\">Int64</td></tr><tr><td class = \"rowNumber\" style = \"font-weight: bold; text-align: right;\">3</td><td style = \"text-align: left;\">y</td><td style = \"text-align: left;\">6.5</td><td style = \"text-align: left;\">4</td><td style = \"text-align: left;\">6.5</td><td style = \"text-align: left;\">9</td><td style = \"text-align: right;\">0</td><td style = \"text-align: left;\">Int64</td></tr><tr><td class = \"rowNumber\" style = \"font-weight: bold; text-align: right;\">4</td><td style = \"text-align: left;\">z</td><td style = \"text-align: left;\">5.0</td><td style = \"text-align: left;\">3</td><td style = \"text-align: left;\">5.0</td><td style = \"text-align: left;\">7</td><td style = \"text-align: right;\">1</td><td style = \"text-align: left;\">Union{Missing, Int64}</td></tr><tr><td class = \"rowNumber\" style = \"font-weight: bold; text-align: right;\">5</td><td style = \"text-align: left;\">id</td><td style = \"font-style: italic; text-align: left;\"></td><td style = \"text-align: left;\">a</td><td style = \"font-style: italic; text-align: left;\"></td><td style = \"text-align: left;\">f</td><td style = \"text-align: right;\">0</td><td style = \"text-align: left;\">Char</td></tr></tbody></table></div>"
      ],
      "text/latex": [
       "\\begin{tabular}{r|ccccccc}\n",
       "\t& variable & mean & min & median & max & nmissing & eltype\\\\\n",
       "\t\\hline\n",
       "\t& Symbol & Union… & Any & Union… & Any & Int64 & Type\\\\\n",
       "\t\\hline\n",
       "\t1 & grp & 1.5 & 1 & 1.5 & 2 & 0 & Int64 \\\\\n",
       "\t2 & x & 2.16667 & 1 & 2.0 & 4 & 0 & Int64 \\\\\n",
       "\t3 & y & 6.5 & 4 & 6.5 & 9 & 0 & Int64 \\\\\n",
       "\t4 & z & 5.0 & 3 & 5.0 & 7 & 1 & Union\\{Missing, Int64\\} \\\\\n",
       "\t5 & id &  & a &  & f & 0 & Char \\\\\n",
       "\\end{tabular}\n"
      ],
      "text/plain": [
       "\u001b[1m5×7 DataFrame\u001b[0m\n",
       "\u001b[1m Row \u001b[0m│\u001b[1m variable \u001b[0m\u001b[1m mean    \u001b[0m\u001b[1m min \u001b[0m\u001b[1m median \u001b[0m\u001b[1m max \u001b[0m\u001b[1m nmissing \u001b[0m\u001b[1m eltype                \u001b[0m\n",
       "     │\u001b[90m Symbol   \u001b[0m\u001b[90m Union…  \u001b[0m\u001b[90m Any \u001b[0m\u001b[90m Union… \u001b[0m\u001b[90m Any \u001b[0m\u001b[90m Int64    \u001b[0m\u001b[90m Type                  \u001b[0m\n",
       "─────┼──────────────────────────────────────────────────────────────────────\n",
       "   1 │ grp       1.5      1    1.5     2           0  Int64\n",
       "   2 │ x         2.16667  1    2.0     4           0  Int64\n",
       "   3 │ y         6.5      4    6.5     9           0  Int64\n",
       "   4 │ z         5.0      3    5.0     7           1  Union{Missing, Int64}\n",
       "   5 │ id       \u001b[90m         \u001b[0m a   \u001b[90m        \u001b[0m f           0  Char"
      ]
     },
     "metadata": {},
     "output_type": "display_data"
    }
   ],
   "source": [
    "describe(df)"
   ]
  },
  {
   "cell_type": "markdown",
   "metadata": {
    "slideshow": {
     "slide_type": "subslide"
    }
   },
   "source": [
    "Reduce multiple values with `skipmissing` (returns memory efficient iterator)\n"
   ]
  },
  {
   "cell_type": "code",
   "execution_count": 29,
   "metadata": {
    "slideshow": {
     "slide_type": "fragment"
    }
   },
   "outputs": [
    {
     "data": {
      "text/plain": [
       "5.0"
      ]
     },
     "metadata": {},
     "output_type": "display_data"
    }
   ],
   "source": [
    "using Statistics\n",
    "mean(skipmissing(df.z))"
   ]
  },
  {
   "cell_type": "markdown",
   "metadata": {
    "slideshow": {
     "slide_type": "subslide"
    }
   },
   "source": [
    "Rename columns"
   ]
  },
  {
   "cell_type": "code",
   "execution_count": 30,
   "metadata": {
    "slideshow": {
     "slide_type": "fragment"
    }
   },
   "outputs": [
    {
     "data": {
      "text/html": [
       "<div><div style = \"float: left;\"><span>6×5 DataFrame</span></div><div style = \"clear: both;\"></div></div><div class = \"data-frame\" style = \"overflow-x: scroll;\"><table class = \"data-frame\" style = \"margin-bottom: 6px;\"><thead><tr class = \"header\"><th class = \"rowNumber\" style = \"font-weight: bold; text-align: right;\">Row</th><th style = \"text-align: left;\">grp</th><th style = \"text-align: left;\">x_new</th><th style = \"text-align: left;\">y</th><th style = \"text-align: left;\">z</th><th style = \"text-align: left;\">id</th></tr><tr class = \"subheader headerLastRow\"><th class = \"rowNumber\" style = \"font-weight: bold; text-align: right;\"></th><th title = \"Int64\" style = \"text-align: left;\">Int64</th><th title = \"Int64\" style = \"text-align: left;\">Int64</th><th title = \"Int64\" style = \"text-align: left;\">Int64</th><th title = \"Union{Missing, Int64}\" style = \"text-align: left;\">Int64?</th><th title = \"Char\" style = \"text-align: left;\">Char</th></tr></thead><tbody><tr><td class = \"rowNumber\" style = \"font-weight: bold; text-align: right;\">1</td><td style = \"text-align: right;\">1</td><td style = \"text-align: right;\">2</td><td style = \"text-align: right;\">4</td><td style = \"text-align: right;\">3</td><td style = \"text-align: left;\">a</td></tr><tr><td class = \"rowNumber\" style = \"font-weight: bold; text-align: right;\">2</td><td style = \"text-align: right;\">2</td><td style = \"text-align: right;\">1</td><td style = \"text-align: right;\">5</td><td style = \"text-align: right;\">4</td><td style = \"text-align: left;\">b</td></tr><tr><td class = \"rowNumber\" style = \"font-weight: bold; text-align: right;\">3</td><td style = \"text-align: right;\">1</td><td style = \"text-align: right;\">1</td><td style = \"text-align: right;\">6</td><td style = \"text-align: right;\">5</td><td style = \"text-align: left;\">c</td></tr><tr><td class = \"rowNumber\" style = \"font-weight: bold; text-align: right;\">4</td><td style = \"text-align: right;\">2</td><td style = \"text-align: right;\">2</td><td style = \"text-align: right;\">7</td><td style = \"text-align: right;\">6</td><td style = \"text-align: left;\">d</td></tr><tr><td class = \"rowNumber\" style = \"font-weight: bold; text-align: right;\">5</td><td style = \"text-align: right;\">1</td><td style = \"text-align: right;\">4</td><td style = \"text-align: right;\">8</td><td style = \"text-align: right;\">7</td><td style = \"text-align: left;\">e</td></tr><tr><td class = \"rowNumber\" style = \"font-weight: bold; text-align: right;\">6</td><td style = \"text-align: right;\">2</td><td style = \"text-align: right;\">3</td><td style = \"text-align: right;\">9</td><td style = \"font-style: italic; text-align: right;\">missing</td><td style = \"text-align: left;\">f</td></tr></tbody></table></div>"
      ],
      "text/latex": [
       "\\begin{tabular}{r|ccccc}\n",
       "\t& grp & x\\_new & y & z & id\\\\\n",
       "\t\\hline\n",
       "\t& Int64 & Int64 & Int64 & Int64? & Char\\\\\n",
       "\t\\hline\n",
       "\t1 & 1 & 2 & 4 & 3 & a \\\\\n",
       "\t2 & 2 & 1 & 5 & 4 & b \\\\\n",
       "\t3 & 1 & 1 & 6 & 5 & c \\\\\n",
       "\t4 & 2 & 2 & 7 & 6 & d \\\\\n",
       "\t5 & 1 & 4 & 8 & 7 & e \\\\\n",
       "\t6 & 2 & 3 & 9 & \\emph{missing} & f \\\\\n",
       "\\end{tabular}\n"
      ],
      "text/plain": [
       "\u001b[1m6×5 DataFrame\u001b[0m\n",
       "\u001b[1m Row \u001b[0m│\u001b[1m grp   \u001b[0m\u001b[1m x_new \u001b[0m\u001b[1m y     \u001b[0m\u001b[1m z       \u001b[0m\u001b[1m id   \u001b[0m\n",
       "     │\u001b[90m Int64 \u001b[0m\u001b[90m Int64 \u001b[0m\u001b[90m Int64 \u001b[0m\u001b[90m Int64?  \u001b[0m\u001b[90m Char \u001b[0m\n",
       "─────┼────────────────────────────────────\n",
       "   1 │     1      2      4        3  a\n",
       "   2 │     2      1      5        4  b\n",
       "   3 │     1      1      6        5  c\n",
       "   4 │     2      2      7        6  d\n",
       "   5 │     1      4      8        7  e\n",
       "   6 │     2      3      9 \u001b[90m missing \u001b[0m f"
      ]
     },
     "metadata": {},
     "output_type": "display_data"
    }
   ],
   "source": [
    "rename(df, :x => :x_new)"
   ]
  },
  {
   "cell_type": "markdown",
   "metadata": {
    "slideshow": {
     "slide_type": "subslide"
    }
   },
   "source": [
    "With the bang operator"
   ]
  },
  {
   "cell_type": "code",
   "execution_count": 31,
   "metadata": {
    "slideshow": {
     "slide_type": "fragment"
    }
   },
   "outputs": [
    {
     "data": {
      "text/html": [
       "<div><div style = \"float: left;\"><span>6×5 DataFrame</span></div><div style = \"clear: both;\"></div></div><div class = \"data-frame\" style = \"overflow-x: scroll;\"><table class = \"data-frame\" style = \"margin-bottom: 6px;\"><thead><tr class = \"header\"><th class = \"rowNumber\" style = \"font-weight: bold; text-align: right;\">Row</th><th style = \"text-align: left;\">grp</th><th style = \"text-align: left;\">x_new</th><th style = \"text-align: left;\">y</th><th style = \"text-align: left;\">z</th><th style = \"text-align: left;\">id</th></tr><tr class = \"subheader headerLastRow\"><th class = \"rowNumber\" style = \"font-weight: bold; text-align: right;\"></th><th title = \"Int64\" style = \"text-align: left;\">Int64</th><th title = \"Int64\" style = \"text-align: left;\">Int64</th><th title = \"Int64\" style = \"text-align: left;\">Int64</th><th title = \"Union{Missing, Int64}\" style = \"text-align: left;\">Int64?</th><th title = \"Char\" style = \"text-align: left;\">Char</th></tr></thead><tbody><tr><td class = \"rowNumber\" style = \"font-weight: bold; text-align: right;\">1</td><td style = \"text-align: right;\">1</td><td style = \"text-align: right;\">2</td><td style = \"text-align: right;\">4</td><td style = \"text-align: right;\">3</td><td style = \"text-align: left;\">a</td></tr><tr><td class = \"rowNumber\" style = \"font-weight: bold; text-align: right;\">2</td><td style = \"text-align: right;\">2</td><td style = \"text-align: right;\">1</td><td style = \"text-align: right;\">5</td><td style = \"text-align: right;\">4</td><td style = \"text-align: left;\">b</td></tr><tr><td class = \"rowNumber\" style = \"font-weight: bold; text-align: right;\">3</td><td style = \"text-align: right;\">1</td><td style = \"text-align: right;\">1</td><td style = \"text-align: right;\">6</td><td style = \"text-align: right;\">5</td><td style = \"text-align: left;\">c</td></tr><tr><td class = \"rowNumber\" style = \"font-weight: bold; text-align: right;\">4</td><td style = \"text-align: right;\">2</td><td style = \"text-align: right;\">2</td><td style = \"text-align: right;\">7</td><td style = \"text-align: right;\">6</td><td style = \"text-align: left;\">d</td></tr><tr><td class = \"rowNumber\" style = \"font-weight: bold; text-align: right;\">5</td><td style = \"text-align: right;\">1</td><td style = \"text-align: right;\">4</td><td style = \"text-align: right;\">8</td><td style = \"text-align: right;\">7</td><td style = \"text-align: left;\">e</td></tr><tr><td class = \"rowNumber\" style = \"font-weight: bold; text-align: right;\">6</td><td style = \"text-align: right;\">2</td><td style = \"text-align: right;\">3</td><td style = \"text-align: right;\">9</td><td style = \"font-style: italic; text-align: right;\">missing</td><td style = \"text-align: left;\">f</td></tr></tbody></table></div>"
      ],
      "text/latex": [
       "\\begin{tabular}{r|ccccc}\n",
       "\t& grp & x\\_new & y & z & id\\\\\n",
       "\t\\hline\n",
       "\t& Int64 & Int64 & Int64 & Int64? & Char\\\\\n",
       "\t\\hline\n",
       "\t1 & 1 & 2 & 4 & 3 & a \\\\\n",
       "\t2 & 2 & 1 & 5 & 4 & b \\\\\n",
       "\t3 & 1 & 1 & 6 & 5 & c \\\\\n",
       "\t4 & 2 & 2 & 7 & 6 & d \\\\\n",
       "\t5 & 1 & 4 & 8 & 7 & e \\\\\n",
       "\t6 & 2 & 3 & 9 & \\emph{missing} & f \\\\\n",
       "\\end{tabular}\n"
      ],
      "text/plain": [
       "\u001b[1m6×5 DataFrame\u001b[0m\n",
       "\u001b[1m Row \u001b[0m│\u001b[1m grp   \u001b[0m\u001b[1m x_new \u001b[0m\u001b[1m y     \u001b[0m\u001b[1m z       \u001b[0m\u001b[1m id   \u001b[0m\n",
       "     │\u001b[90m Int64 \u001b[0m\u001b[90m Int64 \u001b[0m\u001b[90m Int64 \u001b[0m\u001b[90m Int64?  \u001b[0m\u001b[90m Char \u001b[0m\n",
       "─────┼────────────────────────────────────\n",
       "   1 │     1      2      4        3  a\n",
       "   2 │     2      1      5        4  b\n",
       "   3 │     1      1      6        5  c\n",
       "   4 │     2      2      7        6  d\n",
       "   5 │     1      4      8        7  e\n",
       "   6 │     2      3      9 \u001b[90m missing \u001b[0m f"
      ]
     },
     "metadata": {},
     "output_type": "display_data"
    }
   ],
   "source": [
    "rename!(df, :x => :x_new)"
   ]
  },
  {
   "cell_type": "markdown",
   "metadata": {
    "slideshow": {
     "slide_type": "subslide"
    }
   },
   "source": [
    "Drop missing rows"
   ]
  },
  {
   "cell_type": "code",
   "execution_count": 32,
   "metadata": {
    "slideshow": {
     "slide_type": "fragment"
    }
   },
   "outputs": [
    {
     "data": {
      "text/html": [
       "<div><div style = \"float: left;\"><span>5×5 DataFrame</span></div><div style = \"clear: both;\"></div></div><div class = \"data-frame\" style = \"overflow-x: scroll;\"><table class = \"data-frame\" style = \"margin-bottom: 6px;\"><thead><tr class = \"header\"><th class = \"rowNumber\" style = \"font-weight: bold; text-align: right;\">Row</th><th style = \"text-align: left;\">grp</th><th style = \"text-align: left;\">x_new</th><th style = \"text-align: left;\">y</th><th style = \"text-align: left;\">z</th><th style = \"text-align: left;\">id</th></tr><tr class = \"subheader headerLastRow\"><th class = \"rowNumber\" style = \"font-weight: bold; text-align: right;\"></th><th title = \"Int64\" style = \"text-align: left;\">Int64</th><th title = \"Int64\" style = \"text-align: left;\">Int64</th><th title = \"Int64\" style = \"text-align: left;\">Int64</th><th title = \"Int64\" style = \"text-align: left;\">Int64</th><th title = \"Char\" style = \"text-align: left;\">Char</th></tr></thead><tbody><tr><td class = \"rowNumber\" style = \"font-weight: bold; text-align: right;\">1</td><td style = \"text-align: right;\">1</td><td style = \"text-align: right;\">2</td><td style = \"text-align: right;\">4</td><td style = \"text-align: right;\">3</td><td style = \"text-align: left;\">a</td></tr><tr><td class = \"rowNumber\" style = \"font-weight: bold; text-align: right;\">2</td><td style = \"text-align: right;\">2</td><td style = \"text-align: right;\">1</td><td style = \"text-align: right;\">5</td><td style = \"text-align: right;\">4</td><td style = \"text-align: left;\">b</td></tr><tr><td class = \"rowNumber\" style = \"font-weight: bold; text-align: right;\">3</td><td style = \"text-align: right;\">1</td><td style = \"text-align: right;\">1</td><td style = \"text-align: right;\">6</td><td style = \"text-align: right;\">5</td><td style = \"text-align: left;\">c</td></tr><tr><td class = \"rowNumber\" style = \"font-weight: bold; text-align: right;\">4</td><td style = \"text-align: right;\">2</td><td style = \"text-align: right;\">2</td><td style = \"text-align: right;\">7</td><td style = \"text-align: right;\">6</td><td style = \"text-align: left;\">d</td></tr><tr><td class = \"rowNumber\" style = \"font-weight: bold; text-align: right;\">5</td><td style = \"text-align: right;\">1</td><td style = \"text-align: right;\">4</td><td style = \"text-align: right;\">8</td><td style = \"text-align: right;\">7</td><td style = \"text-align: left;\">e</td></tr></tbody></table></div>"
      ],
      "text/latex": [
       "\\begin{tabular}{r|ccccc}\n",
       "\t& grp & x\\_new & y & z & id\\\\\n",
       "\t\\hline\n",
       "\t& Int64 & Int64 & Int64 & Int64 & Char\\\\\n",
       "\t\\hline\n",
       "\t1 & 1 & 2 & 4 & 3 & a \\\\\n",
       "\t2 & 2 & 1 & 5 & 4 & b \\\\\n",
       "\t3 & 1 & 1 & 6 & 5 & c \\\\\n",
       "\t4 & 2 & 2 & 7 & 6 & d \\\\\n",
       "\t5 & 1 & 4 & 8 & 7 & e \\\\\n",
       "\\end{tabular}\n"
      ],
      "text/plain": [
       "\u001b[1m5×5 DataFrame\u001b[0m\n",
       "\u001b[1m Row \u001b[0m│\u001b[1m grp   \u001b[0m\u001b[1m x_new \u001b[0m\u001b[1m y     \u001b[0m\u001b[1m z     \u001b[0m\u001b[1m id   \u001b[0m\n",
       "     │\u001b[90m Int64 \u001b[0m\u001b[90m Int64 \u001b[0m\u001b[90m Int64 \u001b[0m\u001b[90m Int64 \u001b[0m\u001b[90m Char \u001b[0m\n",
       "─────┼──────────────────────────────────\n",
       "   1 │     1      2      4      3  a\n",
       "   2 │     2      1      5      4  b\n",
       "   3 │     1      1      6      5  c\n",
       "   4 │     2      2      7      6  d\n",
       "   5 │     1      4      8      7  e"
      ]
     },
     "metadata": {},
     "output_type": "display_data"
    }
   ],
   "source": [
    "dropmissing(df)"
   ]
  },
  {
   "cell_type": "markdown",
   "metadata": {
    "slideshow": {
     "slide_type": "subslide"
    }
   },
   "source": [
    "Select unique rows"
   ]
  },
  {
   "cell_type": "code",
   "execution_count": 33,
   "metadata": {
    "slideshow": {
     "slide_type": "fragment"
    }
   },
   "outputs": [
    {
     "data": {
      "text/html": [
       "<div><div style = \"float: left;\"><span>6×5 DataFrame</span></div><div style = \"clear: both;\"></div></div><div class = \"data-frame\" style = \"overflow-x: scroll;\"><table class = \"data-frame\" style = \"margin-bottom: 6px;\"><thead><tr class = \"header\"><th class = \"rowNumber\" style = \"font-weight: bold; text-align: right;\">Row</th><th style = \"text-align: left;\">grp</th><th style = \"text-align: left;\">x_new</th><th style = \"text-align: left;\">y</th><th style = \"text-align: left;\">z</th><th style = \"text-align: left;\">id</th></tr><tr class = \"subheader headerLastRow\"><th class = \"rowNumber\" style = \"font-weight: bold; text-align: right;\"></th><th title = \"Int64\" style = \"text-align: left;\">Int64</th><th title = \"Int64\" style = \"text-align: left;\">Int64</th><th title = \"Int64\" style = \"text-align: left;\">Int64</th><th title = \"Union{Missing, Int64}\" style = \"text-align: left;\">Int64?</th><th title = \"Char\" style = \"text-align: left;\">Char</th></tr></thead><tbody><tr><td class = \"rowNumber\" style = \"font-weight: bold; text-align: right;\">1</td><td style = \"text-align: right;\">1</td><td style = \"text-align: right;\">2</td><td style = \"text-align: right;\">4</td><td style = \"text-align: right;\">3</td><td style = \"text-align: left;\">a</td></tr><tr><td class = \"rowNumber\" style = \"font-weight: bold; text-align: right;\">2</td><td style = \"text-align: right;\">2</td><td style = \"text-align: right;\">1</td><td style = \"text-align: right;\">5</td><td style = \"text-align: right;\">4</td><td style = \"text-align: left;\">b</td></tr><tr><td class = \"rowNumber\" style = \"font-weight: bold; text-align: right;\">3</td><td style = \"text-align: right;\">1</td><td style = \"text-align: right;\">1</td><td style = \"text-align: right;\">6</td><td style = \"text-align: right;\">5</td><td style = \"text-align: left;\">c</td></tr><tr><td class = \"rowNumber\" style = \"font-weight: bold; text-align: right;\">4</td><td style = \"text-align: right;\">2</td><td style = \"text-align: right;\">2</td><td style = \"text-align: right;\">7</td><td style = \"text-align: right;\">6</td><td style = \"text-align: left;\">d</td></tr><tr><td class = \"rowNumber\" style = \"font-weight: bold; text-align: right;\">5</td><td style = \"text-align: right;\">1</td><td style = \"text-align: right;\">4</td><td style = \"text-align: right;\">8</td><td style = \"text-align: right;\">7</td><td style = \"text-align: left;\">e</td></tr><tr><td class = \"rowNumber\" style = \"font-weight: bold; text-align: right;\">6</td><td style = \"text-align: right;\">2</td><td style = \"text-align: right;\">3</td><td style = \"text-align: right;\">9</td><td style = \"font-style: italic; text-align: right;\">missing</td><td style = \"text-align: left;\">f</td></tr></tbody></table></div>"
      ],
      "text/latex": [
       "\\begin{tabular}{r|ccccc}\n",
       "\t& grp & x\\_new & y & z & id\\\\\n",
       "\t\\hline\n",
       "\t& Int64 & Int64 & Int64 & Int64? & Char\\\\\n",
       "\t\\hline\n",
       "\t1 & 1 & 2 & 4 & 3 & a \\\\\n",
       "\t2 & 2 & 1 & 5 & 4 & b \\\\\n",
       "\t3 & 1 & 1 & 6 & 5 & c \\\\\n",
       "\t4 & 2 & 2 & 7 & 6 & d \\\\\n",
       "\t5 & 1 & 4 & 8 & 7 & e \\\\\n",
       "\t6 & 2 & 3 & 9 & \\emph{missing} & f \\\\\n",
       "\\end{tabular}\n"
      ],
      "text/plain": [
       "\u001b[1m6×5 DataFrame\u001b[0m\n",
       "\u001b[1m Row \u001b[0m│\u001b[1m grp   \u001b[0m\u001b[1m x_new \u001b[0m\u001b[1m y     \u001b[0m\u001b[1m z       \u001b[0m\u001b[1m id   \u001b[0m\n",
       "     │\u001b[90m Int64 \u001b[0m\u001b[90m Int64 \u001b[0m\u001b[90m Int64 \u001b[0m\u001b[90m Int64?  \u001b[0m\u001b[90m Char \u001b[0m\n",
       "─────┼────────────────────────────────────\n",
       "   1 │     1      2      4        3  a\n",
       "   2 │     2      1      5        4  b\n",
       "   3 │     1      1      6        5  c\n",
       "   4 │     2      2      7        6  d\n",
       "   5 │     1      4      8        7  e\n",
       "   6 │     2      3      9 \u001b[90m missing \u001b[0m f"
      ]
     },
     "metadata": {},
     "output_type": "display_data"
    }
   ],
   "source": [
    "unique(df)"
   ]
  },
  {
   "cell_type": "markdown",
   "metadata": {
    "slideshow": {
     "slide_type": "slide"
    }
   },
   "source": [
    "### Grouping data and aggregation\n",
    "DataFrames.jl provides a groupby function to apply operations over each group independently."
   ]
  },
  {
   "cell_type": "code",
   "execution_count": 34,
   "metadata": {
    "slideshow": {
     "slide_type": "subslide"
    }
   },
   "outputs": [
    {
     "data": {
      "text/html": [
       "<p><b>GroupedDataFrame with 2 groups based on key: grp</b></p><div><div style = \"float: left;\"><span>First Group (3 rows): grp = 1</span></div><div style = \"clear: both;\"></div></div><div class = \"data-frame\" style = \"overflow-x: scroll;\"><table class = \"data-frame\" style = \"margin-bottom: 6px;\"><thead><tr class = \"header\"><th class = \"rowNumber\" style = \"font-weight: bold; text-align: right;\">Row</th><th style = \"text-align: left;\">grp</th><th style = \"text-align: left;\">x_new</th><th style = \"text-align: left;\">y</th><th style = \"text-align: left;\">z</th><th style = \"text-align: left;\">id</th></tr><tr class = \"subheader headerLastRow\"><th class = \"rowNumber\" style = \"font-weight: bold; text-align: right;\"></th><th title = \"Int64\" style = \"text-align: left;\">Int64</th><th title = \"Int64\" style = \"text-align: left;\">Int64</th><th title = \"Int64\" style = \"text-align: left;\">Int64</th><th title = \"Union{Missing, Int64}\" style = \"text-align: left;\">Int64?</th><th title = \"Char\" style = \"text-align: left;\">Char</th></tr></thead><tbody><tr><td class = \"rowNumber\" style = \"font-weight: bold; text-align: right;\">1</td><td style = \"text-align: right;\">1</td><td style = \"text-align: right;\">2</td><td style = \"text-align: right;\">4</td><td style = \"text-align: right;\">3</td><td style = \"text-align: left;\">a</td></tr><tr><td class = \"rowNumber\" style = \"font-weight: bold; text-align: right;\">2</td><td style = \"text-align: right;\">1</td><td style = \"text-align: right;\">1</td><td style = \"text-align: right;\">6</td><td style = \"text-align: right;\">5</td><td style = \"text-align: left;\">c</td></tr><tr><td class = \"rowNumber\" style = \"font-weight: bold; text-align: right;\">3</td><td style = \"text-align: right;\">1</td><td style = \"text-align: right;\">4</td><td style = \"text-align: right;\">8</td><td style = \"text-align: right;\">7</td><td style = \"text-align: left;\">e</td></tr></tbody></table></div><p>&vellip;</p><div><div style = \"float: left;\"><span>Last Group (3 rows): grp = 2</span></div><div style = \"clear: both;\"></div></div><div class = \"data-frame\" style = \"overflow-x: scroll;\"><table class = \"data-frame\" style = \"margin-bottom: 6px;\"><thead><tr class = \"header\"><th class = \"rowNumber\" style = \"font-weight: bold; text-align: right;\">Row</th><th style = \"text-align: left;\">grp</th><th style = \"text-align: left;\">x_new</th><th style = \"text-align: left;\">y</th><th style = \"text-align: left;\">z</th><th style = \"text-align: left;\">id</th></tr><tr class = \"subheader headerLastRow\"><th class = \"rowNumber\" style = \"font-weight: bold; text-align: right;\"></th><th title = \"Int64\" style = \"text-align: left;\">Int64</th><th title = \"Int64\" style = \"text-align: left;\">Int64</th><th title = \"Int64\" style = \"text-align: left;\">Int64</th><th title = \"Union{Missing, Int64}\" style = \"text-align: left;\">Int64?</th><th title = \"Char\" style = \"text-align: left;\">Char</th></tr></thead><tbody><tr><td class = \"rowNumber\" style = \"font-weight: bold; text-align: right;\">1</td><td style = \"text-align: right;\">2</td><td style = \"text-align: right;\">1</td><td style = \"text-align: right;\">5</td><td style = \"text-align: right;\">4</td><td style = \"text-align: left;\">b</td></tr><tr><td class = \"rowNumber\" style = \"font-weight: bold; text-align: right;\">2</td><td style = \"text-align: right;\">2</td><td style = \"text-align: right;\">2</td><td style = \"text-align: right;\">7</td><td style = \"text-align: right;\">6</td><td style = \"text-align: left;\">d</td></tr><tr><td class = \"rowNumber\" style = \"font-weight: bold; text-align: right;\">3</td><td style = \"text-align: right;\">2</td><td style = \"text-align: right;\">3</td><td style = \"text-align: right;\">9</td><td style = \"font-style: italic; text-align: right;\">missing</td><td style = \"text-align: left;\">f</td></tr></tbody></table></div>"
      ],
      "text/latex": [
       "GroupedDataFrame with 2 groups based on key: grp\n",
       "\n",
       "First Group (3 rows): grp = 1\n",
       "\n",
       "\\begin{tabular}{r|ccccc}\n",
       "\t& grp & x\\_new & y & z & id\\\\\n",
       "\t\\hline\n",
       "\t& Int64 & Int64 & Int64 & Int64? & Char\\\\\n",
       "\t\\hline\n",
       "\t1 & 1 & 2 & 4 & 3 & a \\\\\n",
       "\t2 & 1 & 1 & 6 & 5 & c \\\\\n",
       "\t3 & 1 & 4 & 8 & 7 & e \\\\\n",
       "\\end{tabular}\n",
       "\n",
       "$\\dots$\n",
       "\n",
       "Last Group (3 rows): grp = 2\n",
       "\n",
       "\\begin{tabular}{r|ccccc}\n",
       "\t& grp & x\\_new & y & z & id\\\\\n",
       "\t\\hline\n",
       "\t& Int64 & Int64 & Int64 & Int64? & Char\\\\\n",
       "\t\\hline\n",
       "\t1 & 2 & 1 & 5 & 4 & b \\\\\n",
       "\t2 & 2 & 2 & 7 & 6 & d \\\\\n",
       "\t3 & 2 & 3 & 9 & \\emph{missing} & f \\\\\n",
       "\\end{tabular}\n"
      ],
      "text/plain": [
       "GroupedDataFrame with 2 groups based on key: grp\n",
       "First Group (3 rows): grp = 1\n",
       "\u001b[1m Row \u001b[0m│\u001b[1m grp   \u001b[0m\u001b[1m x_new \u001b[0m\u001b[1m y     \u001b[0m\u001b[1m z      \u001b[0m\u001b[1m id   \u001b[0m\n",
       "     │\u001b[90m Int64 \u001b[0m\u001b[90m Int64 \u001b[0m\u001b[90m Int64 \u001b[0m\u001b[90m Int64? \u001b[0m\u001b[90m Char \u001b[0m\n",
       "─────┼───────────────────────────────────\n",
       "   1 │     1      2      4       3  a\n",
       "   2 │     1      1      6       5  c\n",
       "   3 │     1      4      8       7  e\n",
       "⋮\n",
       "Last Group (3 rows): grp = 2\n",
       "\u001b[1m Row \u001b[0m│\u001b[1m grp   \u001b[0m\u001b[1m x_new \u001b[0m\u001b[1m y     \u001b[0m\u001b[1m z       \u001b[0m\u001b[1m id   \u001b[0m\n",
       "     │\u001b[90m Int64 \u001b[0m\u001b[90m Int64 \u001b[0m\u001b[90m Int64 \u001b[0m\u001b[90m Int64?  \u001b[0m\u001b[90m Char \u001b[0m\n",
       "─────┼────────────────────────────────────\n",
       "   1 │     2      1      5        4  b\n",
       "   2 │     2      2      7        6  d\n",
       "   3 │     2      3      9 \u001b[90m missing \u001b[0m f"
      ]
     },
     "metadata": {},
     "output_type": "display_data"
    }
   ],
   "source": [
    "dfg = groupby(df, :grp)"
   ]
  },
  {
   "cell_type": "code",
   "execution_count": 35,
   "metadata": {
    "slideshow": {
     "slide_type": "subslide"
    }
   },
   "outputs": [
    {
     "data": {
      "text/html": [
       "<div><div style = \"float: left;\"><span>3×5 SubDataFrame</span></div><div style = \"clear: both;\"></div></div><div class = \"data-frame\" style = \"overflow-x: scroll;\"><table class = \"data-frame\" style = \"margin-bottom: 6px;\"><thead><tr class = \"header\"><th class = \"rowNumber\" style = \"font-weight: bold; text-align: right;\">Row</th><th style = \"text-align: left;\">grp</th><th style = \"text-align: left;\">x_new</th><th style = \"text-align: left;\">y</th><th style = \"text-align: left;\">z</th><th style = \"text-align: left;\">id</th></tr><tr class = \"subheader headerLastRow\"><th class = \"rowNumber\" style = \"font-weight: bold; text-align: right;\"></th><th title = \"Int64\" style = \"text-align: left;\">Int64</th><th title = \"Int64\" style = \"text-align: left;\">Int64</th><th title = \"Int64\" style = \"text-align: left;\">Int64</th><th title = \"Union{Missing, Int64}\" style = \"text-align: left;\">Int64?</th><th title = \"Char\" style = \"text-align: left;\">Char</th></tr></thead><tbody><tr><td class = \"rowNumber\" style = \"font-weight: bold; text-align: right;\">1</td><td style = \"text-align: right;\">1</td><td style = \"text-align: right;\">2</td><td style = \"text-align: right;\">4</td><td style = \"text-align: right;\">3</td><td style = \"text-align: left;\">a</td></tr><tr><td class = \"rowNumber\" style = \"font-weight: bold; text-align: right;\">2</td><td style = \"text-align: right;\">1</td><td style = \"text-align: right;\">1</td><td style = \"text-align: right;\">6</td><td style = \"text-align: right;\">5</td><td style = \"text-align: left;\">c</td></tr><tr><td class = \"rowNumber\" style = \"font-weight: bold; text-align: right;\">3</td><td style = \"text-align: right;\">1</td><td style = \"text-align: right;\">4</td><td style = \"text-align: right;\">8</td><td style = \"text-align: right;\">7</td><td style = \"text-align: left;\">e</td></tr></tbody></table></div>"
      ],
      "text/latex": [
       "\\begin{tabular}{r|ccccc}\n",
       "\t& grp & x\\_new & y & z & id\\\\\n",
       "\t\\hline\n",
       "\t& Int64 & Int64 & Int64 & Int64? & Char\\\\\n",
       "\t\\hline\n",
       "\t1 & 1 & 2 & 4 & 3 & a \\\\\n",
       "\t2 & 1 & 1 & 6 & 5 & c \\\\\n",
       "\t3 & 1 & 4 & 8 & 7 & e \\\\\n",
       "\\end{tabular}\n"
      ],
      "text/plain": [
       "\u001b[1m3×5 SubDataFrame\u001b[0m\n",
       "\u001b[1m Row \u001b[0m│\u001b[1m grp   \u001b[0m\u001b[1m x_new \u001b[0m\u001b[1m y     \u001b[0m\u001b[1m z      \u001b[0m\u001b[1m id   \u001b[0m\n",
       "     │\u001b[90m Int64 \u001b[0m\u001b[90m Int64 \u001b[0m\u001b[90m Int64 \u001b[0m\u001b[90m Int64? \u001b[0m\u001b[90m Char \u001b[0m\n",
       "─────┼───────────────────────────────────\n",
       "   1 │     1      2      4       3  a\n",
       "   2 │     1      1      6       5  c\n",
       "   3 │     1      4      8       7  e"
      ]
     },
     "metadata": {},
     "output_type": "display_data"
    }
   ],
   "source": [
    "dfg[1]"
   ]
  },
  {
   "cell_type": "markdown",
   "metadata": {
    "slideshow": {
     "slide_type": "subslide"
    }
   },
   "source": [
    "Aggregate by groups"
   ]
  },
  {
   "cell_type": "code",
   "execution_count": 36,
   "metadata": {
    "slideshow": {
     "slide_type": "subslide"
    }
   },
   "outputs": [
    {
     "data": {
      "text/html": [
       "<div><div style = \"float: left;\"><span>2×2 DataFrame</span></div><div style = \"clear: both;\"></div></div><div class = \"data-frame\" style = \"overflow-x: scroll;\"><table class = \"data-frame\" style = \"margin-bottom: 6px;\"><thead><tr class = \"header\"><th class = \"rowNumber\" style = \"font-weight: bold; text-align: right;\">Row</th><th style = \"text-align: left;\">grp</th><th style = \"text-align: left;\">y_mean</th></tr><tr class = \"subheader headerLastRow\"><th class = \"rowNumber\" style = \"font-weight: bold; text-align: right;\"></th><th title = \"Int64\" style = \"text-align: left;\">Int64</th><th title = \"Float64\" style = \"text-align: left;\">Float64</th></tr></thead><tbody><tr><td class = \"rowNumber\" style = \"font-weight: bold; text-align: right;\">1</td><td style = \"text-align: right;\">1</td><td style = \"text-align: right;\">6.0</td></tr><tr><td class = \"rowNumber\" style = \"font-weight: bold; text-align: right;\">2</td><td style = \"text-align: right;\">2</td><td style = \"text-align: right;\">7.0</td></tr></tbody></table></div>"
      ],
      "text/latex": [
       "\\begin{tabular}{r|cc}\n",
       "\t& grp & y\\_mean\\\\\n",
       "\t\\hline\n",
       "\t& Int64 & Float64\\\\\n",
       "\t\\hline\n",
       "\t1 & 1 & 6.0 \\\\\n",
       "\t2 & 2 & 7.0 \\\\\n",
       "\\end{tabular}\n"
      ],
      "text/plain": [
       "\u001b[1m2×2 DataFrame\u001b[0m\n",
       "\u001b[1m Row \u001b[0m│\u001b[1m grp   \u001b[0m\u001b[1m y_mean  \u001b[0m\n",
       "     │\u001b[90m Int64 \u001b[0m\u001b[90m Float64 \u001b[0m\n",
       "─────┼────────────────\n",
       "   1 │     1      6.0\n",
       "   2 │     2      7.0"
      ]
     },
     "metadata": {},
     "output_type": "display_data"
    }
   ],
   "source": [
    "combine(groupby(df, :grp), :y => mean)"
   ]
  },
  {
   "cell_type": "markdown",
   "metadata": {
    "slideshow": {
     "slide_type": "slide"
    }
   },
   "source": [
    "### Reading a CSV file\n",
    "\n",
    "To read a parse a CSV and pipe it in a DataFrame, you'll need to install the [`CSV.jl`](https://github.com/JuliaData/CSV.jl) package. CSV.jl is *a fast, flexible delimited file reader/writer for Julia.*"
   ]
  },
  {
   "cell_type": "code",
   "execution_count": 48,
   "metadata": {
    "slideshow": {
     "slide_type": "skip"
    }
   },
   "outputs": [
    {
     "data": {
      "text/plain": [
       "\"housing.csv\""
      ]
     },
     "metadata": {},
     "output_type": "display_data"
    }
   ],
   "source": [
    "isfile(\"housing.csv\") ||\n",
    "download(\"https://raw.githubusercontent.com/selva86/datasets/master/BostonHousing.csv\",\n",
    "    \"housing.csv\")"
   ]
  },
  {
   "cell_type": "code",
   "execution_count": 49,
   "metadata": {
    "slideshow": {
     "slide_type": "subslide"
    }
   },
   "outputs": [
    {
     "data": {
      "text/html": [
       "<div><div style = \"float: left;\"><span>506×14 DataFrame</span></div><div style = \"float: right;\"><span style = \"font-style: italic;\">481 rows omitted</span></div><div style = \"clear: both;\"></div></div><div class = \"data-frame\" style = \"overflow-x: scroll;\"><table class = \"data-frame\" style = \"margin-bottom: 6px;\"><thead><tr class = \"header\"><th class = \"rowNumber\" style = \"font-weight: bold; text-align: right;\">Row</th><th style = \"text-align: left;\">crim</th><th style = \"text-align: left;\">zn</th><th style = \"text-align: left;\">indus</th><th style = \"text-align: left;\">chas</th><th style = \"text-align: left;\">nox</th><th style = \"text-align: left;\">rm</th><th style = \"text-align: left;\">age</th><th style = \"text-align: left;\">dis</th><th style = \"text-align: left;\">rad</th><th style = \"text-align: left;\">tax</th><th style = \"text-align: left;\">ptratio</th><th style = \"text-align: left;\">b</th><th style = \"text-align: left;\">lstat</th><th style = \"text-align: left;\">medv</th></tr><tr class = \"subheader headerLastRow\"><th class = \"rowNumber\" style = \"font-weight: bold; text-align: right;\"></th><th title = \"Float64\" style = \"text-align: left;\">Float64</th><th title = \"Float64\" style = \"text-align: left;\">Float64</th><th title = \"Float64\" style = \"text-align: left;\">Float64</th><th title = \"Int64\" style = \"text-align: left;\">Int64</th><th title = \"Float64\" style = \"text-align: left;\">Float64</th><th title = \"Float64\" style = \"text-align: left;\">Float64</th><th title = \"Float64\" style = \"text-align: left;\">Float64</th><th title = \"Float64\" style = \"text-align: left;\">Float64</th><th title = \"Int64\" style = \"text-align: left;\">Int64</th><th title = \"Int64\" style = \"text-align: left;\">Int64</th><th title = \"Float64\" style = \"text-align: left;\">Float64</th><th title = \"Float64\" style = \"text-align: left;\">Float64</th><th title = \"Float64\" style = \"text-align: left;\">Float64</th><th title = \"Float64\" style = \"text-align: left;\">Float64</th></tr></thead><tbody><tr><td class = \"rowNumber\" style = \"font-weight: bold; text-align: right;\">1</td><td style = \"text-align: right;\">0.00632</td><td style = \"text-align: right;\">18.0</td><td style = \"text-align: right;\">2.31</td><td style = \"text-align: right;\">0</td><td style = \"text-align: right;\">0.538</td><td style = \"text-align: right;\">6.575</td><td style = \"text-align: right;\">65.2</td><td style = \"text-align: right;\">4.09</td><td style = \"text-align: right;\">1</td><td style = \"text-align: right;\">296</td><td style = \"text-align: right;\">15.3</td><td style = \"text-align: right;\">396.9</td><td style = \"text-align: right;\">4.98</td><td style = \"text-align: right;\">24.0</td></tr><tr><td class = \"rowNumber\" style = \"font-weight: bold; text-align: right;\">2</td><td style = \"text-align: right;\">0.02731</td><td style = \"text-align: right;\">0.0</td><td style = \"text-align: right;\">7.07</td><td style = \"text-align: right;\">0</td><td style = \"text-align: right;\">0.469</td><td style = \"text-align: right;\">6.421</td><td style = \"text-align: right;\">78.9</td><td style = \"text-align: right;\">4.9671</td><td style = \"text-align: right;\">2</td><td style = \"text-align: right;\">242</td><td style = \"text-align: right;\">17.8</td><td style = \"text-align: right;\">396.9</td><td style = \"text-align: right;\">9.14</td><td style = \"text-align: right;\">21.6</td></tr><tr><td class = \"rowNumber\" style = \"font-weight: bold; text-align: right;\">3</td><td style = \"text-align: right;\">0.02729</td><td style = \"text-align: right;\">0.0</td><td style = \"text-align: right;\">7.07</td><td style = \"text-align: right;\">0</td><td style = \"text-align: right;\">0.469</td><td style = \"text-align: right;\">7.185</td><td style = \"text-align: right;\">61.1</td><td style = \"text-align: right;\">4.9671</td><td style = \"text-align: right;\">2</td><td style = \"text-align: right;\">242</td><td style = \"text-align: right;\">17.8</td><td style = \"text-align: right;\">392.83</td><td style = \"text-align: right;\">4.03</td><td style = \"text-align: right;\">34.7</td></tr><tr><td class = \"rowNumber\" style = \"font-weight: bold; text-align: right;\">4</td><td style = \"text-align: right;\">0.03237</td><td style = \"text-align: right;\">0.0</td><td style = \"text-align: right;\">2.18</td><td style = \"text-align: right;\">0</td><td style = \"text-align: right;\">0.458</td><td style = \"text-align: right;\">6.998</td><td style = \"text-align: right;\">45.8</td><td style = \"text-align: right;\">6.0622</td><td style = \"text-align: right;\">3</td><td style = \"text-align: right;\">222</td><td style = \"text-align: right;\">18.7</td><td style = \"text-align: right;\">394.63</td><td style = \"text-align: right;\">2.94</td><td style = \"text-align: right;\">33.4</td></tr><tr><td class = \"rowNumber\" style = \"font-weight: bold; text-align: right;\">5</td><td style = \"text-align: right;\">0.06905</td><td style = \"text-align: right;\">0.0</td><td style = \"text-align: right;\">2.18</td><td style = \"text-align: right;\">0</td><td style = \"text-align: right;\">0.458</td><td style = \"text-align: right;\">7.147</td><td style = \"text-align: right;\">54.2</td><td style = \"text-align: right;\">6.0622</td><td style = \"text-align: right;\">3</td><td style = \"text-align: right;\">222</td><td style = \"text-align: right;\">18.7</td><td style = \"text-align: right;\">396.9</td><td style = \"text-align: right;\">5.33</td><td style = \"text-align: right;\">36.2</td></tr><tr><td class = \"rowNumber\" style = \"font-weight: bold; text-align: right;\">6</td><td style = \"text-align: right;\">0.02985</td><td style = \"text-align: right;\">0.0</td><td style = \"text-align: right;\">2.18</td><td style = \"text-align: right;\">0</td><td style = \"text-align: right;\">0.458</td><td style = \"text-align: right;\">6.43</td><td style = \"text-align: right;\">58.7</td><td style = \"text-align: right;\">6.0622</td><td style = \"text-align: right;\">3</td><td style = \"text-align: right;\">222</td><td style = \"text-align: right;\">18.7</td><td style = \"text-align: right;\">394.12</td><td style = \"text-align: right;\">5.21</td><td style = \"text-align: right;\">28.7</td></tr><tr><td class = \"rowNumber\" style = \"font-weight: bold; text-align: right;\">7</td><td style = \"text-align: right;\">0.08829</td><td style = \"text-align: right;\">12.5</td><td style = \"text-align: right;\">7.87</td><td style = \"text-align: right;\">0</td><td style = \"text-align: right;\">0.524</td><td style = \"text-align: right;\">6.012</td><td style = \"text-align: right;\">66.6</td><td style = \"text-align: right;\">5.5605</td><td style = \"text-align: right;\">5</td><td style = \"text-align: right;\">311</td><td style = \"text-align: right;\">15.2</td><td style = \"text-align: right;\">395.6</td><td style = \"text-align: right;\">12.43</td><td style = \"text-align: right;\">22.9</td></tr><tr><td class = \"rowNumber\" style = \"font-weight: bold; text-align: right;\">8</td><td style = \"text-align: right;\">0.14455</td><td style = \"text-align: right;\">12.5</td><td style = \"text-align: right;\">7.87</td><td style = \"text-align: right;\">0</td><td style = \"text-align: right;\">0.524</td><td style = \"text-align: right;\">6.172</td><td style = \"text-align: right;\">96.1</td><td style = \"text-align: right;\">5.9505</td><td style = \"text-align: right;\">5</td><td style = \"text-align: right;\">311</td><td style = \"text-align: right;\">15.2</td><td style = \"text-align: right;\">396.9</td><td style = \"text-align: right;\">19.15</td><td style = \"text-align: right;\">27.1</td></tr><tr><td class = \"rowNumber\" style = \"font-weight: bold; text-align: right;\">9</td><td style = \"text-align: right;\">0.21124</td><td style = \"text-align: right;\">12.5</td><td style = \"text-align: right;\">7.87</td><td style = \"text-align: right;\">0</td><td style = \"text-align: right;\">0.524</td><td style = \"text-align: right;\">5.631</td><td style = \"text-align: right;\">100.0</td><td style = \"text-align: right;\">6.0821</td><td style = \"text-align: right;\">5</td><td style = \"text-align: right;\">311</td><td style = \"text-align: right;\">15.2</td><td style = \"text-align: right;\">386.63</td><td style = \"text-align: right;\">29.93</td><td style = \"text-align: right;\">16.5</td></tr><tr><td class = \"rowNumber\" style = \"font-weight: bold; text-align: right;\">10</td><td style = \"text-align: right;\">0.17004</td><td style = \"text-align: right;\">12.5</td><td style = \"text-align: right;\">7.87</td><td style = \"text-align: right;\">0</td><td style = \"text-align: right;\">0.524</td><td style = \"text-align: right;\">6.004</td><td style = \"text-align: right;\">85.9</td><td style = \"text-align: right;\">6.5921</td><td style = \"text-align: right;\">5</td><td style = \"text-align: right;\">311</td><td style = \"text-align: right;\">15.2</td><td style = \"text-align: right;\">386.71</td><td style = \"text-align: right;\">17.1</td><td style = \"text-align: right;\">18.9</td></tr><tr><td class = \"rowNumber\" style = \"font-weight: bold; text-align: right;\">11</td><td style = \"text-align: right;\">0.22489</td><td style = \"text-align: right;\">12.5</td><td style = \"text-align: right;\">7.87</td><td style = \"text-align: right;\">0</td><td style = \"text-align: right;\">0.524</td><td style = \"text-align: right;\">6.377</td><td style = \"text-align: right;\">94.3</td><td style = \"text-align: right;\">6.3467</td><td style = \"text-align: right;\">5</td><td style = \"text-align: right;\">311</td><td style = \"text-align: right;\">15.2</td><td style = \"text-align: right;\">392.52</td><td style = \"text-align: right;\">20.45</td><td style = \"text-align: right;\">15.0</td></tr><tr><td class = \"rowNumber\" style = \"font-weight: bold; text-align: right;\">12</td><td style = \"text-align: right;\">0.11747</td><td style = \"text-align: right;\">12.5</td><td style = \"text-align: right;\">7.87</td><td style = \"text-align: right;\">0</td><td style = \"text-align: right;\">0.524</td><td style = \"text-align: right;\">6.009</td><td style = \"text-align: right;\">82.9</td><td style = \"text-align: right;\">6.2267</td><td style = \"text-align: right;\">5</td><td style = \"text-align: right;\">311</td><td style = \"text-align: right;\">15.2</td><td style = \"text-align: right;\">396.9</td><td style = \"text-align: right;\">13.27</td><td style = \"text-align: right;\">18.9</td></tr><tr><td class = \"rowNumber\" style = \"font-weight: bold; text-align: right;\">13</td><td style = \"text-align: right;\">0.09378</td><td style = \"text-align: right;\">12.5</td><td style = \"text-align: right;\">7.87</td><td style = \"text-align: right;\">0</td><td style = \"text-align: right;\">0.524</td><td style = \"text-align: right;\">5.889</td><td style = \"text-align: right;\">39.0</td><td style = \"text-align: right;\">5.4509</td><td style = \"text-align: right;\">5</td><td style = \"text-align: right;\">311</td><td style = \"text-align: right;\">15.2</td><td style = \"text-align: right;\">390.5</td><td style = \"text-align: right;\">15.71</td><td style = \"text-align: right;\">21.7</td></tr><tr><td style = \"text-align: right;\">&vellip;</td><td style = \"text-align: right;\">&vellip;</td><td style = \"text-align: right;\">&vellip;</td><td style = \"text-align: right;\">&vellip;</td><td style = \"text-align: right;\">&vellip;</td><td style = \"text-align: right;\">&vellip;</td><td style = \"text-align: right;\">&vellip;</td><td style = \"text-align: right;\">&vellip;</td><td style = \"text-align: right;\">&vellip;</td><td style = \"text-align: right;\">&vellip;</td><td style = \"text-align: right;\">&vellip;</td><td style = \"text-align: right;\">&vellip;</td><td style = \"text-align: right;\">&vellip;</td><td style = \"text-align: right;\">&vellip;</td><td style = \"text-align: right;\">&vellip;</td></tr><tr><td class = \"rowNumber\" style = \"font-weight: bold; text-align: right;\">495</td><td style = \"text-align: right;\">0.27957</td><td style = \"text-align: right;\">0.0</td><td style = \"text-align: right;\">9.69</td><td style = \"text-align: right;\">0</td><td style = \"text-align: right;\">0.585</td><td style = \"text-align: right;\">5.926</td><td style = \"text-align: right;\">42.6</td><td style = \"text-align: right;\">2.3817</td><td style = \"text-align: right;\">6</td><td style = \"text-align: right;\">391</td><td style = \"text-align: right;\">19.2</td><td style = \"text-align: right;\">396.9</td><td style = \"text-align: right;\">13.59</td><td style = \"text-align: right;\">24.5</td></tr><tr><td class = \"rowNumber\" style = \"font-weight: bold; text-align: right;\">496</td><td style = \"text-align: right;\">0.17899</td><td style = \"text-align: right;\">0.0</td><td style = \"text-align: right;\">9.69</td><td style = \"text-align: right;\">0</td><td style = \"text-align: right;\">0.585</td><td style = \"text-align: right;\">5.67</td><td style = \"text-align: right;\">28.8</td><td style = \"text-align: right;\">2.7986</td><td style = \"text-align: right;\">6</td><td style = \"text-align: right;\">391</td><td style = \"text-align: right;\">19.2</td><td style = \"text-align: right;\">393.29</td><td style = \"text-align: right;\">17.6</td><td style = \"text-align: right;\">23.1</td></tr><tr><td class = \"rowNumber\" style = \"font-weight: bold; text-align: right;\">497</td><td style = \"text-align: right;\">0.2896</td><td style = \"text-align: right;\">0.0</td><td style = \"text-align: right;\">9.69</td><td style = \"text-align: right;\">0</td><td style = \"text-align: right;\">0.585</td><td style = \"text-align: right;\">5.39</td><td style = \"text-align: right;\">72.9</td><td style = \"text-align: right;\">2.7986</td><td style = \"text-align: right;\">6</td><td style = \"text-align: right;\">391</td><td style = \"text-align: right;\">19.2</td><td style = \"text-align: right;\">396.9</td><td style = \"text-align: right;\">21.14</td><td style = \"text-align: right;\">19.7</td></tr><tr><td class = \"rowNumber\" style = \"font-weight: bold; text-align: right;\">498</td><td style = \"text-align: right;\">0.26838</td><td style = \"text-align: right;\">0.0</td><td style = \"text-align: right;\">9.69</td><td style = \"text-align: right;\">0</td><td style = \"text-align: right;\">0.585</td><td style = \"text-align: right;\">5.794</td><td style = \"text-align: right;\">70.6</td><td style = \"text-align: right;\">2.8927</td><td style = \"text-align: right;\">6</td><td style = \"text-align: right;\">391</td><td style = \"text-align: right;\">19.2</td><td style = \"text-align: right;\">396.9</td><td style = \"text-align: right;\">14.1</td><td style = \"text-align: right;\">18.3</td></tr><tr><td class = \"rowNumber\" style = \"font-weight: bold; text-align: right;\">499</td><td style = \"text-align: right;\">0.23912</td><td style = \"text-align: right;\">0.0</td><td style = \"text-align: right;\">9.69</td><td style = \"text-align: right;\">0</td><td style = \"text-align: right;\">0.585</td><td style = \"text-align: right;\">6.019</td><td style = \"text-align: right;\">65.3</td><td style = \"text-align: right;\">2.4091</td><td style = \"text-align: right;\">6</td><td style = \"text-align: right;\">391</td><td style = \"text-align: right;\">19.2</td><td style = \"text-align: right;\">396.9</td><td style = \"text-align: right;\">12.92</td><td style = \"text-align: right;\">21.2</td></tr><tr><td class = \"rowNumber\" style = \"font-weight: bold; text-align: right;\">500</td><td style = \"text-align: right;\">0.17783</td><td style = \"text-align: right;\">0.0</td><td style = \"text-align: right;\">9.69</td><td style = \"text-align: right;\">0</td><td style = \"text-align: right;\">0.585</td><td style = \"text-align: right;\">5.569</td><td style = \"text-align: right;\">73.5</td><td style = \"text-align: right;\">2.3999</td><td style = \"text-align: right;\">6</td><td style = \"text-align: right;\">391</td><td style = \"text-align: right;\">19.2</td><td style = \"text-align: right;\">395.77</td><td style = \"text-align: right;\">15.1</td><td style = \"text-align: right;\">17.5</td></tr><tr><td class = \"rowNumber\" style = \"font-weight: bold; text-align: right;\">501</td><td style = \"text-align: right;\">0.22438</td><td style = \"text-align: right;\">0.0</td><td style = \"text-align: right;\">9.69</td><td style = \"text-align: right;\">0</td><td style = \"text-align: right;\">0.585</td><td style = \"text-align: right;\">6.027</td><td style = \"text-align: right;\">79.7</td><td style = \"text-align: right;\">2.4982</td><td style = \"text-align: right;\">6</td><td style = \"text-align: right;\">391</td><td style = \"text-align: right;\">19.2</td><td style = \"text-align: right;\">396.9</td><td style = \"text-align: right;\">14.33</td><td style = \"text-align: right;\">16.8</td></tr><tr><td class = \"rowNumber\" style = \"font-weight: bold; text-align: right;\">502</td><td style = \"text-align: right;\">0.06263</td><td style = \"text-align: right;\">0.0</td><td style = \"text-align: right;\">11.93</td><td style = \"text-align: right;\">0</td><td style = \"text-align: right;\">0.573</td><td style = \"text-align: right;\">6.593</td><td style = \"text-align: right;\">69.1</td><td style = \"text-align: right;\">2.4786</td><td style = \"text-align: right;\">1</td><td style = \"text-align: right;\">273</td><td style = \"text-align: right;\">21.0</td><td style = \"text-align: right;\">391.99</td><td style = \"text-align: right;\">9.67</td><td style = \"text-align: right;\">22.4</td></tr><tr><td class = \"rowNumber\" style = \"font-weight: bold; text-align: right;\">503</td><td style = \"text-align: right;\">0.04527</td><td style = \"text-align: right;\">0.0</td><td style = \"text-align: right;\">11.93</td><td style = \"text-align: right;\">0</td><td style = \"text-align: right;\">0.573</td><td style = \"text-align: right;\">6.12</td><td style = \"text-align: right;\">76.7</td><td style = \"text-align: right;\">2.2875</td><td style = \"text-align: right;\">1</td><td style = \"text-align: right;\">273</td><td style = \"text-align: right;\">21.0</td><td style = \"text-align: right;\">396.9</td><td style = \"text-align: right;\">9.08</td><td style = \"text-align: right;\">20.6</td></tr><tr><td class = \"rowNumber\" style = \"font-weight: bold; text-align: right;\">504</td><td style = \"text-align: right;\">0.06076</td><td style = \"text-align: right;\">0.0</td><td style = \"text-align: right;\">11.93</td><td style = \"text-align: right;\">0</td><td style = \"text-align: right;\">0.573</td><td style = \"text-align: right;\">6.976</td><td style = \"text-align: right;\">91.0</td><td style = \"text-align: right;\">2.1675</td><td style = \"text-align: right;\">1</td><td style = \"text-align: right;\">273</td><td style = \"text-align: right;\">21.0</td><td style = \"text-align: right;\">396.9</td><td style = \"text-align: right;\">5.64</td><td style = \"text-align: right;\">23.9</td></tr><tr><td class = \"rowNumber\" style = \"font-weight: bold; text-align: right;\">505</td><td style = \"text-align: right;\">0.10959</td><td style = \"text-align: right;\">0.0</td><td style = \"text-align: right;\">11.93</td><td style = \"text-align: right;\">0</td><td style = \"text-align: right;\">0.573</td><td style = \"text-align: right;\">6.794</td><td style = \"text-align: right;\">89.3</td><td style = \"text-align: right;\">2.3889</td><td style = \"text-align: right;\">1</td><td style = \"text-align: right;\">273</td><td style = \"text-align: right;\">21.0</td><td style = \"text-align: right;\">393.45</td><td style = \"text-align: right;\">6.48</td><td style = \"text-align: right;\">22.0</td></tr><tr><td class = \"rowNumber\" style = \"font-weight: bold; text-align: right;\">506</td><td style = \"text-align: right;\">0.04741</td><td style = \"text-align: right;\">0.0</td><td style = \"text-align: right;\">11.93</td><td style = \"text-align: right;\">0</td><td style = \"text-align: right;\">0.573</td><td style = \"text-align: right;\">6.03</td><td style = \"text-align: right;\">80.8</td><td style = \"text-align: right;\">2.505</td><td style = \"text-align: right;\">1</td><td style = \"text-align: right;\">273</td><td style = \"text-align: right;\">21.0</td><td style = \"text-align: right;\">396.9</td><td style = \"text-align: right;\">7.88</td><td style = \"text-align: right;\">11.9</td></tr></tbody></table></div>"
      ],
      "text/latex": [
       "\\begin{tabular}{r|ccccccccccc}\n",
       "\t& crim & zn & indus & chas & nox & rm & age & dis & rad & tax & \\\\\n",
       "\t\\hline\n",
       "\t& Float64 & Float64 & Float64 & Int64 & Float64 & Float64 & Float64 & Float64 & Int64 & Int64 & \\\\\n",
       "\t\\hline\n",
       "\t1 & 0.00632 & 18.0 & 2.31 & 0 & 0.538 & 6.575 & 65.2 & 4.09 & 1 & 296 & $\\dots$ \\\\\n",
       "\t2 & 0.02731 & 0.0 & 7.07 & 0 & 0.469 & 6.421 & 78.9 & 4.9671 & 2 & 242 & $\\dots$ \\\\\n",
       "\t3 & 0.02729 & 0.0 & 7.07 & 0 & 0.469 & 7.185 & 61.1 & 4.9671 & 2 & 242 & $\\dots$ \\\\\n",
       "\t4 & 0.03237 & 0.0 & 2.18 & 0 & 0.458 & 6.998 & 45.8 & 6.0622 & 3 & 222 & $\\dots$ \\\\\n",
       "\t5 & 0.06905 & 0.0 & 2.18 & 0 & 0.458 & 7.147 & 54.2 & 6.0622 & 3 & 222 & $\\dots$ \\\\\n",
       "\t6 & 0.02985 & 0.0 & 2.18 & 0 & 0.458 & 6.43 & 58.7 & 6.0622 & 3 & 222 & $\\dots$ \\\\\n",
       "\t7 & 0.08829 & 12.5 & 7.87 & 0 & 0.524 & 6.012 & 66.6 & 5.5605 & 5 & 311 & $\\dots$ \\\\\n",
       "\t8 & 0.14455 & 12.5 & 7.87 & 0 & 0.524 & 6.172 & 96.1 & 5.9505 & 5 & 311 & $\\dots$ \\\\\n",
       "\t9 & 0.21124 & 12.5 & 7.87 & 0 & 0.524 & 5.631 & 100.0 & 6.0821 & 5 & 311 & $\\dots$ \\\\\n",
       "\t10 & 0.17004 & 12.5 & 7.87 & 0 & 0.524 & 6.004 & 85.9 & 6.5921 & 5 & 311 & $\\dots$ \\\\\n",
       "\t11 & 0.22489 & 12.5 & 7.87 & 0 & 0.524 & 6.377 & 94.3 & 6.3467 & 5 & 311 & $\\dots$ \\\\\n",
       "\t12 & 0.11747 & 12.5 & 7.87 & 0 & 0.524 & 6.009 & 82.9 & 6.2267 & 5 & 311 & $\\dots$ \\\\\n",
       "\t13 & 0.09378 & 12.5 & 7.87 & 0 & 0.524 & 5.889 & 39.0 & 5.4509 & 5 & 311 & $\\dots$ \\\\\n",
       "\t14 & 0.62976 & 0.0 & 8.14 & 0 & 0.538 & 5.949 & 61.8 & 4.7075 & 4 & 307 & $\\dots$ \\\\\n",
       "\t15 & 0.63796 & 0.0 & 8.14 & 0 & 0.538 & 6.096 & 84.5 & 4.4619 & 4 & 307 & $\\dots$ \\\\\n",
       "\t16 & 0.62739 & 0.0 & 8.14 & 0 & 0.538 & 5.834 & 56.5 & 4.4986 & 4 & 307 & $\\dots$ \\\\\n",
       "\t17 & 1.05393 & 0.0 & 8.14 & 0 & 0.538 & 5.935 & 29.3 & 4.4986 & 4 & 307 & $\\dots$ \\\\\n",
       "\t18 & 0.7842 & 0.0 & 8.14 & 0 & 0.538 & 5.99 & 81.7 & 4.2579 & 4 & 307 & $\\dots$ \\\\\n",
       "\t19 & 0.80271 & 0.0 & 8.14 & 0 & 0.538 & 5.456 & 36.6 & 3.7965 & 4 & 307 & $\\dots$ \\\\\n",
       "\t20 & 0.7258 & 0.0 & 8.14 & 0 & 0.538 & 5.727 & 69.5 & 3.7965 & 4 & 307 & $\\dots$ \\\\\n",
       "\t21 & 1.25179 & 0.0 & 8.14 & 0 & 0.538 & 5.57 & 98.1 & 3.7979 & 4 & 307 & $\\dots$ \\\\\n",
       "\t22 & 0.85204 & 0.0 & 8.14 & 0 & 0.538 & 5.965 & 89.2 & 4.0123 & 4 & 307 & $\\dots$ \\\\\n",
       "\t23 & 1.23247 & 0.0 & 8.14 & 0 & 0.538 & 6.142 & 91.7 & 3.9769 & 4 & 307 & $\\dots$ \\\\\n",
       "\t24 & 0.98843 & 0.0 & 8.14 & 0 & 0.538 & 5.813 & 100.0 & 4.0952 & 4 & 307 & $\\dots$ \\\\\n",
       "\t$\\dots$ & $\\dots$ & $\\dots$ & $\\dots$ & $\\dots$ & $\\dots$ & $\\dots$ & $\\dots$ & $\\dots$ & $\\dots$ & $\\dots$ &  \\\\\n",
       "\\end{tabular}\n"
      ],
      "text/plain": [
       "\u001b[1m506×14 DataFrame\u001b[0m\n",
       "\u001b[1m Row \u001b[0m│\u001b[1m crim    \u001b[0m\u001b[1m zn      \u001b[0m\u001b[1m indus   \u001b[0m\u001b[1m chas  \u001b[0m\u001b[1m nox     \u001b[0m\u001b[1m rm      \u001b[0m\u001b[1m age     \u001b[0m\u001b[1m dis     \u001b[0m\u001b[1m r\u001b[0m ⋯\n",
       "     │\u001b[90m Float64 \u001b[0m\u001b[90m Float64 \u001b[0m\u001b[90m Float64 \u001b[0m\u001b[90m Int64 \u001b[0m\u001b[90m Float64 \u001b[0m\u001b[90m Float64 \u001b[0m\u001b[90m Float64 \u001b[0m\u001b[90m Float64 \u001b[0m\u001b[90m I\u001b[0m ⋯\n",
       "─────┼──────────────────────────────────────────────────────────────────────────\n",
       "   1 │ 0.00632     18.0     2.31      0    0.538    6.575     65.2   4.09      ⋯\n",
       "   2 │ 0.02731      0.0     7.07      0    0.469    6.421     78.9   4.9671\n",
       "   3 │ 0.02729      0.0     7.07      0    0.469    7.185     61.1   4.9671\n",
       "   4 │ 0.03237      0.0     2.18      0    0.458    6.998     45.8   6.0622\n",
       "   5 │ 0.06905      0.0     2.18      0    0.458    7.147     54.2   6.0622    ⋯\n",
       "   6 │ 0.02985      0.0     2.18      0    0.458    6.43      58.7   6.0622\n",
       "   7 │ 0.08829     12.5     7.87      0    0.524    6.012     66.6   5.5605\n",
       "   8 │ 0.14455     12.5     7.87      0    0.524    6.172     96.1   5.9505\n",
       "  ⋮  │    ⋮        ⋮        ⋮       ⋮       ⋮        ⋮        ⋮        ⋮       ⋱\n",
       " 500 │ 0.17783      0.0     9.69      0    0.585    5.569     73.5   2.3999    ⋯\n",
       " 501 │ 0.22438      0.0     9.69      0    0.585    6.027     79.7   2.4982\n",
       " 502 │ 0.06263      0.0    11.93      0    0.573    6.593     69.1   2.4786\n",
       " 503 │ 0.04527      0.0    11.93      0    0.573    6.12      76.7   2.2875\n",
       " 504 │ 0.06076      0.0    11.93      0    0.573    6.976     91.0   2.1675    ⋯\n",
       " 505 │ 0.10959      0.0    11.93      0    0.573    6.794     89.3   2.3889\n",
       " 506 │ 0.04741      0.0    11.93      0    0.573    6.03      80.8   2.505\n",
       "\u001b[36m                                                  6 columns and 491 rows omitted\u001b[0m"
      ]
     },
     "metadata": {},
     "output_type": "display_data"
    }
   ],
   "source": [
    "using CSV\n",
    "housing_filename = \"housing.csv\"\n",
    "CSV.read(housing_filename, DataFrame)"
   ]
  },
  {
   "cell_type": "markdown",
   "metadata": {
    "slideshow": {
     "slide_type": "subslide"
    }
   },
   "source": [
    "Checkout [`CSV.jl` documentation](https://csv.juliadata.org/stable/index.html#Overview) to learn more."
   ]
  },
  {
   "cell_type": "markdown",
   "metadata": {
    "slideshow": {
     "slide_type": "slide"
    }
   },
   "source": [
    "## Broadcasting\n",
    "\n",
    "In R, something like this works perfectly:\n",
    "```R\n",
    "a <- c(0, pi/2, pi, 3*pi/2, 2*pi)\n",
    "b <- sin(a)\n",
    "```\n"
   ]
  },
  {
   "cell_type": "markdown",
   "metadata": {
    "slideshow": {
     "slide_type": "subslide"
    }
   },
   "source": [
    "\n",
    "But in Julia, the following fails!"
   ]
  },
  {
   "cell_type": "code",
   "execution_count": 38,
   "metadata": {
    "slideshow": {
     "slide_type": "fragment"
    }
   },
   "outputs": [
    {
     "ename": "MethodError",
     "evalue": "MethodError: no method matching sin(::Vector{Float64})\n\nClosest candidates are:\n  sin(!Matched::Irrational{:π})\n   @ Base mathconstants.jl:126\n  sin(!Matched::Float16)\n   @ Base math.jl:1558\n  sin(!Matched::BigFloat)\n   @ Base mpfr.jl:801\n  ...\n",
     "output_type": "error",
     "traceback": [
      "MethodError: no method matching sin(::Vector{Float64})\n",
      "\n",
      "Closest candidates are:\n",
      "  sin(!Matched::Irrational{:π})\n",
      "   @ Base mathconstants.jl:126\n",
      "  sin(!Matched::Float16)\n",
      "   @ Base math.jl:1558\n",
      "  sin(!Matched::BigFloat)\n",
      "   @ Base mpfr.jl:801\n",
      "  ...\n",
      "\n",
      "\n",
      "Stacktrace:\n",
      " [1] top-level scope\n",
      "   @ ~/Academia/Postdoc_S2z/teaching/iDiv_Julia_workshop/materials/Day1/32_dataframe_tuto/jl_notebook_cell_df34fa98e69747e1a8f8a730347b8e2f_Y100sZmlsZQ==.jl:2"
     ]
    }
   ],
   "source": [
    "a = [0, π/2, π, 3π/2, 2π]\n",
    "b = sin(a)"
   ]
  },
  {
   "cell_type": "markdown",
   "metadata": {
    "slideshow": {
     "slide_type": "subslide"
    }
   },
   "source": [
    "- In R, `sin` function works with lists thanks to the fact the there exists a built-in vectorized function `sin`.\n"
   ]
  },
  {
   "cell_type": "markdown",
   "metadata": {
    "slideshow": {
     "slide_type": "subslide"
    }
   },
   "source": [
    "Note that the following R user-defined function\n",
    "\n",
    "```R\n",
    "# A function that returns the square of a number if it is even, and -1 if odd\n",
    "even_square <- function(x){\n",
    "  if(x %% 2 == 0){\n",
    "    return(x^2)\n",
    "  } else {\n",
    "    return(-1)\n",
    "  }\n",
    "}\n",
    "```\n",
    "\n",
    "would fail with a R list:\n",
    "\n",
    "```R\n",
    "# A vector of numbers\n",
    "nums <- c(1, 2, 3, 4, 5)\n",
    "\n",
    "even_square(nums) # Error in if (x%%2 == 0) { : the condition has length > 1\n",
    "```\n"
   ]
  },
  {
   "cell_type": "markdown",
   "metadata": {
    "slideshow": {
     "slide_type": "subslide"
    }
   },
   "source": [
    "\n",
    "For the above code to work, you'd need to vectorize the function `even_square` with the `apply` family function - in a similar fashion as you would use the dot operator in Julia\n",
    "\n",
    "```R\n",
    "sapply(nums, even_square)\n",
    "```"
   ]
  },
  {
   "cell_type": "markdown",
   "metadata": {
    "slideshow": {
     "slide_type": "subslide"
    }
   },
   "source": [
    "\n",
    "- In Julia, you can obtain this behavior by **broadcasting**,\n",
    "-  allows for **the application of operations to arrays or collections** in a way that is both concise and efficient.\n",
    "\n",
    "\n",
    "The syntax for broadcasting is the use of the dot notation `.`, followed by the operator."
   ]
  },
  {
   "cell_type": "code",
   "execution_count": 39,
   "metadata": {
    "slideshow": {
     "slide_type": "fragment"
    }
   },
   "outputs": [
    {
     "data": {
      "text/plain": [
       "5-element Vector{Float64}:\n",
       "  0.0\n",
       "  1.0\n",
       "  1.2246467991473532e-16\n",
       " -1.0\n",
       " -2.4492935982947064e-16"
      ]
     },
     "metadata": {},
     "output_type": "display_data"
    }
   ],
   "source": [
    "b = sin.(a)"
   ]
  },
  {
   "cell_type": "markdown",
   "metadata": {
    "slideshow": {
     "slide_type": "subslide"
    }
   },
   "source": [
    "- The dot notation tells Julia to apply the `sin` operator to each element of `a`. \n",
    "- This is more natural, because the $sin$ function is mathematically only defined for scalar values.\n"
   ]
  },
  {
   "cell_type": "markdown",
   "metadata": {
    "slideshow": {
     "slide_type": "subslide"
    }
   },
   "source": [
    "\n",
    "Similarly, in R you could write something like\n",
    "\n",
    "```R\n",
    "b = a + 1\n",
    "```\n",
    "\n",
    "but mathematically, this is weird, since adding a scalar to a vector does not make sense! As such, this in Julia fails"
   ]
  },
  {
   "cell_type": "code",
   "execution_count": 40,
   "metadata": {},
   "outputs": [
    {
     "ename": "MethodError",
     "evalue": "MethodError: no method matching +(::Vector{Float64}, ::Int64)\nFor element-wise addition, use broadcasting with dot syntax: array .+ scalar\n\nClosest candidates are:\n  +(::Any, ::Any, !Matched::Any, !Matched::Any...)\n   @ Base operators.jl:587\n  +(!Matched::BigInt, ::Union{Int16, Int32, Int64, Int8})\n   @ Base gmp.jl:555\n  +(!Matched::BigFloat, ::Union{Int16, Int32, Int64, Int8})\n   @ Base mpfr.jl:447\n  ...\n",
     "output_type": "error",
     "traceback": [
      "MethodError: no method matching +(::Vector{Float64}, ::Int64)\n",
      "For element-wise addition, use broadcasting with dot syntax: array .+ scalar\n",
      "\n",
      "Closest candidates are:\n",
      "  +(::Any, ::Any, !Matched::Any, !Matched::Any...)\n",
      "   @ Base operators.jl:587\n",
      "  +(!Matched::BigInt, ::Union{Int16, Int32, Int64, Int8})\n",
      "   @ Base gmp.jl:555\n",
      "  +(!Matched::BigFloat, ::Union{Int16, Int32, Int64, Int8})\n",
      "   @ Base mpfr.jl:447\n",
      "  ...\n",
      "\n",
      "\n",
      "Stacktrace:\n",
      " [1] top-level scope\n",
      "   @ ~/Academia/Postdoc_S2z/teaching/iDiv_Julia_workshop/materials/Day1/32_dataframe_tuto/jl_notebook_cell_df34fa98e69747e1a8f8a730347b8e2f_Y106sZmlsZQ==.jl:1"
     ]
    }
   ],
   "source": [
    "b = a + 1"
   ]
  },
  {
   "cell_type": "markdown",
   "metadata": {
    "slideshow": {
     "slide_type": "subslide"
    }
   },
   "source": [
    "But this works!"
   ]
  },
  {
   "cell_type": "code",
   "execution_count": 41,
   "metadata": {
    "slideshow": {
     "slide_type": "fragment"
    }
   },
   "outputs": [
    {
     "data": {
      "text/plain": [
       "5-element Vector{Float64}:\n",
       " 1.0\n",
       " 2.5707963267948966\n",
       " 4.141592653589793\n",
       " 5.71238898038469\n",
       " 7.283185307179586"
      ]
     },
     "metadata": {},
     "output_type": "display_data"
    }
   ],
   "source": [
    "b = a .+ 1"
   ]
  },
  {
   "cell_type": "markdown",
   "metadata": {
    "slideshow": {
     "slide_type": "subslide"
    }
   },
   "source": [
    "#### Matrix multiplication in R and Julia"
   ]
  },
  {
   "cell_type": "code",
   "execution_count": 42,
   "metadata": {
    "slideshow": {
     "slide_type": "fragment"
    }
   },
   "outputs": [
    {
     "data": {
      "text/plain": [
       "2-element Vector{Int64}:\n",
       "  6\n",
       " 14"
      ]
     },
     "metadata": {},
     "output_type": "display_data"
    }
   ],
   "source": [
    "a = [1 2; 3 4]\n",
    "b = [2, 2] \n",
    "\n",
    "a * b"
   ]
  },
  {
   "cell_type": "markdown",
   "metadata": {
    "slideshow": {
     "slide_type": "subslide"
    }
   },
   "source": [
    "In R this is equivalent to something like\n",
    "\n",
    "```R\n",
    "a %*% b\n",
    "```\n",
    "\n",
    "while this"
   ]
  },
  {
   "cell_type": "code",
   "execution_count": 43,
   "metadata": {
    "slideshow": {
     "slide_type": "subslide"
    }
   },
   "outputs": [
    {
     "data": {
      "text/plain": [
       "2×2 Matrix{Int64}:\n",
       " 2  4\n",
       " 6  8"
      ]
     },
     "metadata": {},
     "output_type": "display_data"
    }
   ],
   "source": [
    "a .* b"
   ]
  },
  {
   "cell_type": "markdown",
   "metadata": {
    "slideshow": {
     "slide_type": "fragment"
    }
   },
   "source": [
    "Is equivalent in R to \n",
    "```R\n",
    "a * b\n",
    "```\n"
   ]
  },
  {
   "cell_type": "markdown",
   "metadata": {
    "slideshow": {
     "slide_type": "slide"
    }
   },
   "source": [
    "### Mastering expansion rules with Ref\n",
    "\n",
    "`r = Ref(x)` \n",
    "\n",
    "- create a 0-dimensional container or 0-dimensional reference to `x`\n",
    "- You can retrieve the `x` with `r[]` (notice that we do not pass any indices in the indexing syntax, as the `r` object is 0-dimensional). \n",
    "\n",
    "\n"
   ]
  },
  {
   "cell_type": "markdown",
   "metadata": {
    "slideshow": {
     "slide_type": "subslide"
    }
   },
   "source": [
    "**Use cases**\n",
    "- check whether each element of an array is in another array."
   ]
  },
  {
   "cell_type": "code",
   "execution_count": 44,
   "metadata": {
    "slideshow": {
     "slide_type": "fragment"
    }
   },
   "outputs": [
    {
     "name": "stdout",
     "output_type": "stream",
     "text": [
      "Bool[1, 0, 0, 0, 0]\n"
     ]
    }
   ],
   "source": [
    "mycountries = [\"USA\", \"CHN\", \"JPN\", \"DEU\", \"BRA\", \"SAU\"]\n",
    "mycountries2 = [\"BRA\", \"FRA\", \"IRA\", \"RUS\", \"CHE\"]\n",
    "x = Bool[]\n",
    "for c in mycountries2\n",
    "    if c ∈ mycountries\n",
    "        push!(x, true)\n",
    "    else\n",
    "        push!(x, false)\n",
    "    end\n",
    "end\n",
    "println(x)"
   ]
  },
  {
   "cell_type": "markdown",
   "metadata": {
    "slideshow": {
     "slide_type": "subslide"
    }
   },
   "source": [
    "Using broadcasting:"
   ]
  },
  {
   "cell_type": "code",
   "execution_count": 45,
   "metadata": {},
   "outputs": [
    {
     "ename": "DimensionMismatch",
     "evalue": "DimensionMismatch: arrays could not be broadcast to a common size; got a dimension with lengths 5 and 6",
     "output_type": "error",
     "traceback": [
      "DimensionMismatch: arrays could not be broadcast to a common size; got a dimension with lengths 5 and 6\n",
      "\n",
      "Stacktrace:\n",
      " [1] _bcs1\n",
      "   @ ./broadcast.jl:555 [inlined]\n",
      " [2] _bcs\n",
      "   @ ./broadcast.jl:549 [inlined]\n",
      " [3] broadcast_shape\n",
      "   @ ./broadcast.jl:543 [inlined]\n",
      " [4] combine_axes\n",
      "   @ ./broadcast.jl:524 [inlined]\n",
      " [5] instantiate\n",
      "   @ ./broadcast.jl:306 [inlined]\n",
      " [6] materialize(bc::Base.Broadcast.Broadcasted{Base.Broadcast.DefaultArrayStyle{1}, Nothing, typeof(in), Tuple{Vector{String}, Vector{String}}})\n",
      "   @ Base.Broadcast ./broadcast.jl:903\n",
      " [7] top-level scope\n",
      "   @ ~/Academia/Postdoc_S2z/teaching/iDiv_Julia_workshop/materials/Day1/32_dataframe_tuto/jl_notebook_cell_df34fa98e69747e1a8f8a730347b8e2f_Y133sZmlsZQ==.jl:1"
     ]
    }
   ],
   "source": [
    "in.(mycountries2, mycountries)"
   ]
  },
  {
   "cell_type": "markdown",
   "metadata": {
    "slideshow": {
     "slide_type": "subslide"
    }
   },
   "source": [
    "That's where `Ref` is useful!"
   ]
  },
  {
   "cell_type": "code",
   "execution_count": 46,
   "metadata": {
    "slideshow": {
     "slide_type": "subslide"
    }
   },
   "outputs": [
    {
     "data": {
      "text/plain": [
       "5-element BitVector:\n",
       " 1\n",
       " 0\n",
       " 0\n",
       " 0\n",
       " 0"
      ]
     },
     "metadata": {},
     "output_type": "display_data"
    }
   ],
   "source": [
    "in.(mycountries2, Ref(mycountries))"
   ]
  },
  {
   "cell_type": "markdown",
   "metadata": {},
   "source": [
    "Equivalent syntax"
   ]
  },
  {
   "cell_type": "code",
   "execution_count": 47,
   "metadata": {
    "slideshow": {
     "slide_type": "fragment"
    }
   },
   "outputs": [
    {
     "data": {
      "text/plain": [
       "5-element BitVector:\n",
       " 1\n",
       " 0\n",
       " 0\n",
       " 0\n",
       " 0"
      ]
     },
     "metadata": {},
     "output_type": "display_data"
    }
   ],
   "source": [
    "mycountries2 .∈ Ref(mycountries)"
   ]
  },
  {
   "cell_type": "markdown",
   "metadata": {
    "slideshow": {
     "slide_type": "slide"
    }
   },
   "source": [
    "## Your turn!\n",
    "\n",
    "Try out [some exercises](33_dataframe_exercises.md) with the iris dataset and GBIF 🤩!\n",
    "\n",
    "Leave out the plotting section, we'll do that after you get a proper introduction to plotting in Julia!"
   ]
  },
  {
   "cell_type": "markdown",
   "metadata": {
    "slideshow": {
     "slide_type": "slide"
    }
   },
   "source": [
    "## Acknowledgement and additional resources\n",
    "- [Bits and pieces of this tutorial have been inspired from the DataFrames.jl documentation](https://dataframes.juliadata.org/stable/)\n",
    "- [Here is a very detailed tutorial for DataFrames.jl](https://dataframes.juliadata.org/stable/man/basics/#Changing-the-Data-Stored-in-a-Data-Frame)\n",
    "- [`CSV.jl` documentation](https://csv.juliadata.org/stable/index.html#Overview)"
   ]
  }
 ],
 "metadata": {
  "celltoolbar": "Slideshow",
  "kernelspec": {
   "display_name": "Julia 1.10.2",
   "language": "julia",
   "name": "julia-1.10"
  },
  "language_info": {
   "file_extension": ".jl",
   "mimetype": "application/julia",
   "name": "julia",
   "version": "1.10.2"
  }
 },
 "nbformat": 4,
 "nbformat_minor": 2
}
