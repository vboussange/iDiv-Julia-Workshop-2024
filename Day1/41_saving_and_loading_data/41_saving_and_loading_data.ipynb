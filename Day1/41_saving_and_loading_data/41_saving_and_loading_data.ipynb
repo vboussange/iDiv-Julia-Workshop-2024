{
 "cells": [
  {
   "cell_type": "markdown",
   "metadata": {
    "name": "A slide ",
    "slideshow": {
     "slide_type": "slide"
    }
   },
   "source": [
    "# Storing and loading data in Julia"
   ]
  },
  {
   "cell_type": "markdown",
   "metadata": {
    "name": "A slide ",
    "slideshow": {
     "slide_type": "fragment"
    }
   },
   "source": [
    "Many ways, again:\n",
    "- `DelimitedFiles` -- built in for reading delimited text data (csv-files) into an array\n",
    "  - `CSV.jl` is more performant and makes a data-frame\n",
    "- any Julia thing:\n",
    "  - [JLD2.jl](https://github.com/JuliaIO/JLD2.jl)\n",
    "  - [BSON.jl](https://github.com/JuliaIO/BSON.jl)\n",
    "  - [JLSO.jl](https://github.com/invenia/JLSO.jl) <-- will show this\n",
    "- specialized data\n",
    "  - HDF5\n",
    "  - [NetCDF.jl](https://github.com/JuliaGeo/NetCDF.jl)\n",
    "  - geo-data via Rasters.jl (on Monday\n",
    "  - images, feather, ...\n",
    "  - etc"
   ]
  },
  {
   "cell_type": "markdown",
   "metadata": {
    "name": "A slide ",
    "slideshow": {
     "slide_type": "slide"
    }
   },
   "source": [
    "# House keeping"
   ]
  },
  {
   "cell_type": "code",
   "execution_count": 1,
   "metadata": {},
   "outputs": [],
   "source": [
    "using Pkg\n",
    "Pkg.instantiate()"
   ]
  },
  {
   "cell_type": "markdown",
   "metadata": {
    "name": "A slide ",
    "slideshow": {
     "slide_type": "slide"
    }
   },
   "source": [
    "# DelimitedFiles\n",
    "\n",
    "This is a standard library, i.e. ships with Julia, i.e. no need to install."
   ]
  },
  {
   "cell_type": "code",
   "execution_count": 1,
   "metadata": {},
   "outputs": [
    {
     "data": {
      "text/plain": [
       "true"
      ]
     },
     "execution_count": 1,
     "metadata": {},
     "output_type": "execute_result"
    }
   ],
   "source": [
    "using DelimitedFiles\n",
    "data = rand(4,5)\n",
    "\n",
    "# ?DelimitedFiles.writedlm\n",
    "#\n",
    "# writedlm(f, A, delim='\\t'; opts)\n",
    "\n",
    "writedlm(\"test.csv\", data, ',')\n",
    "data2 = readdlm(\"test.csv\", ',')\n",
    "data==data2\n",
    "\n",
    "# can do header, etc. too"
   ]
  },
  {
   "cell_type": "markdown",
   "metadata": {
    "name": "A slide ",
    "slideshow": {
     "slide_type": "slide"
    }
   },
   "source": [
    "# Store anything (almost)\n",
    "\n",
    "To store anything, I mostly use JLSO.jl, but JLD2.jl should work too"
   ]
  },
  {
   "cell_type": "code",
   "execution_count": 2,
   "metadata": {},
   "outputs": [
    {
     "data": {
      "text/plain": [
       "Dict{Symbol, Any} with 2 entries:\n",
       "  :a => \"A\"\n",
       "  :b => sin"
      ]
     },
     "execution_count": 2,
     "metadata": {},
     "output_type": "execute_result"
    }
   ],
   "source": [
    "using JLSO\n",
    "\n",
    "data1 = Dict(:a => \"A\", :b => sin)\n",
    "JLSO.save(\"test.jlso\", data1)\n",
    "\n",
    "out = JLSO.load(\"test.jlso\")"
   ]
  }
 ],
 "metadata": {
  "kernelspec": {
   "display_name": "Julia 1.8.3",
   "language": "julia",
   "name": "julia-1.8"
  },
  "language_info": {
   "file_extension": ".jl",
   "mimetype": "application/julia",
   "name": "julia",
   "version": "1.8.3"
  }
 },
 "nbformat": 4,
 "nbformat_minor": 3
}
