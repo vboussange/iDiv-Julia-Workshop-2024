{
 "cells": [
  {
   "cell_type": "markdown",
   "metadata": {
    "slideshow": {
     "slide_type": "slide"
    }
   },
   "source": [
    "## Packages Management\n",
    "\n",
    "<div align=\"center\"><img src=\"https://pkgdocs.julialang.org/v1/assets/logo.png\" width=\"400\"></img> </div>\n"
   ]
  },
  {
   "cell_type": "markdown",
   "metadata": {
    "slideshow": {
     "slide_type": "slide"
    }
   },
   "source": [
    "\n",
    "Julia has a built-in package manager called `Pkg` which can be used to install and manage packages. `Pkg` allows users to install, update, and manage the packages used in their projects. \n",
    "\n",
    "You can use the `Pkg` in three different ways"
   ]
  },
  {
   "cell_type": "markdown",
   "metadata": {
    "slideshow": {
     "slide_type": "slide"
    }
   },
   "source": [
    "\n",
    "### REPL prompt\n"
   ]
  },
  {
   "cell_type": "markdown",
   "metadata": {
    "slideshow": {
     "slide_type": "subslide"
    }
   },
   "source": [
    "\n",
    "To use `Pkg`, start by typing `]` in the Julia REPL (read-eval-print loop). This will take you to the package manager prompt. \n",
    "\n",
    "From the package manager prompt, you can execute a variety of commands. Some of the most commonly used ones include: \n",
    "- `activate`: switches to a different project environment \n"
   ]
  },
  {
   "cell_type": "markdown",
   "metadata": {
    "slideshow": {
     "slide_type": "subslide"
    }
   },
   "source": [
    "- `add`: adds a package to the current project \n",
    "\n",
    "\n",
    "When you run `add` to install a package, `Pkg` will download and install the package, along with any dependencies it requires.\n"
   ]
  },
  {
   "cell_type": "markdown",
   "metadata": {
    "slideshow": {
     "slide_type": "subslide"
    }
   },
   "source": [
    "- `rm`: removes a package to the current project\n"
   ]
  },
  {
   "cell_type": "markdown",
   "metadata": {
    "slideshow": {
     "slide_type": "subslide"
    }
   },
   "source": [
    "- `update`: updates all packages in the current project to their latest versions \n"
   ]
  },
  {
   "cell_type": "markdown",
   "metadata": {
    "slideshow": {
     "slide_type": "subslide"
    }
   },
   "source": [
    "- `instantiate`: installs all packages specified in a project's `Project.toml` file \n"
   ]
  },
  {
   "cell_type": "markdown",
   "metadata": {
    "slideshow": {
     "slide_type": "subslide"
    }
   },
   "source": [
    "\n",
    "To load a package in your code, you can use the `using` keyword followed by the package name. \n",
    "\n",
    "```julia\n",
    "using CSV\n",
    "```"
   ]
  },
  {
   "attachments": {},
   "cell_type": "markdown",
   "metadata": {
    "slideshow": {
     "slide_type": "slide"
    }
   },
   "source": [
    "### Scripting\n",
    "\n",
    "You may need to manage packages outside of the REPL loop. \n",
    "\n",
    "This is how you would do so\n",
    "```julia\n",
    "using Pkg\n",
    "Pkg.add(\"PackageName\")\n",
    "Pkg.update()\n",
    "Pkg.rm(\"PackageName\")\n",
    "Pkg.activate(\"path/to/environment\")\n",
    "Pkg.instantiate()\n",
    "Pkg.status()\n",
    "```"
   ]
  },
  {
   "attachments": {},
   "cell_type": "markdown",
   "metadata": {
    "slideshow": {
     "slide_type": "subslide"
    }
   },
   "source": [
    "### `pkg\"\"` \n",
    "\n",
    "`pkg\"\"` may be handy, instead of the above\n",
    "\n",
    "```julia\n",
    "pkg\"add CSV\"\n",
    "```"
   ]
  },
  {
   "cell_type": "markdown",
   "metadata": {
    "slideshow": {
     "slide_type": "slide"
    }
   },
   "source": [
    "### `Project.toml` and `Manifest.toml`\n",
    "Two files that are central to `Pkg` are `Project.toml` and `Manifest.toml`. They are generated with you add the first dependency in your project. They include information about dependencies, versions, package names, UUIDs etc."
   ]
  },
  {
   "cell_type": "markdown",
   "metadata": {
    "slideshow": {
     "slide_type": "subslide"
    }
   },
   "source": [
    "\n",
    "#### `Project.toml`\n",
    "Looks like that\n",
    "\n",
    "```text\n",
    "[deps]\n",
    "DataFrames = \"a93c6f00-e57d-5684-b7b6-d8193f3e46c0\"\n",
    "Flux = \"587475ba-b771-5e3f-ad9e-33799f191a9c\"\n",
    "MLDatasets = \"eb30cadb-4394-5ae3-aed4-317e484a6458\"\n",
    "Statistics = \"10745b16-79ce-11e8-11f9-7d13ad32a3b2\"\n",
    "```\n",
    "All dependencies of the package/project are listed in the `[deps]` section. Each dependency is listed as a name-uuid pair.\n",
    "\n",
    "UUID is a string with a universally unique identifier for the package/project.\n"
   ]
  },
  {
   "cell_type": "markdown",
   "metadata": {
    "slideshow": {
     "slide_type": "subslide"
    }
   },
   "source": [
    "\n",
    "##### Optional fields\n",
    "```\n",
    "[deps]\n",
    "Example = \"7876af07-990d-54b4-ab0e-23690620f79a\"\n",
    "\n",
    "[compat]\n",
    "Example = \"1.2\"\n",
    "```\n",
    "\n",
    "This allows to specify requirement for specific package versions. This is useful when the `Manifest.toml` is not `shiped`."
   ]
  },
  {
   "cell_type": "markdown",
   "metadata": {
    "slideshow": {
     "slide_type": "subslide"
    }
   },
   "source": [
    "\n",
    "##### Additional fields for a package\n",
    "```\n",
    "name = \"PackageName\"\n",
    "uuid = \"96372a6d-8f12-4b28-95ba-ac697ae6fb10\"\n",
    "authors = [\"John Snow\"]\n",
    "version = \"0.1.0\"\n",
    "```\n",
    "\n",
    "Those are generated when you do \n",
    "\n",
    "```\n",
    "julia >] generate PackageName\n",
    "```"
   ]
  },
  {
   "cell_type": "markdown",
   "metadata": {
    "slideshow": {
     "slide_type": "slide"
    }
   },
   "source": [
    "\n",
    "#### `Manifest.toml`\n",
    "The manifest file is an absolute record of the state of the packages in the environment. It includes exact information about (direct and indirect) dependencies of the project. Given a `Project.toml` + `Manifest.toml` pair, it is possible to instantiate **the exact same package environment**, which is very useful for reproducibility. For the details, see `Pkg.instantiate`.\n",
    "\n"
   ]
  },
  {
   "cell_type": "markdown",
   "metadata": {
    "slideshow": {
     "slide_type": "subslide"
    }
   },
   "source": [
    "When you do not care about reproducibility, you do not have to track the `Manifest.toml`. In Julia packages, this file is not provided, to be flexible with each user specific environment. However, for research project, it is sensible to track it."
   ]
  },
  {
   "cell_type": "markdown",
   "metadata": {
    "slideshow": {
     "slide_type": "slide"
    }
   },
   "source": [
    "\n",
    "### Advanced package management\n",
    "You can add a package which is not registered by its remote repo address\n",
    "\n",
    "```julia\n",
    "julia>] add https://github.com/vboussange/ParametricModels.jl\n",
    "```\n"
   ]
  },
  {
   "cell_type": "markdown",
   "metadata": {
    "slideshow": {
     "slide_type": "subslide"
    }
   },
   "source": [
    "\n",
    "Or its path\n",
    "\n",
    "```julia\n",
    "julia>] add path/to/my/awesome/package\n",
    "```\n"
   ]
  },
  {
   "cell_type": "markdown",
   "metadata": {
    "slideshow": {
     "slide_type": "subslide"
    }
   },
   "source": [
    "\n",
    "You can also ask for a specific version of a package\n",
    "\n",
    "```julia\n",
    "julia>] add MyPackage@0.12.0\n",
    "```\n"
   ]
  },
  {
   "cell_type": "markdown",
   "metadata": {
    "slideshow": {
     "slide_type": "subslide"
    }
   },
   "source": [
    "#### Developing a package: `dev`\n",
    "\n",
    "The `dev` function in Julia's `Pkg` module is used to develop a package locally, by specifying a local path to the package's source code. This can be useful during development and testing of a package, as it allows you to make changes to the package's source code and immediately see the effects without having to reinstall the package every time.\n",
    "\n",
    "```julia\n",
    "julia> ] dev /path/to/package\n",
    "```"
   ]
  },
  {
   "cell_type": "markdown",
   "metadata": {
    "slideshow": {
     "slide_type": "slide"
    }
   },
   "source": [
    "\n",
    "#### Stacked environment\n",
    "\n",
    "The default environment (located somewhere at `~/.julia/environments/v1.8`) is stacked onto the project environment. This can be convenient, if you do not want to include certain dependencies in your project yet use it for some particular purposes.\n",
    "\n",
    "A good example for that is `BenchmarkTools` package, that you may use everywhere but do not necessarily want to include in project environments.\n",
    "\n",
    "```julia\n",
    "using BenchmarkTools\n",
    "@btime randn(100,100)\n",
    "```\n"
   ]
  },
  {
   "cell_type": "markdown",
   "metadata": {
    "slideshow": {
     "slide_type": "slide"
    }
   },
   "source": [
    "\n",
    "### Adding external registries\n",
    "\n",
    "[Here](https://github.com/JuliaRegistries/General) is what the official registry of general Julia packages.\n",
    "\n",
    "But you can add non-official registries as well!\n",
    "\n",
    "```julia\n",
    "using Pkg\n",
    "pkg\"registry add https://github.com/vboussange/VBoussangeRegistry.git\"\n",
    "```\n"
   ]
  },
  {
   "attachments": {},
   "cell_type": "markdown",
   "metadata": {
    "slideshow": {
     "slide_type": "slide"
    }
   },
   "source": [
    "### Your turn!\n",
    "\n",
    "Let's try to put this into practice. \n",
    "\n",
    "- 💻[Exercise 1: activate an environment and run the associated script](exercise1.md)\n",
    "- 💻[Exercise 2: Part 1](exercise2.md): Set-up the environment of your project"
   ]
  },
  {
   "attachments": {},
   "cell_type": "markdown",
   "metadata": {},
   "source": [
    "## Resources and acknowledgements\n",
    "This tutorial has been heavily inspired from the [Pkg.jl](https://pkgdocs.julialang.org/v1/) documentation. Check it out!"
   ]
  }
 ],
 "metadata": {
  "celltoolbar": "Slideshow",
  "kernelspec": {
   "display_name": "Python 3",
   "language": "python",
   "name": "python3"
  },
  "language_info": {
   "codemirror_mode": {
    "name": "ipython",
    "version": 3
   },
   "file_extension": ".py",
   "mimetype": "text/x-python",
   "name": "python",
   "nbconvert_exporter": "python",
   "pygments_lexer": "ipython3",
   "version": "3.7.10"
  }
 },
 "nbformat": 4,
 "nbformat_minor": 2
}
