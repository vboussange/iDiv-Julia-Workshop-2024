{
 "cells": [
  {
   "cell_type": "markdown",
   "metadata": {
    "slideshow": {
     "slide_type": "slide"
    }
   },
   "source": [
    "# A practical guideline on how to work with Julia \n",
    "by Victor Boussange"
   ]
  },
  {
   "cell_type": "markdown",
   "metadata": {
    "slideshow": {
     "slide_type": "subslide"
    }
   },
   "source": [
    "This session is about providing you with a nice workflow to get started with a Julia project.\n"
   ]
  },
  {
   "cell_type": "markdown",
   "metadata": {
    "slideshow": {
     "slide_type": "slide"
    }
   },
   "source": [
    "## Folder structure\n",
    "\n",
    "My typical research project in julia looks like that\n",
    "- `src/`: directory contains **source code** that you may reuse in different scripts.\n",
    "- `test/`: directory that contains **unit tests** for the source code in `src`\n",
    "- `data/`: directory storing any **data files** that your project uses\n",
    "- `results/`: directory where **outputs** of your scripts are stored, such as plots, tables, or other artifacts that you've generated.\n",
    "- The dependencies files\n",
    "  - `Manifest.toml`\n",
    "  - `Project.toml`\n",
    "- `.gitignore`: specifies **which files and directories should be ignored by version control**.\n",
    "- `run_code.sh`: shell script that you can use to run your julia scripts.\n",
    "- `my-experiment_xxx.jl`: scripts for your experiemts\n"
   ]
  },
  {
   "cell_type": "markdown",
   "metadata": {
    "slideshow": {
     "slide_type": "slide"
    }
   },
   "source": [
    "\n",
    "### My way of launching a script\n",
    "I like using a shell script to run my Julia scripts. Here is what this script could look like\n",
    "\n",
    "```sh\n",
    "#!/bin/bash\n",
    "date\n",
    "echo \"lauching script\"\n",
    "julia --project=. --threads 1 my-analysis.jl &> \"stdout/my-analysis.out\"\n",
    "wait\n",
    "echo \"computation over\"\n",
    "date\n",
    "```\n"
   ]
  },
  {
   "cell_type": "markdown",
   "metadata": {
    "slideshow": {
     "slide_type": "subslide"
    }
   },
   "source": [
    "\n",
    "If this script is in a file called `run_my_analysis.sh`, you first need to make the file executable\n",
    "\n",
    "```\n",
    "chmod u+x run_my_analysis.sh\n",
    "```\n"
   ]
  },
  {
   "cell_type": "markdown",
   "metadata": {
    "slideshow": {
     "slide_type": "subslide"
    }
   },
   "source": [
    "\n",
    "Once this is done, just run\n",
    "```\n",
    "./run_my_analysis.sh\n",
    "```\n",
    "\n",
    "And you'll get as output\n",
    "```\n",
    "Thu Mar 23 22:45:18 CET 2023\n",
    "lauching script\n",
    "computation over\n",
    "Thu Mar 23 22:45:30 CET 2023\n",
    "```"
   ]
  },
  {
   "cell_type": "markdown",
   "metadata": {},
   "source": [
    "## Your turn!\n",
    "\n",
    "- 💻[Exercise 2: Part 2.](exercise2.md) Develop your first Julia project"
   ]
  }
 ],
 "metadata": {
  "celltoolbar": "Slideshow",
  "kernelspec": {
   "display_name": "Python 3",
   "language": "python",
   "name": "python3"
  },
  "language_info": {
   "codemirror_mode": {
    "name": "ipython",
    "version": 3
   },
   "file_extension": ".py",
   "mimetype": "text/x-python",
   "name": "python",
   "nbconvert_exporter": "python",
   "pygments_lexer": "ipython3",
   "version": "3.7.10"
  }
 },
 "nbformat": 4,
 "nbformat_minor": 2
}
