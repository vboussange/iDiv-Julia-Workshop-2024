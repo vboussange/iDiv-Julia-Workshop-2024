{
 "cells": [
  {
   "cell_type": "markdown",
   "metadata": {
    "slideshow": {
     "slide_type": "slide"
    }
   },
   "source": [
    "## Packages Management\n",
    "\n",
    "<div align=\"center\"><img src=\"https://pkgdocs.julialang.org/v1/assets/logo.png\" width=\"400\"></img> </div>\n"
   ]
  },
  {
   "cell_type": "markdown",
   "metadata": {
    "slideshow": {
     "slide_type": "slide"
    }
   },
   "source": [
    "\n",
    "`Pkg` allows to install, update, and manage Julia packages in a given environment. \n"
   ]
  },
  {
   "cell_type": "markdown",
   "metadata": {
    "slideshow": {
     "slide_type": "subslide"
    }
   },
   "source": [
    "\n",
    "\n",
    "You can use the `Pkg` in three different ways"
   ]
  },
  {
   "cell_type": "markdown",
   "metadata": {
    "slideshow": {
     "slide_type": "subslide"
    }
   },
   "source": [
    "\n",
    "### REPL prompt\n"
   ]
  },
  {
   "cell_type": "markdown",
   "metadata": {
    "slideshow": {
     "slide_type": "subslide"
    }
   },
   "source": [
    "\n",
    "type `]` in the Julia REPL (read-eval-print loop). This will take you to the package manager prompt. \n",
    "\n",
    "From the package manager prompt, you can execute a variety of commands. Some of the most commonly used ones include: \n",
    "- `activate`: switches to a different project environment \n"
   ]
  },
  {
   "cell_type": "markdown",
   "metadata": {
    "slideshow": {
     "slide_type": "subslide"
    }
   },
   "source": [
    "- `add`: adds a package to the current project \n",
    "\n",
    "\n",
    "When you run `add` to install a package, `Pkg` will download and install the package, along with any dependencies it requires.\n"
   ]
  },
  {
   "cell_type": "markdown",
   "metadata": {
    "slideshow": {
     "slide_type": "subslide"
    }
   },
   "source": [
    "- `rm`: removes a package to the current project\n"
   ]
  },
  {
   "cell_type": "markdown",
   "metadata": {
    "slideshow": {
     "slide_type": "subslide"
    }
   },
   "source": [
    "- `update`: updates all packages in the current project to their latest versions \n"
   ]
  },
  {
   "cell_type": "markdown",
   "metadata": {
    "slideshow": {
     "slide_type": "subslide"
    }
   },
   "source": [
    "- `instantiate`: installs all packages specified in a project's `Project.toml` file \n"
   ]
  },
  {
   "cell_type": "markdown",
   "metadata": {
    "slideshow": {
     "slide_type": "subslide"
    }
   },
   "source": [
    "\n",
    "Once the package is installed, you can import it in scope together with its public functions and types with the `using` keyword. \n"
   ]
  },
  {
   "cell_type": "code",
   "execution_count": 5,
   "metadata": {
    "slideshow": {
     "slide_type": "fragment"
    }
   },
   "outputs": [
    {
     "data": {
      "text/html": [
       "<div><div style = \"float: left;\"><span>10×1 DataFrame</span></div><div style = \"clear: both;\"></div></div><div class = \"data-frame\" style = \"overflow-x: scroll;\"><table class = \"data-frame\" style = \"margin-bottom: 6px;\"><thead><tr class = \"header\"><th class = \"rowNumber\" style = \"font-weight: bold; text-align: right;\">Row</th><th style = \"text-align: left;\">a</th></tr><tr class = \"subheader headerLastRow\"><th class = \"rowNumber\" style = \"font-weight: bold; text-align: right;\"></th><th title = \"Float64\" style = \"text-align: left;\">Float64</th></tr></thead><tbody><tr><td class = \"rowNumber\" style = \"font-weight: bold; text-align: right;\">1</td><td style = \"text-align: right;\">-1.07697</td></tr><tr><td class = \"rowNumber\" style = \"font-weight: bold; text-align: right;\">2</td><td style = \"text-align: right;\">-0.404603</td></tr><tr><td class = \"rowNumber\" style = \"font-weight: bold; text-align: right;\">3</td><td style = \"text-align: right;\">0.598</td></tr><tr><td class = \"rowNumber\" style = \"font-weight: bold; text-align: right;\">4</td><td style = \"text-align: right;\">-0.158431</td></tr><tr><td class = \"rowNumber\" style = \"font-weight: bold; text-align: right;\">5</td><td style = \"text-align: right;\">1.76985</td></tr><tr><td class = \"rowNumber\" style = \"font-weight: bold; text-align: right;\">6</td><td style = \"text-align: right;\">-2.66878</td></tr><tr><td class = \"rowNumber\" style = \"font-weight: bold; text-align: right;\">7</td><td style = \"text-align: right;\">1.0431</td></tr><tr><td class = \"rowNumber\" style = \"font-weight: bold; text-align: right;\">8</td><td style = \"text-align: right;\">-1.05139</td></tr><tr><td class = \"rowNumber\" style = \"font-weight: bold; text-align: right;\">9</td><td style = \"text-align: right;\">-1.2831</td></tr><tr><td class = \"rowNumber\" style = \"font-weight: bold; text-align: right;\">10</td><td style = \"text-align: right;\">-0.123284</td></tr></tbody></table></div>"
      ],
      "text/latex": [
       "\\begin{tabular}{r|c}\n",
       "\t& a\\\\\n",
       "\t\\hline\n",
       "\t& Float64\\\\\n",
       "\t\\hline\n",
       "\t1 & -1.07697 \\\\\n",
       "\t2 & -0.404603 \\\\\n",
       "\t3 & 0.598 \\\\\n",
       "\t4 & -0.158431 \\\\\n",
       "\t5 & 1.76985 \\\\\n",
       "\t6 & -2.66878 \\\\\n",
       "\t7 & 1.0431 \\\\\n",
       "\t8 & -1.05139 \\\\\n",
       "\t9 & -1.2831 \\\\\n",
       "\t10 & -0.123284 \\\\\n",
       "\\end{tabular}\n"
      ],
      "text/plain": [
       "\u001b[1m10×1 DataFrame\u001b[0m\n",
       "\u001b[1m Row \u001b[0m│\u001b[1m a         \u001b[0m\n",
       "     │\u001b[90m Float64   \u001b[0m\n",
       "─────┼───────────\n",
       "   1 │ -1.07697\n",
       "   2 │ -0.404603\n",
       "   3 │  0.598\n",
       "   4 │ -0.158431\n",
       "   5 │  1.76985\n",
       "   6 │ -2.66878\n",
       "   7 │  1.0431\n",
       "   8 │ -1.05139\n",
       "   9 │ -1.2831\n",
       "  10 │ -0.123284"
      ]
     },
     "metadata": {},
     "output_type": "display_data"
    }
   ],
   "source": [
    "using DataFrames\n",
    "df = DataFrame(\"a\" => randn(10))\n"
   ]
  },
  {
   "cell_type": "markdown",
   "metadata": {
    "slideshow": {
     "slide_type": "subslide"
    }
   },
   "source": [
    "the `import` keyword can be used instead of `using`. In such case, the package functions will not be brought in scope"
   ]
  },
  {
   "cell_type": "code",
   "execution_count": 2,
   "metadata": {
    "slideshow": {
     "slide_type": "subslide"
    }
   },
   "outputs": [
    {
     "ename": "UndefVarError",
     "evalue": "UndefVarError: `DataFrame` not defined",
     "output_type": "error",
     "traceback": [
      "UndefVarError: `DataFrame` not defined\n",
      "\n",
      "Stacktrace:\n",
      " [1] top-level scope\n",
      "   @ ~/Academia/Postdoc_S2z/teaching/iDiv_Julia_workshop/materials/Day1/22_pkg/jl_notebook_cell_df34fa98e69747e1a8f8a730347b8e2f_X36sZmlsZQ==.jl:2"
     ]
    }
   ],
   "source": [
    "import DataFrames\n",
    "df = DataFrame(\"a\" => randn(10))"
   ]
  },
  {
   "cell_type": "code",
   "execution_count": 3,
   "metadata": {
    "slideshow": {
     "slide_type": "subslide"
    }
   },
   "outputs": [
    {
     "data": {
      "text/html": [
       "<div><div style = \"float: left;\"><span>10×1 DataFrame</span></div><div style = \"clear: both;\"></div></div><div class = \"data-frame\" style = \"overflow-x: scroll;\"><table class = \"data-frame\" style = \"margin-bottom: 6px;\"><thead><tr class = \"header\"><th class = \"rowNumber\" style = \"font-weight: bold; text-align: right;\">Row</th><th style = \"text-align: left;\">a</th></tr><tr class = \"subheader headerLastRow\"><th class = \"rowNumber\" style = \"font-weight: bold; text-align: right;\"></th><th title = \"Float64\" style = \"text-align: left;\">Float64</th></tr></thead><tbody><tr><td class = \"rowNumber\" style = \"font-weight: bold; text-align: right;\">1</td><td style = \"text-align: right;\">0.277268</td></tr><tr><td class = \"rowNumber\" style = \"font-weight: bold; text-align: right;\">2</td><td style = \"text-align: right;\">-0.624493</td></tr><tr><td class = \"rowNumber\" style = \"font-weight: bold; text-align: right;\">3</td><td style = \"text-align: right;\">-0.945379</td></tr><tr><td class = \"rowNumber\" style = \"font-weight: bold; text-align: right;\">4</td><td style = \"text-align: right;\">1.60207</td></tr><tr><td class = \"rowNumber\" style = \"font-weight: bold; text-align: right;\">5</td><td style = \"text-align: right;\">-1.94958</td></tr><tr><td class = \"rowNumber\" style = \"font-weight: bold; text-align: right;\">6</td><td style = \"text-align: right;\">0.34683</td></tr><tr><td class = \"rowNumber\" style = \"font-weight: bold; text-align: right;\">7</td><td style = \"text-align: right;\">1.48711</td></tr><tr><td class = \"rowNumber\" style = \"font-weight: bold; text-align: right;\">8</td><td style = \"text-align: right;\">2.00342</td></tr><tr><td class = \"rowNumber\" style = \"font-weight: bold; text-align: right;\">9</td><td style = \"text-align: right;\">-0.331971</td></tr><tr><td class = \"rowNumber\" style = \"font-weight: bold; text-align: right;\">10</td><td style = \"text-align: right;\">0.723308</td></tr></tbody></table></div>"
      ],
      "text/latex": [
       "\\begin{tabular}{r|c}\n",
       "\t& a\\\\\n",
       "\t\\hline\n",
       "\t& Float64\\\\\n",
       "\t\\hline\n",
       "\t1 & 0.277268 \\\\\n",
       "\t2 & -0.624493 \\\\\n",
       "\t3 & -0.945379 \\\\\n",
       "\t4 & 1.60207 \\\\\n",
       "\t5 & -1.94958 \\\\\n",
       "\t6 & 0.34683 \\\\\n",
       "\t7 & 1.48711 \\\\\n",
       "\t8 & 2.00342 \\\\\n",
       "\t9 & -0.331971 \\\\\n",
       "\t10 & 0.723308 \\\\\n",
       "\\end{tabular}\n"
      ],
      "text/plain": [
       "\u001b[1m10×1 DataFrame\u001b[0m\n",
       "\u001b[1m Row \u001b[0m│\u001b[1m a         \u001b[0m\n",
       "     │\u001b[90m Float64   \u001b[0m\n",
       "─────┼───────────\n",
       "   1 │  0.277268\n",
       "   2 │ -0.624493\n",
       "   3 │ -0.945379\n",
       "   4 │  1.60207\n",
       "   5 │ -1.94958\n",
       "   6 │  0.34683\n",
       "   7 │  1.48711\n",
       "   8 │  2.00342\n",
       "   9 │ -0.331971\n",
       "  10 │  0.723308"
      ]
     },
     "metadata": {},
     "output_type": "display_data"
    }
   ],
   "source": [
    "df = DataFrames.DataFrame(\"a\" => randn(10))"
   ]
  },
  {
   "attachments": {},
   "cell_type": "markdown",
   "metadata": {
    "slideshow": {
     "slide_type": "slide"
    }
   },
   "source": [
    "### Scripting\n",
    "\n",
    "You may need to manage packages outside of the REPL loop. \n",
    "\n",
    "This is how you would do so\n",
    "```julia\n",
    "using Pkg\n",
    "Pkg.add(\"PackageName\")\n",
    "Pkg.update()\n",
    "Pkg.rm(\"PackageName\")\n",
    "Pkg.activate(\"path/to/environment\")\n",
    "Pkg.instantiate()\n",
    "Pkg.status()\n",
    "```"
   ]
  },
  {
   "attachments": {},
   "cell_type": "markdown",
   "metadata": {
    "slideshow": {
     "slide_type": "slide"
    }
   },
   "source": [
    "### `pkg\"\"` macro\n",
    "\n",
    "`pkg\"\"` may be handy, instead of the above\n",
    "\n",
    "```julia\n",
    "pkg\"add CSV\"\n",
    "```"
   ]
  },
  {
   "cell_type": "markdown",
   "metadata": {
    "slideshow": {
     "slide_type": "slide"
    }
   },
   "source": [
    "### `Project.toml` and `Manifest.toml`\n",
    "\n",
    "- `Project.toml` and `Manifest.toml` are created when installing the first dependency within your environment. \n",
    "- they include information about dependencies, versions, package names, UUIDs etc."
   ]
  },
  {
   "cell_type": "markdown",
   "metadata": {
    "slideshow": {
     "slide_type": "subslide"
    }
   },
   "source": [
    "\n",
    "#### `Project.toml`\n",
    "Looks like that\n",
    "\n",
    "```text\n",
    "[deps]\n",
    "DataFrames = \"a93c6f00-e57d-5684-b7b6-d8193f3e46c0\"\n",
    "Flux = \"587475ba-b771-5e3f-ad9e-33799f191a9c\"\n",
    "MLDatasets = \"eb30cadb-4394-5ae3-aed4-317e484a6458\"\n",
    "Statistics = \"10745b16-79ce-11e8-11f9-7d13ad32a3b2\"\n",
    "```\n",
    "All dependencies of the package/project are listed in the `[deps]` section. Each dependency is listed as a name-uuid pair.\n",
    "\n",
    "UUID is a string with a universally unique identifier for the package/project.\n"
   ]
  },
  {
   "cell_type": "markdown",
   "metadata": {
    "slideshow": {
     "slide_type": "subslide"
    }
   },
   "source": [
    "\n",
    "##### Optional fields\n",
    "```\n",
    "[deps]\n",
    "Example = \"7876af07-990d-54b4-ab0e-23690620f79a\"\n",
    "\n",
    "[compat]\n",
    "Example = \"1.2\"\n",
    "```\n",
    "\n",
    "- This allows to specify requirement for specific package versions. \n",
    "- It is a more flexible approach to specify dependencies than `Manifest.toml`"
   ]
  },
  {
   "cell_type": "markdown",
   "metadata": {
    "slideshow": {
     "slide_type": "subslide"
    }
   },
   "source": [
    "\n",
    "##### Additional fields for a package\n",
    "```\n",
    "name = \"PackageName\"\n",
    "uuid = \"96372a6d-8f12-4b28-95ba-ac697ae6fb10\"\n",
    "authors = [\"John Snow\"]\n",
    "version = \"0.1.0\"\n",
    "```\n",
    "\n",
    "Those are generated when you do \n",
    "\n",
    "```\n",
    "julia >] generate PackageName\n",
    "```"
   ]
  },
  {
   "cell_type": "markdown",
   "metadata": {
    "slideshow": {
     "slide_type": "slide"
    }
   },
   "source": [
    "\n",
    "#### `Manifest.toml`\n",
    "\n",
    "- absolute record of the state of the packages in the environment. It\n",
    "- includes exact information about (direct and indirect) dependencies of the project. \n",
    "  \n"
   ]
  },
  {
   "cell_type": "markdown",
   "metadata": {
    "slideshow": {
     "slide_type": "subslide"
    }
   },
   "source": [
    "- Given a `Project.toml` + `Manifest.toml` pair, it is possible to instantiate **the exact same package environment**, which is very useful for reproducibility. For the details, see `Pkg.instantiate`.\n",
    "\n"
   ]
  },
  {
   "cell_type": "markdown",
   "metadata": {
    "slideshow": {
     "slide_type": "subslide"
    }
   },
   "source": [
    "When you do not care about reproducibility, you do not have to track the `Manifest.toml`. In Julia packages, this file is not provided, to be flexible with each user specific environment. However, for research project, it is sensible to track it."
   ]
  },
  {
   "cell_type": "markdown",
   "metadata": {
    "slideshow": {
     "slide_type": "slide"
    }
   },
   "source": [
    "### Advanced package management\n",
    "You can add a package which is not registered by its remote repo address\n",
    "\n",
    "```julia\n",
    "julia>] add https://github.com/vboussange/ParametricModels.jl\n",
    "```\n"
   ]
  },
  {
   "cell_type": "markdown",
   "metadata": {
    "slideshow": {
     "slide_type": "subslide"
    }
   },
   "source": [
    "\n",
    "Or its path\n",
    "\n",
    "```julia\n",
    "julia>] add path/to/my/awesome/package\n",
    "```\n"
   ]
  },
  {
   "cell_type": "markdown",
   "metadata": {
    "slideshow": {
     "slide_type": "subslide"
    }
   },
   "source": [
    "\n",
    "You can also ask for a specific version of a package\n",
    "\n",
    "```julia\n",
    "julia>] add MyPackage@0.12.0\n",
    "```\n"
   ]
  },
  {
   "cell_type": "markdown",
   "metadata": {
    "slideshow": {
     "slide_type": "subslide"
    }
   },
   "source": [
    "#### Developing a package: `dev`\n",
    "\n",
    "The `dev` function in Julia's `Pkg` module is used to develop a package locally, by specifying a local path to the package's source code. This can be useful during development and testing of a package, as it allows you to make changes to the package's source code and immediately see the effects without having to reinstall the package every time.\n",
    "\n",
    "```julia\n",
    "julia> ] dev /path/to/package\n",
    "```"
   ]
  },
  {
   "cell_type": "markdown",
   "metadata": {
    "slideshow": {
     "slide_type": "subslide"
    }
   },
   "source": [
    "#### Developing a package: Revise.jl\n",
    "- By default, when you modify a package, changes won't be imported in a running REPL\n",
    "- `Revise.jl` automatically imports any changes made to a package within the running REPL\n",
    "- By default installed with VSCode"
   ]
  },
  {
   "cell_type": "markdown",
   "metadata": {
    "slideshow": {
     "slide_type": "subslide"
    }
   },
   "source": [
    "#### Additional resources\n",
    "- [How to develop a Julia package](https://julialang.org/contribute/developing_package/)\n",
    "- [Setting up a Julia package](https://adrianhill.de/julia-ml-course/setup/)\n"
   ]
  },
  {
   "cell_type": "markdown",
   "metadata": {
    "slideshow": {
     "slide_type": "slide"
    }
   },
   "source": [
    "\n",
    "#### Stacked environment\n",
    "\n",
    "- The default environment (located somewhere at `~/.julia/environments/v1.8`) is stacked onto the project environment. \n",
    "\n",
    "- This can be convenient, if you do not want to include certain dependencies in your project yet use it for some particular purposes.\n"
   ]
  },
  {
   "cell_type": "markdown",
   "metadata": {
    "slideshow": {
     "slide_type": "subslide"
    }
   },
   "source": [
    "\n",
    "A good example for that is `BenchmarkTools` package, that you may use everywhere but do not necessarily want to include in project environments.\n"
   ]
  },
  {
   "cell_type": "code",
   "execution_count": 5,
   "metadata": {
    "slideshow": {
     "slide_type": "subslide"
    }
   },
   "outputs": [
    {
     "name": "stdout",
     "output_type": "stream",
     "text": [
      "  14.833 μs (2 allocations: 78.17 KiB)\n"
     ]
    }
   ],
   "source": [
    "using BenchmarkTools\n",
    "@btime randn(100,100);"
   ]
  },
  {
   "cell_type": "markdown",
   "metadata": {
    "slideshow": {
     "slide_type": "slide"
    }
   },
   "source": [
    "\n",
    "### Adding external registries\n",
    "\n",
    "Official Julia packages are registered on [the official registry of general Julia packages](https://github.com/JuliaRegistries/General).\n",
    "\n",
    "But you can add non-official registries as well!\n",
    "\n",
    "```julia\n",
    "using Pkg\n",
    "pkg\"registry add https://github.com/vboussange/VBoussangeRegistry.git\"\n",
    "```\n"
   ]
  },
  {
   "attachments": {},
   "cell_type": "markdown",
   "metadata": {
    "slideshow": {
     "slide_type": "slide"
    }
   },
   "source": [
    "### Your turn!\n",
    "\n",
    "Let's try to put this into practice. \n",
    "\n",
    "- 💻[Exercise 1: activate an environment and run the associated script](exercise.md)\n",
    "- 💻[Exercise 2: Part 1](exercise2.md): Set-up the environment of your project"
   ]
  },
  {
   "attachments": {},
   "cell_type": "markdown",
   "metadata": {},
   "source": [
    "## Resources and acknowledgements\n",
    "- [Pkg.jl](https://pkgdocs.julialang.org/v1/) documentation.\n",
    "- https://vboussange.github.io/post/research-project-dependencies/"
   ]
  }
 ],
 "metadata": {
  "celltoolbar": "Slideshow",
  "kernelspec": {
   "display_name": "Julia 1.10.2",
   "language": "julia",
   "name": "julia-1.10"
  },
  "language_info": {
   "file_extension": ".jl",
   "mimetype": "application/julia",
   "name": "julia",
   "version": "1.10.2"
  }
 },
 "nbformat": 4,
 "nbformat_minor": 2
}
