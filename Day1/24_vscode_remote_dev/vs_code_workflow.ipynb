{
 "cells": [
  {
   "attachments": {},
   "cell_type": "markdown",
   "metadata": {
    "slideshow": {
     "slide_type": "slide"
    }
   },
   "source": [
    "## VS Code workflow\n",
    "- `cmd + alt + p`: opens the command palette\n",
    "  - from there, you'll find a command \"Start Julia REPL\" \n",
    "  - as well as many other handy commands\n",
    "- select the julia environment (blue bottom left corner)\n",
    "\n",
    "![](https://www.julia-vscode.org/docs/dev/images/env-select.png)"
   ]
  },
  {
   "attachments": {},
   "cell_type": "markdown",
   "metadata": {
    "slideshow": {
     "slide_type": "subslide"
    }
   },
   "source": [
    "- `shift + enter`: execute the line where the cursor is placed\n",
    "- checkout the git panel\n",
    "- `ctrl + c`: interrupt execution\n",
    "- `ctrl + d`: quit Julia\n",
    "- `cmd + click on a function`: goes to the function definition\n",
    "- format the code\n",
    "In order to format your code press `shift + cmd`|`windows + p` to bring up the command palette and search for `Format Document`\n",
    "\n",
    "![](https://www.julia-vscode.org/docs/dev/images/format.png)"
   ]
  },
  {
   "cell_type": "markdown",
   "metadata": {
    "slideshow": {
     "slide_type": "subslide"
    }
   },
   "source": [
    "\n",
    "- There is a cool table viewer\n",
    "\n",
    "![](https://www.julia-vscode.org/docs/dev/images/table.png)"
   ]
  },
  {
   "attachments": {},
   "cell_type": "markdown",
   "metadata": {
    "slideshow": {
     "slide_type": "slide"
    }
   },
   "source": [
    "\n",
    "## How to run a julia file on a remote server\n",
    "\n",
    "Remote development allows developers to **directly use remote servers during the development process**, instead of first developing on their local machines with limited computing resources and then modify the script so that it can run on the remote server. "
   ]
  },
  {
   "attachments": {},
   "cell_type": "markdown",
   "metadata": {},
   "source": [
    "The Visual Studio Code **Remote - SSH** extension allows you to open a remote folder on any remote machine, virtual machine, or container with a running SSH server and take full advantage of VS Code's feature set. Once connected to a server, you can interact with files and folders anywhere on the remote filesystem.\n",
    "\n",
    "![](https://code.visualstudio.com/assets/docs/remote/ssh/architecture-ssh.png)"
   ]
  },
  {
   "attachments": {},
   "cell_type": "markdown",
   "metadata": {
    "slideshow": {
     "slide_type": "subslide"
    }
   },
   "source": [
    "![](https://www.julia-vscode.org/docs/dev/images/remote/remote_extensions.png)"
   ]
  },
  {
   "cell_type": "markdown",
   "metadata": {
    "slideshow": {
     "slide_type": "slide"
    }
   },
   "source": [
    "\n",
    "#### More detailed resources\n",
    "\n",
    "- [Here are guidelines to proceed](https://code.visualstudio.com/docs/remote/ssh)\n",
    "to nstall the Remote-SSH extension. If you plan to work with other remote extensions in VS Code, you may choose to install the Remote Development extension pack.\n",
    "\n",
    "- [Some other guidelines specific to Julia development](https://www.julia-vscode.org/docs/dev/userguide/remote/)"
   ]
  },
  {
   "attachments": {},
   "cell_type": "markdown",
   "metadata": {
    "slideshow": {
     "slide_type": "slide"
    }
   },
   "source": [
    "\n",
    "## Acknowledgement and resources\n",
    "- [How to set up a development environment, outside the global (default) environment, together with nice tricks for your `startup.jl`](https://davidamos.dev/five-minutes-to-julia/)\n",
    "- [Documentation of Julia in VS Code](https://www.julia-vscode.org/docs/dev/)"
   ]
  }
 ],
 "metadata": {
  "celltoolbar": "Slideshow",
  "kernelspec": {
   "display_name": "Python 3",
   "language": "python",
   "name": "python3"
  },
  "language_info": {
   "codemirror_mode": {
    "name": "ipython",
    "version": 3
   },
   "file_extension": ".py",
   "mimetype": "text/x-python",
   "name": "python",
   "nbconvert_exporter": "python",
   "pygments_lexer": "ipython3",
   "version": "3.7.10"
  }
 },
 "nbformat": 4,
 "nbformat_minor": 2
}
