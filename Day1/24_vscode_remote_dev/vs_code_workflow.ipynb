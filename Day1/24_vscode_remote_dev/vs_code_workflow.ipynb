{
 "cells": [
  {
   "attachments": {},
   "cell_type": "markdown",
   "metadata": {
    "slideshow": {
     "slide_type": "slide"
    }
   },
   "source": [
    "## VS Code workflow\n",
    "\n"
   ]
  },
  {
   "cell_type": "markdown",
   "metadata": {
    "slideshow": {
     "slide_type": "slide"
    }
   },
   "source": [
    "- select the julia environment (blue bottom left corner)\n",
    "\n",
    "![](https://www.julia-vscode.org/docs/dev/images/env-select.png)"
   ]
  },
  {
   "cell_type": "markdown",
   "metadata": {
    "slideshow": {
     "slide_type": "subslide"
    }
   },
   "source": [
    "- `cmd + alt + p`: opens the command palette\n",
    "  - from there, you'll find a command \"Start Julia REPL\" \n",
    "  - as well as many other handy commands"
   ]
  },
  {
   "attachments": {},
   "cell_type": "markdown",
   "metadata": {
    "slideshow": {
     "slide_type": "subslide"
    }
   },
   "source": [
    "- `shift + enter`: execute the line where the cursor is placed\n"
   ]
  },
  {
   "cell_type": "markdown",
   "metadata": {
    "slideshow": {
     "slide_type": "subslide"
    }
   },
   "source": [
    "- `ctrl + c`: interrupt execution\n",
    "- `ctrl + d`: quit Julia\n"
   ]
  },
  {
   "cell_type": "markdown",
   "metadata": {
    "slideshow": {
     "slide_type": "subslide"
    }
   },
   "source": [
    "\n",
    "- `cmd + click on a function`: goes to the function definition\n",
    "\n"
   ]
  },
  {
   "cell_type": "markdown",
   "metadata": {
    "slideshow": {
     "slide_type": "subslide"
    }
   },
   "source": [
    "\n",
    "- format the code\n",
    "\n",
    "Search for `Format Document` in command palette.\n",
    "\n",
    "![](https://www.julia-vscode.org/docs/dev/images/format.png)"
   ]
  },
  {
   "cell_type": "markdown",
   "metadata": {
    "slideshow": {
     "slide_type": "subslide"
    }
   },
   "source": [
    "\n",
    "- There is a cool table viewer\n",
    "\n",
    "![](https://www.julia-vscode.org/docs/dev/images/table.png)"
   ]
  },
  {
   "cell_type": "markdown",
   "metadata": {},
   "source": [
    "Format your long comments with command `rewrap comment/text`"
   ]
  },
  {
   "attachments": {},
   "cell_type": "markdown",
   "metadata": {
    "slideshow": {
     "slide_type": "slide"
    }
   },
   "source": [
    "\n",
    "## How to run a julia file on a remote server\n"
   ]
  },
  {
   "cell_type": "markdown",
   "metadata": {
    "slideshow": {
     "slide_type": "subslide"
    }
   },
   "source": [
    "\n",
    "- Remote development: **directly use remote servers during the development process**"
   ]
  },
  {
   "attachments": {},
   "cell_type": "markdown",
   "metadata": {
    "slideshow": {
     "slide_type": "subslide"
    }
   },
   "source": [
    "- **Remote - SSH** extension allows you to open a remote folder on any remote machine, virtual machine, or container with a running SSH server. \n",
    "\n",
    "- Once connected to a server, you can interact with files and folders anywhere on the remote filesystem.\n",
    "\n",
    "![](https://code.visualstudio.com/assets/docs/remote/ssh/architecture-ssh.png)"
   ]
  },
  {
   "attachments": {},
   "cell_type": "markdown",
   "metadata": {
    "slideshow": {
     "slide_type": "subslide"
    }
   },
   "source": [
    "![](https://www.julia-vscode.org/docs/dev/images/remote/remote_extensions.png)"
   ]
  },
  {
   "cell_type": "markdown",
   "metadata": {
    "slideshow": {
     "slide_type": "slide"
    }
   },
   "source": [
    "\n",
    "#### More detailed resources\n",
    "\n",
    "- [Here are guidelines to proceed](https://code.visualstudio.com/docs/remote/ssh)\n",
    "to install the Remote-SSH extension. If you plan to work with other remote extensions in VS Code, you may choose to install the Remote Development extension pack.\n",
    "\n",
    "- [Some other guidelines specific to Julia development](https://www.julia-vscode.org/docs/dev/userguide/remote/)"
   ]
  },
  {
   "attachments": {},
   "cell_type": "markdown",
   "metadata": {
    "slideshow": {
     "slide_type": "slide"
    }
   },
   "source": [
    "\n",
    "## Acknowledgement and resources\n",
    "- [How to set up a development environment, outside the global (default) environment, together with nice tricks for your `startup.jl`](https://davidamos.dev/five-minutes-to-julia/)\n",
    "- [Documentation of Julia in VS Code](https://www.julia-vscode.org/docs/dev/)"
   ]
  }
 ],
 "metadata": {
  "celltoolbar": "Slideshow",
  "kernelspec": {
   "display_name": "Python 3",
   "language": "python",
   "name": "python3"
  },
  "language_info": {
   "codemirror_mode": {
    "name": "ipython",
    "version": 3
   },
   "file_extension": ".py",
   "mimetype": "text/x-python",
   "name": "python",
   "nbconvert_exporter": "python",
   "pygments_lexer": "ipython3",
   "version": "3.7.10"
  }
 },
 "nbformat": 4,
 "nbformat_minor": 2
}
