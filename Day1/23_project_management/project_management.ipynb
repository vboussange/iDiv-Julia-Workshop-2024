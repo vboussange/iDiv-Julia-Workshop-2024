{
 "cells": [
  {
   "cell_type": "markdown",
   "metadata": {
    "slideshow": {
     "slide_type": "slide"
    }
   },
   "source": [
    "# Julia project management\n",
    "by Victor Boussange"
   ]
  },
  {
   "cell_type": "markdown",
   "metadata": {
    "slideshow": {
     "slide_type": "subslide"
    }
   },
   "source": [
    "This session is about providing you with a nice workflow to get started with a Julia project.\n"
   ]
  },
  {
   "cell_type": "markdown",
   "metadata": {
    "slideshow": {
     "slide_type": "slide"
    }
   },
   "source": [
    "## Folder structure\n",
    "\n",
    "My typical research project in julia looks like that\n",
    "- `src/`: directory contains **source code** that you may reuse in different scripts.\n",
    "- `test/`: directory that contains **unit tests** for the source code in `src`\n",
    "- `data/`: directory storing any **data files** that your project uses\n",
    "- `results/`: directory where **outputs** of your scripts are stored, such as plots, tables, or other artifacts that you've generated.\n",
    "- The dependencies files\n",
    "  - `Manifest.toml`\n",
    "  - `Project.toml`\n",
    "- `.gitignore`: specifies **which files and directories should be ignored by version control**.\n",
    "- `run_code.sh`: shell script that you can use to run your julia scripts.\n",
    "- `my-experiment_xxx.jl`: scripts for your experiemts\n"
   ]
  },
  {
   "cell_type": "markdown",
   "metadata": {
    "slideshow": {
     "slide_type": "slide"
    }
   },
   "source": [
    "\n",
    "### My way of launching a script\n",
    "I like using a shell script to run my Julia scripts. Here is what this script could look like\n",
    "\n",
    "```sh\n",
    "#!/bin/bash\n",
    "date\n",
    "echo \"lauching script\"\n",
    "julia --project=. --threads 1 my-analysis.jl &> \"stdout/my-analysis.out\"\n",
    "wait\n",
    "echo \"computation over\"\n",
    "date\n",
    "```\n"
   ]
  },
  {
   "cell_type": "markdown",
   "metadata": {
    "slideshow": {
     "slide_type": "subslide"
    }
   },
   "source": [
    "\n",
    "If this script is in a file called `run_my_analysis.sh`, you first need to make the file executable\n",
    "\n",
    "```\n",
    "chmod u+x run_my_analysis.sh\n",
    "```\n"
   ]
  },
  {
   "cell_type": "markdown",
   "metadata": {
    "slideshow": {
     "slide_type": "subslide"
    }
   },
   "source": [
    "\n",
    "Once this is done, just run\n",
    "```\n",
    "./run_my_analysis.sh\n",
    "```\n",
    "\n",
    "And you'll get as output\n",
    "```\n",
    "Thu Mar 23 22:45:18 CET 2023\n",
    "lauching script\n",
    "computation over\n",
    "Thu Mar 23 22:45:30 CET 2023\n",
    "```"
   ]
  },
  {
   "cell_type": "markdown",
   "metadata": {
    "slideshow": {
     "slide_type": "slide"
    }
   },
   "source": [
    "## Testing your code\n"
   ]
  },
  {
   "cell_type": "markdown",
   "metadata": {
    "slideshow": {
     "slide_type": "fragment"
    }
   },
   "source": [
    "\n",
    "[Test-Driven Development (TDD)](https://en.wikipedia.org/wiki/Test-driven_development): \n"
   ]
  },
  {
   "cell_type": "markdown",
   "metadata": {
    "slideshow": {
     "slide_type": "fragment"
    }
   },
   "source": [
    "\n",
    "Define upstream on a piece of paper the behavior of the function, write corresponding tests, and when all tests pass, you are done. \n"
   ]
  },
  {
   "cell_type": "markdown",
   "metadata": {
    "slideshow": {
     "slide_type": "fragment"
    }
   },
   "source": [
    "\n",
    "This avoids unnecessary features and focusing only on what is needed. \n"
   ]
  },
  {
   "cell_type": "markdown",
   "metadata": {
    "slideshow": {
     "slide_type": "slide"
    }
   },
   "source": [
    "\n",
    "### Unit testing\n",
    "\n",
    "\n",
    "- Test for correctness with typical inputs.\n",
    "- Test edge cases.\n",
    "- Test for errors with bad inputs.\n",
    "\n",
    "A good idea is to write an additional test when you find a bug in your code\n"
   ]
  },
  {
   "cell_type": "markdown",
   "metadata": {},
   "source": [
    "\n",
    "### Lightweight formal tests with `assert`\n",
    "\n",
    "The simplest form of unit testing involves some sort of `assert` statement.\n",
    "\n",
    "\n",
    "```julia\n",
    "@assert 1 == 0\n",
    "```\n"
   ]
  },
  {
   "cell_type": "markdown",
   "metadata": {
    "slideshow": {
     "slide_type": "subslide"
    }
   },
   "source": [
    "\n",
    "**Note**: you can directly place the `assert` statement after your functions. This way, tests are run each time you execute the script. \n"
   ]
  },
  {
   "cell_type": "markdown",
   "metadata": {
    "slideshow": {
     "slide_type": "subslide"
    }
   },
   "source": [
    "\n",
    "\n",
    "Consider using `approx` (Julia) for floating point comparisons.\n"
   ]
  },
  {
   "cell_type": "markdown",
   "metadata": {
    "slideshow": {
     "slide_type": "slide"
    }
   },
   "source": [
    "\n",
    "### Testing with Test.jl\n",
    "\n",
    " Built in module `Test`, relying on the macro `@test`. Consider grouping your tests with \n",
    " \n"
   ]
  },
  {
   "cell_type": "markdown",
   "metadata": {
    "slideshow": {
     "slide_type": "subslide"
    }
   },
   "source": [
    " ```julia\n",
    " julia> @testset \"trigonometric identities\" begin\n",
    "           θ = 2/3*π\n",
    "           @test sin(-θ) ≈ -sin(θ)\n",
    "           @test cos(-θ) ≈ cos(θ)\n",
    "           @test sin(2θ) ≈ 2*sin(θ)*cos(θ)\n",
    "           @test cos(2θ) ≈ cos(θ)^2 - sin(θ)^2\n",
    "       end;\n",
    "```\n"
   ]
  },
  {
   "cell_type": "markdown",
   "metadata": {
    "slideshow": {
     "slide_type": "subslide"
    }
   },
   "source": [
    "\n",
    "This will nicely output\n",
    "```\n",
    "Test Summary:            | Pass  Total  Time\n",
    "trigonometric identities |    4      4  0.2s\n",
    "```\n",
    "which comes handy for grouping tests applied to a single function or concept.\n"
   ]
  },
  {
   "cell_type": "markdown",
   "metadata": {
    "slideshow": {
     "slide_type": "subslide"
    }
   },
   "source": [
    "\n",
    "An additional virtual environment may be specified for tests!\n"
   ]
  },
  {
   "cell_type": "markdown",
   "metadata": {
    "slideshow": {
     "slide_type": "slide"
    }
   },
   "source": [
    "\n",
    "\n",
    "### Continuous integration\n",
    "\n",
    " \n",
    "- CI: automatically run tests on each proposed change. \n",
    "\n",
    "- GitHub Actions is a popular CI tool available within GitHub.\n",
    "\n",
    "- Actions can also build documentation, check for code coverage, and more."
   ]
  },
  {
   "cell_type": "markdown",
   "metadata": {
    "slideshow": {
     "slide_type": "subslide"
    }
   },
   "source": [
    "\n",
    "\n",
    "- CI is based on `.yaml` files, which specify the environment to run the script. \n",
    "\n",
    "#### `.yaml` for Julia:\n",
    "\n",
    "```yaml\n",
    "name: Run tests\n",
    "\n",
    "on:\n",
    "  push:\n",
    "    branches:\n",
    "      - master\n",
    "      - main\n",
    "  pull_request:\n",
    "\n",
    "permissions:\n",
    "  actions: write\n",
    "  contents: read\n",
    "\n",
    "jobs:\n",
    "  test:\n",
    "    runs-on: ${{ matrix.os }}\n",
    "    strategy:\n",
    "      matrix:\n",
    "        julia-version: ['1.6', '1', 'nightly']\n",
    "        julia-arch: [x64, x86]\n",
    "        os: [ubuntu-latest, windows-latest, macOS-latest]\n",
    "        exclude:\n",
    "          - os: macOS-latest\n",
    "            julia-arch: x86\n",
    "\n",
    "    steps:\n",
    "      - uses: actions/checkout@v4\n",
    "      - uses: julia-actions/setup-julia@v1\n",
    "        with:\n",
    "          version: ${{ matrix.julia-version }}\n",
    "          arch: ${{ matrix.julia-arch }}\n",
    "      - uses: julia-actions/cache@v1\n",
    "      - uses: julia-actions/julia-buildpkg@v1\n",
    "      - uses: julia-actions/julia-runtest@v1\n",
    "```\n"
   ]
  },
  {
   "cell_type": "markdown",
   "metadata": {
    "slideshow": {
     "slide_type": "subslide"
    }
   },
   "source": [
    "\n",
    "#### Cool tip\n",
    "You can include a cool badge to show visually whether your tests are passing or failing, like so\n",
    "\n",
    "[![Tests](https://github.com/vboussange/rere/actions/workflows/runtest.yml/badge.svg)](https://github.com/vboussange/rere/actions/workflows/runtest.yml)\n",
    "\n",
    "Cool right?\n"
   ]
  },
  {
   "cell_type": "markdown",
   "metadata": {
    "slideshow": {
     "slide_type": "slide"
    }
   },
   "source": [
    "\n",
    "\n",
    "### Other types of tests\n",
    "\n",
    "- **Docstring tests**: Unit tests embedded in docstrings.\n",
    "- **Integration tests**: Test whether multiple functions work correctly together. \n",
    "- **Regression tests**: Ensure your code produces the same outputs as previous versions.\n"
   ]
  },
  {
   "cell_type": "markdown",
   "metadata": {
    "slideshow": {
     "slide_type": "slide"
    }
   },
   "source": [
    "### Resources\n",
    "- [A multi-language overview on how to test your research project code](https://vboussange.github.io/post/testing-your-research-code/)\n",
    "- [Julia documentation on unit testing](https://docs.julialang.org/en/v1/stdlib/Test/)\n",
    "- [Modern Julia Workflows](https://modernjuliaworkflows.org)\n"
   ]
  },
  {
   "cell_type": "markdown",
   "metadata": {},
   "source": [
    "## Your turn!\n",
    "\n",
    "- 💻[Exercise: Develop your first Julia project!](exercise23.md) "
   ]
  }
 ],
 "metadata": {
  "celltoolbar": "Slideshow",
  "kernelspec": {
   "display_name": "Python 3",
   "language": "python",
   "name": "python3"
  },
  "language_info": {
   "codemirror_mode": {
    "name": "ipython",
    "version": 3
   },
   "file_extension": ".py",
   "mimetype": "text/x-python",
   "name": "python",
   "nbconvert_exporter": "python",
   "pygments_lexer": "ipython3",
   "version": "3.7.10"
  }
 },
 "nbformat": 4,
 "nbformat_minor": 2
}
