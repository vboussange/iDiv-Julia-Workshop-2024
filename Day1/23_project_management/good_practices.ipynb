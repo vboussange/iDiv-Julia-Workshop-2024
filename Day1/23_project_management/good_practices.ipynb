{
 "cells": [
  {
   "cell_type": "markdown",
   "metadata": {
    "slideshow": {
     "slide_type": "slide"
    }
   },
   "source": [
    "# Good practices in Julia\n",
    "by Ludmilla Figueiredo & Victor Boussange"
   ]
  },
  {
   "cell_type": "markdown",
   "metadata": {
    "slideshow": {
     "slide_type": "subslide"
    }
   },
   "source": [
    "Here, we present a couples of tools to implement good programming and research practices without increasing your workflow too much.\n"
   ]
  },
  {
   "cell_type": "markdown",
   "metadata": {
    "slideshow": {
     "slide_type": "slide"
    }
   },
   "source": [
    "## Setting up\n",
    "\n",
    "Having a basic, preferrably automated, set up from where to start your work can be very helpful saving time because:\n",
    "- you can start your project right away\n",
    "- you have a consistent (familiar) structure where you locate yourself faster, both mentally and \"programmatically\"\n",
    "\n",
    "With that in mind, I developed this [starter-kit to use so called \"computational notebooks\" to structure your work](https://github.com/FellowsFreiesWissen/computational_notebooks/tree/file_struct2)\n",
    "\n",
    "Here, we will work with the following file structure:\n",
    "\n",
    "<img src=\"file_structure_second_branch.png\" alt=\"File structure created by `set_kit.jl`\" width=\"400\" height=\"auto\">\n",
    "\n",
    "Extra files not shown above, but typical for Julia projects:\n",
    "- [`Project.toml`*](https://github.com/vboussange/iDiv-Julia-Workshop-2024/blob/main/Day1/22_pkg/Pkg.ipynb)\n",
    "- [`Manifest.toml`*](https://github.com/vboussange/iDiv-Julia-Workshop-2024/blob/main/Day1/22_pkg/Pkg.ipynb)\n",
    "- `run_code.sh`: shell script you can use to run your julia scripts (at the end of this page).\n",
    "- `.gitignore`: specifies which files and directories should be ignored by version control.\n",
    "\n",
    "`Project.toml` and `Manifest.toml` are created when you have dependencies in your project, i.e. when you use packages; you don't have to necessarily create them. It is, however, possible to start the same environment of another project from its `Project.toml` and `Manifest.toml` files, with `Pkg.instante`. Therefore, tracking your `Project.toml` and `Manifest.toml` is essential for the reproducibility of your work.\n"
   ]
  },
  {
   "cell_type": "markdown",
   "metadata": {},
   "source": [
    "To set this up, **run the following from the Julia REPL**:\n",
    "\n",
    "```julia\n",
    "include(\"your_path_to/set_kit.jl\")\n",
    "set_kit(\"where_your_project_should_be\", \"name_of_project\")\n",
    "```"
   ]
  },
  {
   "cell_type": "markdown",
   "metadata": {
    "slideshow": {
     "slide_type": "slide"
    }
   },
   "source": [
    "# Testing your code\n"
   ]
  },
  {
   "cell_type": "markdown",
   "metadata": {
    "slideshow": {
     "slide_type": "fragment"
    }
   },
   "source": [
    "Use the [Test-Driven Development (TDD) principles](https://en.wikipedia.org/wiki/Test-driven_development) to guide your development workflow and your life will be easier. Not only because your code will be more robust, but because adding tests after you have your finished product is not fun (Trust me, ~~I have had to add ad hoc tests and it was hell~~ I'm a scientist)."
   ]
  },
  {
   "cell_type": "markdown",
   "metadata": {
    "slideshow": {
     "slide_type": "slide"
    }
   },
   "source": [
    "\n",
    "## Unit testing\n",
    "\n",
    "\n",
    "- Test for correctness with typical inputs.\n",
    "- Test edge cases.\n",
    "- Test for errors with bad inputs.\n",
    "\n",
    "A good idea is to write an additional test **whenever you find a bug in your code**. You kill two birds with one stone: solve your bug and increase the code coverage of your tests (which is a valuable feature of your code)."
   ]
  },
  {
   "cell_type": "markdown",
   "metadata": {},
   "source": [
    "\n",
    "### Lightweight formal tests with `assert`\n",
    "\n",
    "The simplest form of unit testing involves some sort of `assert` statement.\n"
   ]
  },
  {
   "cell_type": "code",
   "execution_count": 1,
   "metadata": {},
   "outputs": [],
   "source": [
    "# import Pkg; Pkg.add(\"Test\"); Pkg.add(\"Distributions\")\n",
    "using Test\n",
    "using Random, Distributions"
   ]
  },
  {
   "cell_type": "code",
   "execution_count": 29,
   "metadata": {},
   "outputs": [
    {
     "ename": "AssertionError",
     "evalue": "AssertionError: The numbers are the same",
     "output_type": "error",
     "traceback": [
      "AssertionError: The numbers are the same\n",
      "\n",
      "Stacktrace:\n",
      " [1] top-level scope\n",
      "   @ c:\\Users\\fx97izoz\\Documents\\iDiv\\julia_course\\iDiv-Julia-Workshop-2024\\Day1\\23_project_management\\jl_notebook_cell_df34fa98e69747e1a8f8a730347b8e2f_X35sZmlsZQ==.jl:1"
     ]
    }
   ],
   "source": [
    "@assert 1 == 0 \"The numbers are not the same\""
   ]
  },
  {
   "cell_type": "code",
   "execution_count": 30,
   "metadata": {},
   "outputs": [],
   "source": [
    "@assert 1 == 1 \"The numbers are not the same\""
   ]
  },
  {
   "cell_type": "markdown",
   "metadata": {
    "slideshow": {
     "slide_type": "subslide"
    }
   },
   "source": [
    "\n",
    "In practice, you would directly place the `assert` statement after your functions (or any bit of critical computing). This way, basic tests are run each time you execute the script. \n"
   ]
  },
  {
   "cell_type": "code",
   "execution_count": 14,
   "metadata": {},
   "outputs": [],
   "source": [
    "function create_varname(str)\n",
    "    join(split(lowercase(str), \" \"), \"_\")\n",
    "end\n",
    "\n",
    "@assert create_varname(\"var Name\") == \"var_name\" \"Couldn't convert your variable's name\""
   ]
  },
  {
   "cell_type": "markdown",
   "metadata": {},
   "source": [
    "Beware that the assertion error message will be limited in its ability to inform of why the test failed (more about it in the next section). Below, two tests failed, but `@assert` would not be able to distinguish them."
   ]
  },
  {
   "cell_type": "code",
   "execution_count": 31,
   "metadata": {},
   "outputs": [
    {
     "ename": "AssertionError",
     "evalue": "AssertionError: Your variable is one-word",
     "output_type": "error",
     "traceback": [
      "AssertionError: Your variable is one-word\n",
      "\n",
      "Stacktrace:\n",
      " [1] top-level scope\n",
      "   @ c:\\Users\\fx97izoz\\Documents\\iDiv\\julia_course\\iDiv-Julia-Workshop-2024\\Day1\\23_project_management\\jl_notebook_cell_df34fa98e69747e1a8f8a730347b8e2f_X44sZmlsZQ==.jl:1"
     ]
    }
   ],
   "source": [
    "@assert create_varname(\"VarName\") == \"var_name\" \"Couldn't convert your variable's name\""
   ]
  },
  {
   "cell_type": "code",
   "execution_count": 34,
   "metadata": {},
   "outputs": [
    {
     "ename": "AssertionError",
     "evalue": "AssertionError: Couldn't convert your variable's name",
     "output_type": "error",
     "traceback": [
      "AssertionError: Couldn't convert your variable's name\n",
      "\n",
      "Stacktrace:\n",
      " [1] top-level scope\n",
      "   @ c:\\Users\\fx97izoz\\Documents\\iDiv\\julia_course\\iDiv-Julia-Workshop-2024\\Day1\\23_project_management\\jl_notebook_cell_df34fa98e69747e1a8f8a730347b8e2f_X53sZmlsZQ==.jl:1"
     ]
    }
   ],
   "source": [
    "@assert create_varname(\"Variable_2\") == \"var_name\" \"Couldn't convert your variable's name\""
   ]
  },
  {
   "cell_type": "markdown",
   "metadata": {
    "slideshow": {
     "slide_type": "subslide"
    }
   },
   "source": [
    "Use `isapprox` for floating point comparisons. (Beware that `rtol = (a-b)/max(abs(a), abs(b))`.)"
   ]
  },
  {
   "cell_type": "code",
   "execution_count": 2,
   "metadata": {},
   "outputs": [
    {
     "data": {
      "text/plain": [
       "calculate_pi (generic function with 1 method)"
      ]
     },
     "metadata": {},
     "output_type": "display_data"
    }
   ],
   "source": [
    "function calculate_pi(diam, radius)\n",
    "    @assert isapprox(2*3.14*radius, diam, rtol=0.2)  \"Diameter value is 20% too big or too small\" \n",
    "    pi = diam/(2*radius)\n",
    "    return pi\n",
    "end"
   ]
  },
  {
   "cell_type": "code",
   "execution_count": 3,
   "metadata": {},
   "outputs": [
    {
     "ename": "AssertionError",
     "evalue": "AssertionError: Diameter value is 20% too big or too small",
     "output_type": "error",
     "traceback": [
      "AssertionError: Diameter value is 20% too big or too small\n",
      "\n",
      "Stacktrace:\n",
      " [1] calculate_pi(diam::Int64, radius::Int64)\n",
      "   @ Main c:\\Users\\fx97izoz\\Documents\\iDiv\\julia_course\\iDiv-Julia-Workshop-2024\\Day1\\23_project_management\\jl_notebook_cell_df34fa98e69747e1a8f8a730347b8e2f_X23sZmlsZQ==.jl:2\n",
      " [2] top-level scope\n",
      "   @ c:\\Users\\fx97izoz\\Documents\\iDiv\\julia_course\\iDiv-Julia-Workshop-2024\\Day1\\23_project_management\\jl_notebook_cell_df34fa98e69747e1a8f8a730347b8e2f_X43sZmlsZQ==.jl:1"
     ]
    }
   ],
   "source": [
    "calculate_pi(10,5)"
   ]
  },
  {
   "cell_type": "code",
   "execution_count": 5,
   "metadata": {},
   "outputs": [
    {
     "data": {
      "text/plain": [
       "3.1399999999999997"
      ]
     },
     "metadata": {},
     "output_type": "display_data"
    }
   ],
   "source": [
    "calculate_pi(31.4, 5)"
   ]
  },
  {
   "cell_type": "code",
   "execution_count": 6,
   "metadata": {},
   "outputs": [
    {
     "data": {
      "text/plain": [
       "3.141592"
      ]
     },
     "metadata": {},
     "output_type": "display_data"
    }
   ],
   "source": [
    "calculate_pi(31.41592,5)"
   ]
  },
  {
   "cell_type": "code",
   "execution_count": 10,
   "metadata": {},
   "outputs": [
    {
     "ename": "AssertionError",
     "evalue": "AssertionError: pi value used is 0.01 smaller/bigger than π",
     "output_type": "error",
     "traceback": [
      "AssertionError: pi value used is 0.01 smaller/bigger than π\n",
      "\n",
      "Stacktrace:\n",
      " [1] top-level scope\n",
      "   @ c:\\Users\\fx97izoz\\Documents\\iDiv\\julia_course\\iDiv-Julia-Workshop-2024\\Day1\\23_project_management\\jl_notebook_cell_df34fa98e69747e1a8f8a730347b8e2f_X25sZmlsZQ==.jl:1"
     ]
    }
   ],
   "source": [
    "@assert isapprox(calculate_pi(2*3.1*5, 5), π, atol=0.01)  \"pi value used is 0.01 smaller/bigger than π\" "
   ]
  },
  {
   "cell_type": "markdown",
   "metadata": {
    "slideshow": {
     "slide_type": "slide"
    }
   },
   "source": [
    "\n",
    "### Testing with Test.jl\n",
    "\n",
    "For more complex functions and testing, you can use the `Test` module, relying on the `@test` macro. For cleaner code, it is recommended that you place your tests in `test/runtests.jl`.\n",
    "\n",
    "Use `@testset` to group related tests together and a informative output:"
   ]
  },
  {
   "cell_type": "code",
   "execution_count": 13,
   "metadata": {},
   "outputs": [
    {
     "name": "stdout",
     "output_type": "stream",
     "text": [
      "\u001b[0m\u001b[1mTest Summary: | \u001b[22m\u001b[32m\u001b[1mPass  \u001b[22m\u001b[39m\u001b[36m\u001b[1mTotal  \u001b[22m\u001b[39m\u001b[0m\u001b[1mTime\u001b[22m\n",
      "Valid input   | \u001b[32m   3  \u001b[39m\u001b[36m    3  \u001b[39m\u001b[0m0.0s\n"
     ]
    }
   ],
   "source": [
    "@testset \"Valid input\" begin\n",
    "    @test isapprox(calculate_pi(2*3.141*5, 5), π, atol=0.01)\n",
    "    @test isapprox(calculate_pi(2*3.1415*5, 5), π, atol=0.01)\n",
    "    @test isapprox(calculate_pi(2*3.14159*5, 5), π, atol=0.01)\n",
    "end;"
   ]
  },
  {
   "cell_type": "code",
   "execution_count": 15,
   "metadata": {},
   "outputs": [
    {
     "name": "stdout",
     "output_type": "stream",
     "text": [
      "Valid input: \u001b[91m\u001b[1mTest Failed\u001b[22m\u001b[39m at \u001b[39m\u001b[1mc:\\Users\\fx97izoz\\Documents\\iDiv\\julia_course\\iDiv-Julia-Workshop-2024\\Day1\\23_project_management\\jl_notebook_cell_df34fa98e69747e1a8f8a730347b8e2f_X52sZmlsZQ==.jl:5\u001b[22m\n",
      "  Expression: isapprox(calculate_pi(2 * 3.1 * 5, 5), π, atol = 0.01)\n",
      "   Evaluated: isapprox(3.1, π; atol = 0.01)\n",
      "\n",
      "Stacktrace:\n",
      " [1] \u001b[0m\u001b[1mmacro expansion\u001b[22m\n",
      "\u001b[90m   @\u001b[39m \u001b[90mC:\\Users\\fx97izoz\\AppData\\Local\\Programs\\Julia-1.9.0-rc2\\share\\julia\\stdlib\\v1.9\\Test\\src\\\u001b[39m\u001b[90m\u001b[4mTest.jl:478\u001b[24m\u001b[39m\u001b[90m [inlined]\u001b[39m\n",
      " [2] \u001b[0m\u001b[1mmacro expansion\u001b[22m\n",
      "\u001b[90m   @\u001b[39m \u001b[90mc:\\Users\\fx97izoz\\Documents\\iDiv\\julia_course\\iDiv-Julia-Workshop-2024\\Day1\\23_project_management\\\u001b[39m\u001b[90m\u001b[4mjl_notebook_cell_df34fa98e69747e1a8f8a730347b8e2f_X52sZmlsZQ==.jl:5\u001b[24m\u001b[39m\u001b[90m [inlined]\u001b[39m\n",
      " [3] \u001b[0m\u001b[1mmacro expansion\u001b[22m\n",
      "\u001b[90m   @\u001b[39m \u001b[90mC:\\Users\\fx97izoz\\AppData\\Local\\Programs\\Julia-1.9.0-rc2\\share\\julia\\stdlib\\v1.9\\Test\\src\\\u001b[39m\u001b[90m\u001b[4mTest.jl:1498\u001b[24m\u001b[39m\u001b[90m [inlined]\u001b[39m\n",
      " [4] top-level scope\n",
      "\u001b[90m   @\u001b[39m \u001b[90mc:\\Users\\fx97izoz\\Documents\\iDiv\\julia_course\\iDiv-Julia-Workshop-2024\\Day1\\23_project_management\\\u001b[39m\u001b[90m\u001b[4mjl_notebook_cell_df34fa98e69747e1a8f8a730347b8e2f_X52sZmlsZQ==.jl:2\u001b[24m\u001b[39m\n",
      "\u001b[0m\u001b[1mTest Summary: | \u001b[22m\u001b[32m\u001b[1mPass  \u001b[22m\u001b[39m\u001b[91m\u001b[1mFail  \u001b[22m\u001b[39m\u001b[36m\u001b[1mTotal  \u001b[22m\u001b[39m\u001b[0m\u001b[1mTime\u001b[22m\n",
      "Valid input   | \u001b[32m   3  \u001b[39m\u001b[91m   1  \u001b[39m\u001b[36m    4  \u001b[39m\u001b[0m0.0s\n"
     ]
    },
    {
     "ename": "TestSetException",
     "evalue": "Some tests did not pass: 3 passed, 1 failed, 0 errored, 0 broken.",
     "output_type": "error",
     "traceback": [
      "Some tests did not pass: 3 passed, 1 failed, 0 errored, 0 broken.\n",
      "\n",
      "Stacktrace:\n",
      " [1] finish(ts::Test.DefaultTestSet)\n",
      "   @ Test C:\\Users\\fx97izoz\\AppData\\Local\\Programs\\Julia-1.9.0-rc2\\share\\julia\\stdlib\\v1.9\\Test\\src\\Test.jl:1151\n",
      " [2] macro expansion\n",
      "   @ C:\\Users\\fx97izoz\\AppData\\Local\\Programs\\Julia-1.9.0-rc2\\share\\julia\\stdlib\\v1.9\\Test\\src\\Test.jl:1514 [inlined]\n",
      " [3] top-level scope\n",
      "   @ c:\\Users\\fx97izoz\\Documents\\iDiv\\julia_course\\iDiv-Julia-Workshop-2024\\Day1\\23_project_management\\jl_notebook_cell_df34fa98e69747e1a8f8a730347b8e2f_X52sZmlsZQ==.jl:2"
     ]
    }
   ],
   "source": [
    "@testset \"Valid input\" begin\n",
    "    @test isapprox(calculate_pi(2*3.141*5, 5), π, atol=0.01)\n",
    "    @test isapprox(calculate_pi(2*3.1415*5, 5), π, atol=0.01)\n",
    "    @test isapprox(calculate_pi(2*3.14159*5, 5), π, atol=0.01)\n",
    "    @test isapprox(calculate_pi(2*3.1*5, 5), π, atol=0.01)\n",
    "end;"
   ]
  },
  {
   "cell_type": "markdown",
   "metadata": {},
   "source": [
    "#### Testing your package/project\n",
    "\n",
    "If you organize your work as a package, you can test it after activating your environment:\n",
    "\n",
    "```jl\n",
    "import Test, Pkg\n",
    "Pkg.activate .\n",
    "Test.test MyProject\n",
    "```"
   ]
  },
  {
   "cell_type": "markdown",
   "metadata": {
    "slideshow": {
     "slide_type": "slide"
    }
   },
   "source": [
    "### Continuous integration (CI)\n",
    "\n",
    " \n",
    "- Automatically run tests on each commit/push. \n",
    "\n",
    "- [GitHub Actions](https://docs.github.com/en/actions/about-github-actions/about-continuous-integration-with-github-actions) is free and available within GitHub. It is rather straight forward to use. Other tools are Travis and AppVeyor (not fully working for Julia yet).\n",
    "\n",
    "- GitHub Actions can also build documentation, check for code coverage, and [more](https://github.com/r-lib/actions/tree/v2/examples).\n",
    "\n",
    "- CI is based on `.yaml` files, which specify the environment to run the testing script. GitHub Actions has [examples for many languages](https://docs.github.com/en/actions/use-cases-and-examples). Unfortunately not yet for Julia, but the [community is working on it](https://github.com/julia-actions).\n",
    "\n",
    "Here is an example of a `.yaml` that will test your Julia package on different operating systems (linus, mac and Windows):\n",
    "\n",
    "```yaml\n",
    "name: Run tests\n",
    "\n",
    "on:\n",
    "  push:\n",
    "    branches:\n",
    "      - master\n",
    "      - main\n",
    "  pull_request:\n",
    "\n",
    "permissions:\n",
    "  actions: write\n",
    "  contents: read\n",
    "\n",
    "jobs:\n",
    "  test:\n",
    "    runs-on: ${{ matrix.os }}\n",
    "    strategy:\n",
    "      matrix:\n",
    "        julia-version: ['1.6', '1', 'nightly']\n",
    "        julia-arch: [x64, x86]\n",
    "        os: [ubuntu-latest, windows-latest, macOS-latest]\n",
    "        exclude:\n",
    "          - os: macOS-latest\n",
    "            julia-arch: x86\n",
    "\n",
    "    steps:\n",
    "      - uses: actions/checkout@v4\n",
    "      - uses: julia-actions/setup-julia@v1\n",
    "        with:\n",
    "          version: ${{ matrix.julia-version }}\n",
    "          arch: ${{ matrix.julia-arch }}\n",
    "      - uses: julia-actions/cache@v1\n",
    "      - uses: julia-actions/julia-buildpkg@v1\n",
    "      - uses: julia-actions/julia-runtest@v1\n",
    "```"
   ]
  },
  {
   "cell_type": "markdown",
   "metadata": {
    "slideshow": {
     "slide_type": "slide"
    }
   },
   "source": [
    "\n",
    "\n",
    "### Other types of tests\n",
    "\n",
    "- [**Docstring tests**](https://documenter.juliadocs.org/stable/man/doctests/): Unit tests embedded in docstrings.\n",
    "- **Integration tests**: Test whether multiple functions work correctly together. \n",
    "- **Regression tests**: Ensure your code produces the same outputs as previous versions.\n"
   ]
  },
  {
   "cell_type": "markdown",
   "metadata": {
    "slideshow": {
     "slide_type": "subslide"
    }
   },
   "source": [
    "\n",
    "### Cool tip\n",
    "You can include a cool badge to show visually whether your tests are passing or failing, like so\n",
    "\n",
    "[![Tests](https://github.com/vboussange/rere/actions/workflows/runtest.yml/badge.svg)](https://github.com/vboussange/rere/actions/workflows/runtest.yml)\n",
    "\n",
    "Cool right?\n"
   ]
  },
  {
   "cell_type": "markdown",
   "metadata": {},
   "source": [
    "# Conclusion\n",
    "\n",
    "Reproducibility of computational work is increasingly valued. \n",
    "Julia (and GitHub) offer several tools (listed in this section) to facilitate implementing good reproduciblity, so take advantage of them. It might require some ajustments in your workflow, but they will definitely be worth it."
   ]
  },
  {
   "cell_type": "markdown",
   "metadata": {
    "slideshow": {
     "slide_type": "slide"
    }
   },
   "source": [
    "\n",
    "## Launching scripts from the command line\n",
    "Specially if you are doing heavy work, that runs for longer times, using a shell script to run your Julia code might be better than using a notebook. Here is what this script could look like\n",
    "\n",
    "```sh\n",
    "#!/bin/bash\n",
    "date\n",
    "echo \"lauching script\"\n",
    "julia --project=. --threads 1 my-analysis.jl &> \"stdout/my-analysis.out\"\n",
    "wait\n",
    "echo \"computation over\"\n",
    "date\n",
    "```\n",
    "\n",
    "If this script is in a file called `run_my_analysis.sh`, you first need to make the file executable\n",
    "\n",
    "```sh\n",
    "chmod u+x run_my_analysis.sh\n",
    "```\n",
    "\n",
    "Once this is done, just run\n",
    "```sh\n",
    "./run_my_analysis.sh\n",
    "```\n",
    "\n",
    "And you'll get as output\n",
    "```\n",
    "Thu Mar 23 22:45:18 CET 2023\n",
    "lauching script\n",
    "computation over\n",
    "Thu Mar 23 22:45:30 CET 2023\n",
    "```\n"
   ]
  },
  {
   "cell_type": "markdown",
   "metadata": {},
   "source": [
    "# Your turn!\n",
    "\n",
    "- 💻[Exercise: Set up and play with your first Julia project!](exercise23.md) "
   ]
  },
  {
   "cell_type": "markdown",
   "metadata": {
    "slideshow": {
     "slide_type": "slide"
    }
   },
   "source": [
    "# More resources\n",
    "- [A multi-language overview on how to test your research project code](https://vboussange.github.io/post/testing-your-research-code/)\n",
    "- [Julia documentation on unit testing](https://docs.julialang.org/en/v1/stdlib/Test/)\n",
    "- [Modern Julia Workflows](https://modernjuliaworkflows.org)\n",
    "- [More on test-oriented development](https://julia.quantecon.org/software_engineering/testing.html)"
   ]
  }
 ],
 "metadata": {
  "celltoolbar": "Slideshow",
  "kernelspec": {
   "display_name": "Julia 1.9.0-rc2",
   "language": "julia",
   "name": "julia-1.9"
  },
  "language_info": {
   "file_extension": ".jl",
   "mimetype": "application/julia",
   "name": "julia",
   "version": "1.9.0-rc2"
  }
 },
 "nbformat": 4,
 "nbformat_minor": 2
}
