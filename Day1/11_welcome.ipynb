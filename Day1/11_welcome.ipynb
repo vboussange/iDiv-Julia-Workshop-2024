{
 "cells": [
  {
   "cell_type": "markdown",
   "id": "d94678ac",
   "metadata": {
    "slideshow": {
     "slide_type": "slide"
    }
   },
   "source": [
    "## Warm greetings to the 2023 Julia Workshop"
   ]
  },
  {
   "cell_type": "markdown",
   "id": "c8bbc0c5",
   "metadata": {
    "slideshow": {
     "slide_type": "fragment"
    }
   },
   "source": [
    "<p align=\"center\">\n",
    "  <img src=\"https://www.wsl.ch/fileadmin/user_upload/WSL/Veranstaltungen/2023_Veranstaltungen/Kleinere_VA/cover.png\" />\n",
    "</p>"
   ]
  },
  {
   "cell_type": "markdown",
   "id": "ed1677c3",
   "metadata": {
    "slideshow": {
     "slide_type": "fragment"
    }
   },
   "source": [
    "We're excited to have you all here today and next Monday to learn more about the Julia programming language and how it can leverage biodiversity and glaciology research."
   ]
  },
  {
   "attachments": {},
   "cell_type": "markdown",
   "id": "3fed90e1",
   "metadata": {
    "slideshow": {
     "slide_type": "slide"
    }
   },
   "source": [
    "This workshop is supported by the **WSL Biodiversity center**, so many thanks to them and to **Nadia Izaguirre** who helped all along with the logistics."
   ]
  },
  {
   "attachments": {},
   "cell_type": "markdown",
   "id": "498bf6e4",
   "metadata": {
    "slideshow": {
     "slide_type": "slide"
    }
   },
   "source": [
    "## In brief: who are we?\n",
    "\n",
    "Julia enthusiasts, who want to spread our experience!\n",
    "\n",
    "|Mauro (@mauro3)| Victor (@vboussange)|\n",
    "|-|-|\n",
    "Glaciology @ WSL and ETHZ | Ecosystems and Landscape Evolution <br /> @ WSL and ETHZ (L. Pellissier)\n",
    "Mountain Hydrology and Mass Movements|Land Change Science\n",
    "http://maurow.bitbucket.io/|https://vboussange.github.io\n",
    "![](https://maurow.bitbucket.io/img/werder.jpg)|<div><img src=\"https://vboussange.github.io/authors/admin/avatar_hue95c9cac2955bb5fc8cb56628af3154e_174591_270x270_fill_q75_lanczos_center.jpg\" width=\"200\"/></div>\n",
    "Glacier hydraulics <br /> Subglacial sediment transport <br /> Bayesian inversions <br /> Laboratory experiments|Ecology and evolution <br /> Mathematical modeling <br /> Scientific machine learning <br /> Complex systems\n",
    "Coding with Julia since v0.2 (2013) | Coding with Julia since v1.0 (2018)"
   ]
  },
  {
   "cell_type": "markdown",
   "id": "cc1a5e11",
   "metadata": {
    "slideshow": {
     "slide_type": "slide"
    }
   },
   "source": [
    "## Brief round of introductions\n",
    "\n",
    "- name\n",
    "- research / work interestes\n",
    "- previous programming experience\n",
    "- why you are here"
   ]
  },
  {
   "cell_type": "markdown",
   "id": "850cbaf1",
   "metadata": {
    "slideshow": {
     "slide_type": "slide"
    }
   },
   "source": [
    "## Objectives"
   ]
  },
  {
   "cell_type": "markdown",
   "id": "50d1fa26",
   "metadata": {
    "slideshow": {
     "slide_type": "fragment"
    }
   },
   "source": [
    "The goal of this workshop is to provide you with a hands-on learning experience and the opportunity to deepen your knowledge of Julia. Over the course of these two days, we'll cover topics ranging from basic syntax and data types to geospatial data handling, parallel computing, and project-oriented sessions.\n",
    "\n",
    "We will cover basic and more advanced topics. Do not worry if you do not get all of it - that's OK!\n",
    "\n",
    "⚠️ We discourage you to ask ChatGPT to do the exercises for you - it is a great tool for productivity but not so much to learn!"
   ]
  },
  {
   "cell_type": "markdown",
   "id": "fe8a7d03",
   "metadata": {
    "slideshow": {
     "slide_type": "slide"
    }
   },
   "source": [
    "# Planning"
   ]
  },
  {
   "cell_type": "markdown",
   "id": "983db0a2",
   "metadata": {
    "slideshow": {
     "slide_type": "subslide"
    }
   },
   "source": [
    "### Today\n",
    "\n",
    "To learn about Julia and its ecosystem, we will have:\n",
    "- talks\n",
    "- interactive sessions\n",
    "- exercises\n",
    "\n",
    "Coffee breaks in the morning and afternoon\n",
    "\n",
    "Lunch break 12:20 - 13:30\n",
    "\n",
    "Apero ~ 17:00"
   ]
  },
  {
   "cell_type": "markdown",
   "id": "5e9334b6",
   "metadata": {
    "slideshow": {
     "slide_type": "subslide"
    }
   },
   "source": [
    "### Monday\n",
    "\n",
    "- talks\n",
    "- project work in teams\n",
    "  - set projects in biodiversity and glaciology\n",
    "  - it maybe possible to work on a project set by yourself, bring it along\n",
    "\n",
    "Start 9:00\n",
    "\n",
    "Coffee breaks in the morning and afternoon\n",
    "\n",
    "Lunch break 12:20 - 13:30\n",
    "\n",
    "Finish around 17:00"
   ]
  },
  {
   "cell_type": "markdown",
   "id": "0af4ad12",
   "metadata": {
    "slideshow": {
     "slide_type": "slide"
    }
   },
   "source": [
    "# Let's get started\n",
    "\n",
    "- ask questions\n",
    "- collaborate with others\n",
    "- get your hands dirty"
   ]
  }
 ],
 "metadata": {
  "celltoolbar": "Slideshow",
  "kernelspec": {
   "display_name": "Julia 1.8.3",
   "language": "julia",
   "name": "julia-1.8"
  },
  "language_info": {
   "file_extension": ".jl",
   "mimetype": "application/julia",
   "name": "julia",
   "version": "1.8.3"
  }
 },
 "nbformat": 4,
 "nbformat_minor": 5
}
