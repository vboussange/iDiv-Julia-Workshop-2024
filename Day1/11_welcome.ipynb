{
 "cells": [
  {
   "cell_type": "markdown",
   "id": "d94678ac",
   "metadata": {
    "slideshow": {
     "slide_type": "slide"
    }
   },
   "source": [
    "## Warm greetings to the yDiv Julia Workshop 2024!\n",
    "\n",
    "*Practical introduction to*\n",
    "\n",
    "<p align=\"center\">\n",
    "  <img src=\"https://julialang.org/assets/infra/logo.svg\" />\n",
    "</p>\n",
    "\n",
    "*for biodiversity research*"
   ]
  },
  {
   "cell_type": "markdown",
   "id": "ed1677c3",
   "metadata": {
    "slideshow": {
     "slide_type": "fragment"
    }
   },
   "source": [
    "We're excited to have you all here for three days to learn about the Julia programming language and how it can leverage your research!"
   ]
  },
  {
   "attachments": {},
   "cell_type": "markdown",
   "id": "3fed90e1",
   "metadata": {
    "slideshow": {
     "slide_type": "slide"
    }
   },
   "source": [
    "This workshop is supported by the **iDiv graduate school and Postdoc Programm**, so many thanks to them and to **Nicole Sachmerda-Schulz** and **Oskar Hagen** who helped all along with the logistics."
   ]
  },
  {
   "attachments": {},
   "cell_type": "markdown",
   "id": "498bf6e4",
   "metadata": {
    "slideshow": {
     "slide_type": "slide"
    }
   },
   "source": [
    "## In brief: who are we?\n",
    "\n",
    "Julia enthusiasts, who want to spread our experience!"
   ]
  },
  {
   "cell_type": "markdown",
   "id": "62b691fa",
   "metadata": {
    "slideshow": {
     "slide_type": "subslide"
    }
   },
   "source": [
    "\n",
    "| Daniel (@veddox) |\n",
    "| ---------------- |\n",
    "| <div><img src=\"https://www.ufz.de/export/data/2/261355_daniel_idiv_1.jpg\" width=\"200\"/></div> |\n"
   ]
  },
  {
   "cell_type": "markdown",
   "id": "19a024ab",
   "metadata": {
    "slideshow": {
     "slide_type": "subslide"
    }
   },
   "source": [
    "\n",
    "\n",
    "| Victor (@vboussange) |\n",
    "| -------------------- |\n",
    "| Dynamic Macroecology Group <br /> @ Swiss Federal Research Institute for Forest,  <br /> Snow and Landscape Research (WSL) |\n",
    "| <div><img src=\"https://vboussange.github.io/authors/admin/avatar_hue95c9cac2955bb5fc8cb56628af3154e_174591_270x270_fill_q75_lanczos_center.jpg\" width=\"200\"/></div> |\n",
    "| Macroecology <br /> Dynamical systems <br /> Scientific machine learning |\n",
    "| Coding with Julia since v1.0 (2018) |\n"
   ]
  },
  {
   "cell_type": "markdown",
   "id": "6313b65e",
   "metadata": {
    "slideshow": {
     "slide_type": "subslide"
    }
   },
   "source": [
    "\n",
    "| Francesco (@MartinuzziFrancesco) |\n",
    "| -------------------------------- |\n",
    "| <div><img src=\"https://martinuzzifrancesco.github.io/images/avatar_hu17062da661b27f2ecdafb6cddbb3c4a1_265177_300x300_resize_box_3.png\" width=\"200\"/></div> |\n",
    "\n"
   ]
  },
  {
   "cell_type": "markdown",
   "id": "ae48a08d",
   "metadata": {
    "slideshow": {
     "slide_type": "subslide"
    }
   },
   "source": [
    "\n",
    "| Ludmilla (@ludmillafigueiredo) |\n",
    "| ------------------------------ |\n",
    "| <div><img src=\"https://www.idiv.de/fileadmin/_processed_/c/f/csm_Ludmilla-Figueiredo-2024_f25c0b6230.jpg\" width=\"200\"/></div> |"
   ]
  },
  {
   "cell_type": "markdown",
   "id": "cc1a5e11",
   "metadata": {
    "slideshow": {
     "slide_type": "slide"
    }
   },
   "source": [
    "## Brief round of introductions\n",
    "\n",
    "- name\n",
    "- research / work interestes\n",
    "- previous programming experience\n",
    "- why you are here"
   ]
  },
  {
   "cell_type": "markdown",
   "id": "850cbaf1",
   "metadata": {
    "slideshow": {
     "slide_type": "slide"
    }
   },
   "source": [
    "## Unrolling the workshop\n"
   ]
  },
  {
   "cell_type": "markdown",
   "id": "620c8603",
   "metadata": {
    "slideshow": {
     "slide_type": "subslide"
    }
   },
   "source": [
    "\n",
    "<div>\n",
    "<img src=\"ydiv_workshop_qr.png\" width=\"500\"/>\n",
    "</div>\n",
    "\n",
    "https://github.com/vboussange/iDiv-Julia-Workshop-2024"
   ]
  },
  {
   "cell_type": "markdown",
   "id": "50d1fa26",
   "metadata": {
    "slideshow": {
     "slide_type": "subslide"
    }
   },
   "source": [
    "- Day 1: Intro to Julia, basic syntax\n",
    "- Day 2: Advanced Julia use and project kick-off\n",
    "- Day 3: Project-oriented day"
   ]
  },
  {
   "cell_type": "markdown",
   "id": "983db0a2",
   "metadata": {
    "slideshow": {
     "slide_type": "subslide"
    }
   },
   "source": [
    "To learn about Julia and its ecosystem, we will have:\n",
    "- talks\n",
    "- interactive sessions\n",
    "- exercises\n",
    "\n",
    "Coffee breaks in the morning and afternoon\n",
    "\n",
    "Lunch break 12:20 - 13:30\n",
    "\n",
    "Beers ~ 17:00"
   ]
  },
  {
   "cell_type": "markdown",
   "id": "0db731b7",
   "metadata": {
    "slideshow": {
     "slide_type": "subslide"
    }
   },
   "source": [
    "### A note on projects\n",
    "- project work in teams\n",
    "  - check out the proposed projects on the github repo\n",
    "    - some are purposely easier than others\n",
    "  - it may be possible to work on a project set by yourself, let's discuss it at coffee breaks!\n"
   ]
  },
  {
   "cell_type": "markdown",
   "id": "0af4ad12",
   "metadata": {
    "slideshow": {
     "slide_type": "slide"
    }
   },
   "source": [
    "# Let's get started\n",
    "\n",
    "- ask questions\n",
    "- collaborate with others\n",
    "- get your hands dirty"
   ]
  }
 ],
 "metadata": {
  "celltoolbar": "Slideshow",
  "kernelspec": {
   "display_name": "Julia 1.8.3",
   "language": "julia",
   "name": "julia-1.8"
  },
  "language_info": {
   "file_extension": ".jl",
   "mimetype": "application/julia",
   "name": "julia",
   "version": "1.8.3"
  }
 },
 "nbformat": 4,
 "nbformat_minor": 5
}
