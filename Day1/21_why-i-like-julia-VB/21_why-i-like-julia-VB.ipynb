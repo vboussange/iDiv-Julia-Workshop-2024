{
 "cells": [
  {
   "cell_type": "markdown",
   "metadata": {
    "slideshow": {
     "slide_type": "slide"
    }
   },
   "source": [
    "# Why I like Julia\n",
    "by Victor Boussange"
   ]
  },
  {
   "cell_type": "markdown",
   "metadata": {
    "slideshow": {
     "slide_type": "slide"
    }
   },
   "source": [
    "## Julia is expressive and understandable"
   ]
  },
  {
   "cell_type": "markdown",
   "metadata": {
    "slideshow": {
     "slide_type": "slide"
    }
   },
   "source": [
    "\n",
    "- This allows you to easily contribute to packages ➡️ this makes you more useful in this world\n",
    "\n"
   ]
  },
  {
   "cell_type": "markdown",
   "metadata": {
    "slideshow": {
     "slide_type": "slide"
    }
   },
   "source": [
    "- The language is **emoji friendly**! This is how you would define a Lotka Volterra system in Julia"
   ]
  },
  {
   "cell_type": "code",
   "execution_count": 1,
   "metadata": {
    "slideshow": {
     "slide_type": "fragment"
    }
   },
   "outputs": [
    {
     "data": {
      "text/plain": [
       "lotka_volterra! (generic function with 1 method)"
      ]
     },
     "metadata": {},
     "output_type": "display_data"
    }
   ],
   "source": [
    "function lotka_volterra!(du, u, p, t)\n",
    "    α, β, γ, δ = p\n",
    "    🐰, 🦊 = u\n",
    "    d🐰, d🦊 = du\n",
    "    d🐰 = α * 🐰 - β * 🦊 * 🐰\n",
    "    d🦊 = γ*🐰 * 🦊  - δ * 🦊\n",
    "end"
   ]
  },
  {
   "cell_type": "markdown",
   "metadata": {
    "slideshow": {
     "slide_type": "slide"
    }
   },
   "source": [
    "## Julia is interactive\n",
    "\n",
    "- Amazing IDE with VS code and inline prompts\n",
    "\n",
    "![](https://code.visualstudio.com/assets/docs/languages/julia/overview.png)\n",
    "\n",
    "- Julia code can be **developed interactively** on a remote server. More on that later on.\n"
   ]
  },
  {
   "cell_type": "markdown",
   "metadata": {
    "slideshow": {
     "slide_type": "slide"
    }
   },
   "source": [
    "## Community well organized\n",
    "\n",
    "Documentation is consistent and pleasant to access\n",
    "\n",
    "![](img/Optimization.jl.png)"
   ]
  },
  {
   "cell_type": "markdown",
   "metadata": {
    "slideshow": {
     "slide_type": "slide"
    }
   },
   "source": [
    "## Package management\n",
    "\n",
    "Julia provides a **built-in package** manager called `Pkg` for **managing packages and environments**. Users can create a new environment and add specific packages to it, and each environment has its own set of dependencies. Julia also allows users to switch between different environments easily.\n",
    "\n",
    "<div align=\"center\"><img src=\"https://pkgdocs.julialang.org/v1/assets/logo.png\" width=\"400\"></img> </div>\n",
    "\n",
    "More on that later on!"
   ]
  },
  {
   "cell_type": "markdown",
   "metadata": {
    "slideshow": {
     "slide_type": "slide"
    }
   },
   "source": [
    "## Productivity\n",
    "\n",
    "- Research script can be easily transformed into **packages**, directly available to the community"
   ]
  },
  {
   "attachments": {},
   "cell_type": "markdown",
   "metadata": {
    "slideshow": {
     "slide_type": "slide"
    }
   },
   "source": [
    "## Execution speed!\n",
    "\n",
    "During my PhD, I have been interested in eco-evolutionary dynamics\n",
    "\n",
    "![](img/differentiation.png)\n"
   ]
  },
  {
   "attachments": {},
   "cell_type": "markdown",
   "metadata": {
    "slideshow": {
     "slide_type": "slide"
    }
   },
   "source": [
    "I needed to build an individual based model and run **MANY** simulations.\n",
    "\n",
    "### [EvoId.jl](https://github.com/vboussange/EvoId.jl)\n",
    "Evolutionary Individual based modelling, mathematically grounded. A user friendly package aimed at simulating the evolutionary dynamics of a population structured over a complex spatio-evolutionary structures.\n",
    "\n",
    "<div align=\"center\"><img src=\"https://github.com/vboussange/EvoId.jl/raw/master/docs/src/assets/gif_evoid.gif\" width=\"400\"></img> </div>"
   ]
  },
  {
   "attachments": {},
   "cell_type": "markdown",
   "metadata": {
    "slideshow": {
     "slide_type": "slide"
    }
   },
   "source": [
    "That got me myy first article!\n",
    "\n",
    "![](img/combio.png)"
   ]
  },
  {
   "cell_type": "markdown",
   "metadata": {
    "slideshow": {
     "slide_type": "slide"
    }
   },
   "source": [
    "## World class differential equation solver\n",
    "\n",
    "`DifferentialEquations.jl` is one of the best library that exists for solving differential equations.\n",
    "\n",
    "Differential equations are everywhere in science!\n",
    "\n",
    "Here is a benchmark where the task consists of solving a certain differential equation model\n",
    "\n",
    "![](https://docs.sciml.ai/SciMLBenchmarksOutput/stable/MultiLanguage/figures/wrapper_packages_2_1.png)\n",
    "\n",
    "#### Resources\n",
    "- [Julia micro-benchmarks](https://julialang.org/benchmarks/)\n",
    "- [SciML benchmarks](https://docs.sciml.ai/SciMLBenchmarksOutput/stable/MultiLanguage/ode_wrapper_packages/)"
   ]
  },
  {
   "attachments": {},
   "cell_type": "markdown",
   "metadata": {
    "slideshow": {
     "slide_type": "subslide"
    }
   },
   "source": [
    "I needed to play with many ecological (ODE) models. To facilitate this task, I have written\n",
    "\n",
    "### [ParametricModels.jl](https://github.com/vboussange/ParametricModels.jl)\n",
    "**A wrapper package to facilitate the handling of ODE models.**"
   ]
  },
  {
   "attachments": {},
   "cell_type": "markdown",
   "metadata": {
    "slideshow": {
     "slide_type": "subslide"
    }
   },
   "source": [
    "and further used ParametricModels.jl to build\n",
    "\n",
    "### [EcoEvoModelZoo.jl](https://github.com/vboussange/EcoEvoModelZoo.jl)\n",
    "**A zoo of eco-evolutionary models with high fitness.**\n",
    "<div align=\"center\"><img src=\"https://github.com/vboussange/EcoEvoModelZoo.jl/raw/main/docs/src/time_series_5_species_ecosyste_model.png\" width=\"800\"></img> </div>"
   ]
  },
  {
   "attachments": {},
   "cell_type": "markdown",
   "metadata": {
    "slideshow": {
     "slide_type": "slide"
    }
   },
   "source": [
    "## Composability of libraries and scientific ML\n",
    "\n",
    "### The [SciML](https://sciml.ai) ecosystem\n",
    "\n",
    "SciML is a composable open source software for scientific machine learning with differentiable programming.\n",
    "   -  Read [this very cool paper](https://arxiv.org/abs/2001.04385) introducing the [SciML software ecosystem]\n",
    " "
   ]
  },
  {
   "cell_type": "markdown",
   "metadata": {
    "slideshow": {
     "slide_type": "slide"
    }
   },
   "source": [
    "\n",
    "  \n",
    "#### [Using Deep Learning libraries in combination with ODE solvers](ode_solvers_with_DL.jl)\n",
    "\n",
    "```julia\n",
    "function lotka_volterra(u, p, t)\n",
    "    weights_nn, α, δ = p\n",
    "    🐰, 🦊 = u\n",
    "\n",
    "    nn_res = neuralnet(🦊, 🐰, weights_nn)\n",
    "\n",
    "    d🐰 = α * 🐰 - nn_res[1]\n",
    "    d🦊 = nn_res[2]  - δ * 🦊\n",
    "\n",
    "    return [d🐰, d🦊]\n",
    "end\n",
    "```"
   ]
  },
  {
   "cell_type": "markdown",
   "metadata": {
    "slideshow": {
     "slide_type": "slide"
    }
   },
   "source": [
    "### Bayesian inference framework with deep learning\n",
    "\n",
    "[Here is another cool example](https://turinglang.org/v0.24/tutorials/03-bayesian-neural-network/) of composability between [`Turing.jl`](https://turinglang.org/v0.24/) and `Flux.jl`\n",
    "\n",
    "![](https://turinglang.org/v0.24/tutorials/figures/03_bayesian-neural-network_9_1.png)"
   ]
  },
  {
   "attachments": {},
   "cell_type": "markdown",
   "metadata": {
    "slideshow": {
     "slide_type": "slide"
    }
   },
   "source": [
    "It turns out I have contributed to SciML by releasing my first registered Julia package\n",
    "\n",
    "### [HighDimPDE.jl](https://github.com/SciML/HighDimPDE.jl)\n",
    "Solver for **highly dimensional, non-local, nonlinear PDEs** of the form\n",
    "\n",
    "$$\n",
    "\\begin{aligned}\n",
    "    (\\partial_t u)(t,x) &= \\int_{\\Omega} f\\big(t,x,{\\bf x}, u(t,x),u(t,{\\bf x}), ( \\nabla_x u )(t,x ),( \\nabla_x u )(t,{\\bf x} ) \\big) d{\\bf x} \\\\\n",
    "    & \\quad + \\big\\langle \\mu(t,x), ( \\nabla_x u )( t,x ) \\big\\rangle + \\tfrac{1}{2} \\text{Trace} \\big(\\sigma(t,x) [ \\sigma(t,x) ]^* ( \\text{Hess}_x u)(t, x ) \\big).\n",
    "\\end{aligned}\n",
    "$$\n",
    "\n",
    "where $u \\colon [0,T] \\times \\Omega \\to \\mathbb{R}, \\Omega \\subseteq \\mathbb{R}^{d}$ is subject to initial and boundary conditions, and where $d$ is large."
   ]
  },
  {
   "attachments": {},
   "cell_type": "markdown",
   "metadata": {
    "slideshow": {
     "slide_type": "subslide"
    }
   },
   "source": [
    "I have also relied on the SciML ecosystem to build a library purposed to perform inverse ecological modeling\n",
    "\n",
    "### [PiecewiseInference.jl](https://github.com/vboussange/PiecewiseInference.jl)\n",
    "Suite for parameter inference and model selection with dynamical models characterised by complex dynamics.\n",
    "<div align=\"center\"><img src=\"https://github.com/vboussange/PiecewiseInference.jl/raw/main/docs/animated.gif\n",
    "\" width=\"400\"></img> </div>"
   ]
  },
  {
   "cell_type": "markdown",
   "metadata": {
    "slideshow": {
     "slide_type": "slide"
    }
   },
   "source": [
    "## Caveat: trial-and-error development process\n",
    "\n",
    "Julia is still in a trial and development process. You may expect some bugs in the libraries from time to time, or some rapid changes in syntax."
   ]
  }
 ],
 "metadata": {
  "celltoolbar": "Slideshow",
  "kernelspec": {
   "display_name": "Julia 1.8.5",
   "language": "julia",
   "name": "julia-1.8"
  },
  "language_info": {
   "file_extension": ".jl",
   "mimetype": "application/julia",
   "name": "julia",
   "version": "1.8.5"
  }
 },
 "nbformat": 4,
 "nbformat_minor": 2
}
