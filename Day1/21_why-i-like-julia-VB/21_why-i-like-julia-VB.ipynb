{
 "cells": [
  {
   "cell_type": "markdown",
   "metadata": {
    "slideshow": {
     "slide_type": "slide"
    }
   },
   "source": [
    "# Why I like Julia\n",
    "by Victor Boussange"
   ]
  },
  {
   "cell_type": "markdown",
   "metadata": {
    "slideshow": {
     "slide_type": "slide"
    }
   },
   "source": [
    "## Julia is expressive and understandable"
   ]
  },
  {
   "cell_type": "markdown",
   "metadata": {
    "slideshow": {
     "slide_type": "subslide"
    }
   },
   "source": [
    "- This allows to easily understand the functions that you are using\n",
    "\n",
    "- This allows you to easily contribute to packages ➡️ makes you more useful in this world\n",
    "\n"
   ]
  },
  {
   "cell_type": "code",
   "execution_count": null,
   "metadata": {
    "slideshow": {
     "slide_type": "fragment"
    }
   },
   "outputs": [],
   "source": [
    "function RSP_betweenness_qweighted(W::SparseMatrixCSC,\n",
    "    Z::AbstractMatrix,\n",
    "    qˢ::AbstractVector,\n",
    "    qᵗ::AbstractVector,\n",
    "    targetnodes::AbstractVector)\n",
    "\n",
    "    Zⁱ = inv.(Z)\n",
    "    Zⁱ[.!isfinite.(Zⁱ)] .= floatmax(eltype(Z)) # To prevent Inf*0 later...\n",
    "\n",
    "    qˢZⁱqᵗ = qˢ .* Zⁱ .* qᵗ'\n",
    "    sumqˢ = sum(qˢ)\n",
    "    for j in axes(Z, 2)\n",
    "        qˢZⁱqᵗ[targetnodes[j], j] -=  sumqˢ * qᵗ[j] * Zⁱ[targetnodes[j], j]\n",
    "    end\n",
    "\n",
    "    ZqˢZⁱqᵗZt = (I - W)'\\qˢZⁱqᵗ\n",
    "    ZqˢZⁱqᵗZt .*= Z\n",
    "\n",
    "    return sum(ZqˢZⁱqᵗZt, dims=2) # diag(Z * ZqˢZⁱqᵗ')\n",
    "end"
   ]
  },
  {
   "cell_type": "markdown",
   "metadata": {
    "slideshow": {
     "slide_type": "slide"
    }
   },
   "source": [
    "## Julia is interactive\n"
   ]
  },
  {
   "cell_type": "markdown",
   "metadata": {
    "slideshow": {
     "slide_type": "subslide"
    }
   },
   "source": [
    "\n",
    "- Amazing IDE with VS code and inline prompts\n",
    "\n",
    "![](https://code.visualstudio.com/assets/docs/languages/julia/overview.png)\n"
   ]
  },
  {
   "cell_type": "markdown",
   "metadata": {
    "slideshow": {
     "slide_type": "subslide"
    }
   },
   "source": [
    "\n",
    "- Julia code can be **developed interactively** on a remote server. More on that later on.\n"
   ]
  },
  {
   "cell_type": "markdown",
   "metadata": {
    "slideshow": {
     "slide_type": "slide"
    }
   },
   "source": [
    "## Community well organized\n",
    "\n",
    "Documentation is consistent and pleasant to access\n",
    "\n",
    "![](img/Optimization.jl.png)"
   ]
  },
  {
   "cell_type": "markdown",
   "metadata": {
    "slideshow": {
     "slide_type": "slide"
    }
   },
   "source": [
    "## Julia has a built-in package manager\n",
    "\n",
    "Julia provides a **built-in package** manager called `Pkg` for **managing packages and environments**. Users can create a new environment and add specific packages to it, and each environment has its own set of dependencies. Julia also allows users to switch between different environments easily.\n",
    "\n",
    "<div align=\"center\"><img src=\"https://pkgdocs.julialang.org/v1/assets/logo.png\" width=\"400\"></img> </div>\n",
    "\n",
    "More on that later on!"
   ]
  },
  {
   "cell_type": "markdown",
   "metadata": {
    "slideshow": {
     "slide_type": "slide"
    }
   },
   "source": [
    "## Julia makes you productive\n"
   ]
  },
  {
   "cell_type": "markdown",
   "metadata": {
    "slideshow": {
     "slide_type": "subslide"
    }
   },
   "source": [
    "\n",
    "- It is easy to write generic code (with a bit of luck, a certain piece of Julia code can be directly ported to GPUs!)\n",
    "\n",
    "- Research script can be easily transformed into **packages**, directly available to the community"
   ]
  },
  {
   "cell_type": "markdown",
   "metadata": {
    "slideshow": {
     "slide_type": "subslide"
    }
   },
   "source": [
    "### [EvoId.jl](https://github.com/vboussange/EvoId.jl)\n",
    "\n",
    "A user friendly package aimed at simulating the evolutionary dynamics of a population structured over a complex spatio-evolutionary structures.\n",
    "\n",
    "<div align=\"center\"><img src=\"https://github.com/vboussange/EvoId.jl/raw/master/docs/src/assets/gif_evoid.gif\" width=\"400\"></img> </div>"
   ]
  },
  {
   "cell_type": "markdown",
   "metadata": {
    "slideshow": {
     "slide_type": "subslide"
    }
   },
   "source": [
    "### [HighDimPDE.jl](https://github.com/SciML/HighDimPDE.jl)\n",
    "Solver for **highly dimensional, non-local, nonlinear PDEs** of the form."
   ]
  },
  {
   "cell_type": "markdown",
   "metadata": {
    "slideshow": {
     "slide_type": "subslide"
    }
   },
   "source": [
    "### [PiecewiseInference.jl](https://github.com/vboussange/PiecewiseInference.jl)\n",
    "Suite for parameter inference and model selection with dynamical models characterised by complex dynamics.\n",
    "<div align=\"center\"><img src=\"https://github.com/vboussange/PiecewiseInference.jl/raw/main/docs/animated.gif\n",
    "\" width=\"400\"></img> </div>"
   ]
  },
  {
   "attachments": {},
   "cell_type": "markdown",
   "metadata": {
    "slideshow": {
     "slide_type": "slide"
    }
   },
   "source": [
    "## Execution speed!\n"
   ]
  },
  {
   "cell_type": "markdown",
   "metadata": {
    "slideshow": {
     "slide_type": "subslide"
    }
   },
   "source": [
    "\n",
    "Julia is great for fast simulations (differential equations, agent-based models, etc...)\n"
   ]
  },
  {
   "cell_type": "markdown",
   "metadata": {
    "slideshow": {
     "slide_type": "subslide"
    }
   },
   "source": [
    "\n",
    "#### `DifferentialEquations.jl` \n",
    "is one of the best library that exists for solving differential equations.\n",
    "\n",
    "Here is a benchmark where the task consists of solving a certain differential equation model\n",
    "\n",
    "![](https://docs.sciml.ai/SciMLBenchmarksOutput/stable/MultiLanguage/figures/wrapper_packages_2_1.png)\n",
    "\n",
    "#### Resources\n",
    "- [Julia micro-benchmarks](https://julialang.org/benchmarks/)\n",
    "- [SciML benchmarks](https://docs.sciml.ai/SciMLBenchmarksOutput/stable/MultiLanguage/ode_wrapper_packages/)"
   ]
  },
  {
   "cell_type": "markdown",
   "metadata": {
    "slideshow": {
     "slide_type": "slide"
    }
   },
   "source": [
    "## Composability\n"
   ]
  },
  {
   "cell_type": "markdown",
   "metadata": {
    "slideshow": {
     "slide_type": "subslide"
    }
   },
   "source": [
    "\n",
    "Packages can be composed at ease.\n"
   ]
  },
  {
   "cell_type": "code",
   "execution_count": 2,
   "metadata": {
    "slideshow": {
     "slide_type": "subslide"
    }
   },
   "outputs": [
    {
     "data": {
      "text/plain": [
       "48-element Vector{Measurement{Float64}}:\n",
       "    1.0 ± 0.1\n",
       "  0.968 ± 0.097\n",
       "  0.932 ± 0.096\n",
       "  0.888 ± 0.096\n",
       "  0.842 ± 0.098\n",
       "   0.79 ± 0.1\n",
       "   0.74 ± 0.11\n",
       "   0.69 ± 0.11\n",
       "   0.64 ± 0.12\n",
       "   0.59 ± 0.12\n",
       "        ⋮\n",
       "  0.015 ± 0.022\n",
       "  0.013 ± 0.019\n",
       "  0.011 ± 0.017\n",
       " 0.0089 ± 0.015\n",
       " 0.0073 ± 0.013\n",
       "  0.006 ± 0.011\n",
       " 0.0049 ± 0.0091\n",
       "  0.004 ± 0.0077\n",
       " 0.0032 ± 0.0065"
      ]
     },
     "metadata": {},
     "output_type": "display_data"
    }
   ],
   "source": [
    "using OrdinaryDiffEq, Measurements\n",
    "\n",
    "#Half-life of Carbon-14 is 5730 years.\n",
    "c = 5.730 ± 2\n",
    "\n",
    "#Setup\n",
    "u0 = 1.0 ± 0.1\n",
    "tspan = (0.0, 1.0)\n",
    "\n",
    "#Define the problem\n",
    "radioactivedecay(u,p,t) = -c*u\n",
    "\n",
    "#Pass to solver\n",
    "prob = ODEProblem(radioactivedecay,u0,tspan)\n",
    "sol = solve(prob, Tsit5(), reltol=1e-8, abstol=1e-8)\n",
    "sol.u"
   ]
  },
  {
   "cell_type": "markdown",
   "metadata": {
    "slideshow": {
     "slide_type": "slide"
    }
   },
   "source": [
    "## Automatic differentiation\n"
   ]
  },
  {
   "cell_type": "markdown",
   "metadata": {
    "slideshow": {
     "slide_type": "subslide"
    }
   },
   "source": [
    "\n",
    "- **Julia is automatic differentiation pervasive**\n",
    "- You can differentiate any function written in Julia, which is very useful **model calibration and Bayesian inference** (and for Deep Learning).\n",
    "\n",
    "```julia\n",
    "using ForwarDiff\n",
    "\n",
    "my_custom_model(p) = ...\n",
    "ForwardDiff.derivative(my_custom_model, p)\n",
    "```\n"
   ]
  },
  {
   "cell_type": "markdown",
   "metadata": {
    "slideshow": {
     "slide_type": "subslide"
    }
   },
   "source": [
    "\n",
    "In other languages, you need to write your model in a specific library to differentiate it (Stan, JAX, Pytorch)...\n",
    "In Julia, \n",
    "*Write code first, choose AD second (and maybe adapt code).*\n",
    "\n",
    "### More on AD\n",
    "- https://gdalle.github.io/AutodiffTutorial/\n",
    "\n",
    "- > *Differentiable Programming for Differential Equations: A Review*, Sapienza et al. (2024) [arXiv](https://arxiv.org/abs/2406.09699) \n"
   ]
  },
  {
   "cell_type": "markdown",
   "metadata": {
    "slideshow": {
     "slide_type": "slide"
    }
   },
   "source": [
    "### Applications of AD and composability\n"
   ]
  },
  {
   "cell_type": "markdown",
   "metadata": {
    "slideshow": {
     "slide_type": "subslide"
    }
   },
   "source": [
    "\n",
    "#### [Parametrizing a process in a process-based model with a neural network](ode_solvers_with_DL.jl)\n",
    "\n",
    "```julia\n",
    "function lotka_volterra(u, p, t)\n",
    "    weights_nn, α, δ = p\n",
    "    🐰, 🦊 = u\n",
    "\n",
    "    nn_res = neuralnet(🦊, 🐰, weights_nn)\n",
    "\n",
    "    d🐰 = α * 🐰 - nn_res[1]\n",
    "    d🦊 = nn_res[2]  - δ * 🦊\n",
    "\n",
    "    return [d🐰, d🦊]\n",
    "end\n",
    "```"
   ]
  },
  {
   "cell_type": "markdown",
   "metadata": {
    "slideshow": {
     "slide_type": "subslide"
    }
   },
   "source": [
    "#### Bayesian inference framework with deep learning\n",
    "\n",
    "[Here is another cool example](https://turinglang.org/v0.24/tutorials/03-bayesian-neural-network/) of composability between [`Turing.jl`](https://turinglang.org/v0.24/) and `Flux.jl`\n",
    "\n",
    "![](https://turinglang.org/v0.24/tutorials/figures/03_bayesian-neural-network_9_1.png)"
   ]
  },
  {
   "cell_type": "markdown",
   "metadata": {
    "slideshow": {
     "slide_type": "slide"
    }
   },
   "source": [
    "## Caveat: trial-and-error development process\n",
    "\n",
    "Julia is still in a trial and development process. You may expect some bugs in the libraries from time to time, or some rapid changes in syntax."
   ]
  }
 ],
 "metadata": {
  "celltoolbar": "Slideshow",
  "kernelspec": {
   "display_name": "Julia 1.10.2",
   "language": "julia",
   "name": "julia-1.10"
  },
  "language_info": {
   "file_extension": ".jl",
   "mimetype": "application/julia",
   "name": "julia",
   "version": "1.10.2"
  }
 },
 "nbformat": 4,
 "nbformat_minor": 2
}
